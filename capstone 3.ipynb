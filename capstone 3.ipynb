{
 "cells": [
  {
   "cell_type": "code",
   "execution_count": 55,
   "metadata": {},
   "outputs": [],
   "source": [
    "import matplotlib.pyplot as plt\n",
    "import numpy as np\n",
    "import pandas as pd\n",
    "import seaborn as sns\n",
    "sns.set_style('white')\n",
    "import warnings\n",
    "warnings.filterwarnings(\"ignore\")\n",
    "from itertools import cycle\n",
    "from sklearn.preprocessing import normalize\n",
    "from sklearn.model_selection import train_test_split\n",
    "from sklearn.decomposition import PCA\n",
    "from sklearn import metrics\n",
    "from sklearn.metrics import pairwise_distances\n",
    "from sklearn.cluster import MeanShift, estimate_bandwidth\n",
    "from sklearn.cluster import SpectralClustering\n",
    "from sklearn.cluster import AffinityPropagation\n",
    "from sklearn.cluster import KMeans"
   ]
  },
  {
   "cell_type": "code",
   "execution_count": 56,
   "metadata": {},
   "outputs": [
    {
     "data": {
      "text/html": [
       "<div>\n",
       "<style scoped>\n",
       "    .dataframe tbody tr th:only-of-type {\n",
       "        vertical-align: middle;\n",
       "    }\n",
       "\n",
       "    .dataframe tbody tr th {\n",
       "        vertical-align: top;\n",
       "    }\n",
       "\n",
       "    .dataframe thead th {\n",
       "        text-align: right;\n",
       "    }\n",
       "</style>\n",
       "<table border=\"1\" class=\"dataframe\">\n",
       "  <thead>\n",
       "    <tr style=\"text-align: right;\">\n",
       "      <th></th>\n",
       "      <th>date</th>\n",
       "      <th>train_id</th>\n",
       "      <th>stop_sequence</th>\n",
       "      <th>from</th>\n",
       "      <th>from_id</th>\n",
       "      <th>to</th>\n",
       "      <th>to_id</th>\n",
       "      <th>scheduled_time</th>\n",
       "      <th>actual_time</th>\n",
       "      <th>delay_minutes</th>\n",
       "      <th>status</th>\n",
       "      <th>line</th>\n",
       "      <th>type</th>\n",
       "    </tr>\n",
       "  </thead>\n",
       "  <tbody>\n",
       "    <tr>\n",
       "      <td>0</td>\n",
       "      <td>2019-04-01</td>\n",
       "      <td>4393</td>\n",
       "      <td>1.0</td>\n",
       "      <td>Long Branch</td>\n",
       "      <td>74</td>\n",
       "      <td>Long Branch</td>\n",
       "      <td>74</td>\n",
       "      <td>2019-04-02 00:08:00</td>\n",
       "      <td>2019-04-02 00:07:06</td>\n",
       "      <td>0.000000</td>\n",
       "      <td>departed</td>\n",
       "      <td>No Jersey Coast</td>\n",
       "      <td>NJ Transit</td>\n",
       "    </tr>\n",
       "    <tr>\n",
       "      <td>1</td>\n",
       "      <td>2019-04-01</td>\n",
       "      <td>4393</td>\n",
       "      <td>2.0</td>\n",
       "      <td>Long Branch</td>\n",
       "      <td>74</td>\n",
       "      <td>Elberon</td>\n",
       "      <td>40</td>\n",
       "      <td>2019-04-02 00:12:00</td>\n",
       "      <td>2019-04-02 00:13:09</td>\n",
       "      <td>1.150000</td>\n",
       "      <td>departed</td>\n",
       "      <td>No Jersey Coast</td>\n",
       "      <td>NJ Transit</td>\n",
       "    </tr>\n",
       "    <tr>\n",
       "      <td>2</td>\n",
       "      <td>2019-04-01</td>\n",
       "      <td>4393</td>\n",
       "      <td>3.0</td>\n",
       "      <td>Elberon</td>\n",
       "      <td>40</td>\n",
       "      <td>Allenhurst</td>\n",
       "      <td>4</td>\n",
       "      <td>2019-04-02 00:16:00</td>\n",
       "      <td>2019-04-02 00:18:07</td>\n",
       "      <td>2.116667</td>\n",
       "      <td>departed</td>\n",
       "      <td>No Jersey Coast</td>\n",
       "      <td>NJ Transit</td>\n",
       "    </tr>\n",
       "    <tr>\n",
       "      <td>3</td>\n",
       "      <td>2019-04-01</td>\n",
       "      <td>4393</td>\n",
       "      <td>4.0</td>\n",
       "      <td>Allenhurst</td>\n",
       "      <td>4</td>\n",
       "      <td>Asbury Park</td>\n",
       "      <td>8</td>\n",
       "      <td>2019-04-02 00:20:00</td>\n",
       "      <td>2019-04-02 00:21:12</td>\n",
       "      <td>1.200000</td>\n",
       "      <td>departed</td>\n",
       "      <td>No Jersey Coast</td>\n",
       "      <td>NJ Transit</td>\n",
       "    </tr>\n",
       "    <tr>\n",
       "      <td>4</td>\n",
       "      <td>2019-04-01</td>\n",
       "      <td>4393</td>\n",
       "      <td>5.0</td>\n",
       "      <td>Asbury Park</td>\n",
       "      <td>8</td>\n",
       "      <td>Bradley Beach</td>\n",
       "      <td>22</td>\n",
       "      <td>2019-04-02 00:23:00</td>\n",
       "      <td>2019-04-02 00:23:10</td>\n",
       "      <td>0.166667</td>\n",
       "      <td>departed</td>\n",
       "      <td>No Jersey Coast</td>\n",
       "      <td>NJ Transit</td>\n",
       "    </tr>\n",
       "  </tbody>\n",
       "</table>\n",
       "</div>"
      ],
      "text/plain": [
       "         date train_id  stop_sequence         from  from_id             to  \\\n",
       "0  2019-04-01     4393            1.0  Long Branch       74    Long Branch   \n",
       "1  2019-04-01     4393            2.0  Long Branch       74        Elberon   \n",
       "2  2019-04-01     4393            3.0      Elberon       40     Allenhurst   \n",
       "3  2019-04-01     4393            4.0   Allenhurst        4    Asbury Park   \n",
       "4  2019-04-01     4393            5.0  Asbury Park        8  Bradley Beach   \n",
       "\n",
       "   to_id       scheduled_time          actual_time  delay_minutes    status  \\\n",
       "0     74  2019-04-02 00:08:00  2019-04-02 00:07:06       0.000000  departed   \n",
       "1     40  2019-04-02 00:12:00  2019-04-02 00:13:09       1.150000  departed   \n",
       "2      4  2019-04-02 00:16:00  2019-04-02 00:18:07       2.116667  departed   \n",
       "3      8  2019-04-02 00:20:00  2019-04-02 00:21:12       1.200000  departed   \n",
       "4     22  2019-04-02 00:23:00  2019-04-02 00:23:10       0.166667  departed   \n",
       "\n",
       "              line        type  \n",
       "0  No Jersey Coast  NJ Transit  \n",
       "1  No Jersey Coast  NJ Transit  \n",
       "2  No Jersey Coast  NJ Transit  \n",
       "3  No Jersey Coast  NJ Transit  \n",
       "4  No Jersey Coast  NJ Transit  "
      ]
     },
     "execution_count": 56,
     "metadata": {},
     "output_type": "execute_result"
    }
   ],
   "source": [
    "df = pd.read_csv('2019_04.csv')\n",
    "df.head()"
   ]
  },
  {
   "cell_type": "code",
   "execution_count": 57,
   "metadata": {},
   "outputs": [
    {
     "data": {
      "text/plain": [
       "date               object\n",
       "train_id           object\n",
       "stop_sequence     float64\n",
       "from               object\n",
       "from_id             int64\n",
       "to                 object\n",
       "to_id               int64\n",
       "scheduled_time     object\n",
       "actual_time        object\n",
       "delay_minutes     float64\n",
       "status             object\n",
       "line               object\n",
       "type               object\n",
       "dtype: object"
      ]
     },
     "execution_count": 57,
     "metadata": {},
     "output_type": "execute_result"
    }
   ],
   "source": [
    "df.dtypes"
   ]
  },
  {
   "cell_type": "code",
   "execution_count": 58,
   "metadata": {},
   "outputs": [
    {
     "data": {
      "text/plain": [
       "<matplotlib.axes._subplots.AxesSubplot at 0x2a608cf0>"
      ]
     },
     "execution_count": 58,
     "metadata": {},
     "output_type": "execute_result"
    },
    {
     "data": {
      "image/png": "[encoded data removed]",
      "text/plain": [
       "<Figure size 432x288 with 1 Axes>"
      ]
     },
     "metadata": {},
     "output_type": "display_data"
    }
   ],
   "source": [
    "plt.title(\"status Barplot\")\n",
    "sns.countplot(x=\"status\", data=df)"
   ]
  },
  {
   "cell_type": "code",
   "execution_count": 59,
   "metadata": {},
   "outputs": [
    {
     "data": {
      "text/plain": [
       "<matplotlib.axes._subplots.AxesSubplot at 0x2b477410>"
      ]
     },
     "execution_count": 59,
     "metadata": {},
     "output_type": "execute_result"
    },
    {
     "data": {
      "image/png": "[encoded data removed]",
      "text/plain": [
       "<Figure size 432x288 with 1 Axes>"
      ]
     },
     "metadata": {},
     "output_type": "display_data"
    }
   ],
   "source": [
    "plt.title(\"line Barplot\")\n",
    "sns.countplot(x=\"line\", data=df)"
   ]
  },
  {
   "cell_type": "code",
   "execution_count": 60,
   "metadata": {},
   "outputs": [
    {
     "data": {
      "text/plain": [
       "<matplotlib.axes._subplots.AxesSubplot at 0x21c3c630>"
      ]
     },
     "execution_count": 60,
     "metadata": {},
     "output_type": "execute_result"
    },
    {
     "data": {
      "image/png": "[encoded data removed]",
      "text/plain": [
       "<Figure size 432x288 with 1 Axes>"
      ]
     },
     "metadata": {},
     "output_type": "display_data"
    }
   ],
   "source": [
    "plt.title(\"type Barplot\")\n",
    "sns.countplot(x=\"type\", data=df)"
   ]
  },
  {
   "cell_type": "code",
   "execution_count": 61,
   "metadata": {},
   "outputs": [],
   "source": [
    "df = df.drop(['date','train_id','stop_sequence','from','to','scheduled_time','actual_time','line'], 1)"
   ]
  },
  {
   "cell_type": "code",
   "execution_count": 62,
   "metadata": {},
   "outputs": [
    {
     "data": {
      "text/html": [
       "<div>\n",
       "<style scoped>\n",
       "    .dataframe tbody tr th:only-of-type {\n",
       "        vertical-align: middle;\n",
       "    }\n",
       "\n",
       "    .dataframe tbody tr th {\n",
       "        vertical-align: top;\n",
       "    }\n",
       "\n",
       "    .dataframe thead th {\n",
       "        text-align: right;\n",
       "    }\n",
       "</style>\n",
       "<table border=\"1\" class=\"dataframe\">\n",
       "  <thead>\n",
       "    <tr style=\"text-align: right;\">\n",
       "      <th></th>\n",
       "      <th>from_id</th>\n",
       "      <th>to_id</th>\n",
       "      <th>delay_minutes</th>\n",
       "      <th>status</th>\n",
       "      <th>type</th>\n",
       "    </tr>\n",
       "  </thead>\n",
       "  <tbody>\n",
       "    <tr>\n",
       "      <td>0</td>\n",
       "      <td>74</td>\n",
       "      <td>74</td>\n",
       "      <td>0.000000</td>\n",
       "      <td>2.0</td>\n",
       "      <td>1</td>\n",
       "    </tr>\n",
       "    <tr>\n",
       "      <td>1</td>\n",
       "      <td>74</td>\n",
       "      <td>40</td>\n",
       "      <td>1.150000</td>\n",
       "      <td>2.0</td>\n",
       "      <td>1</td>\n",
       "    </tr>\n",
       "    <tr>\n",
       "      <td>2</td>\n",
       "      <td>40</td>\n",
       "      <td>4</td>\n",
       "      <td>2.116667</td>\n",
       "      <td>2.0</td>\n",
       "      <td>1</td>\n",
       "    </tr>\n",
       "    <tr>\n",
       "      <td>3</td>\n",
       "      <td>4</td>\n",
       "      <td>8</td>\n",
       "      <td>1.200000</td>\n",
       "      <td>2.0</td>\n",
       "      <td>1</td>\n",
       "    </tr>\n",
       "    <tr>\n",
       "      <td>4</td>\n",
       "      <td>8</td>\n",
       "      <td>22</td>\n",
       "      <td>0.166667</td>\n",
       "      <td>2.0</td>\n",
       "      <td>1</td>\n",
       "    </tr>\n",
       "  </tbody>\n",
       "</table>\n",
       "</div>"
      ],
      "text/plain": [
       "   from_id  to_id  delay_minutes  status  type\n",
       "0       74     74       0.000000     2.0     1\n",
       "1       74     40       1.150000     2.0     1\n",
       "2       40      4       2.116667     2.0     1\n",
       "3        4      8       1.200000     2.0     1\n",
       "4        8     22       0.166667     2.0     1"
      ]
     },
     "execution_count": 62,
     "metadata": {},
     "output_type": "execute_result"
    }
   ],
   "source": [
    "df['status'] = df['status'].map({'departed': 2, 'estimated status': 1, 'cancelled': 0})\n",
    "df['type'] = df['type'].map({'NJ Transit': 1, 'Amtrak': 0})\n",
    "df.head()"
   ]
  },
  {
   "cell_type": "code",
   "execution_count": 63,
   "metadata": {},
   "outputs": [],
   "source": [
    "columns = df[['from_id','to_id','delay_minutes','status','type']]\n",
    "\n",
    "for column in columns: \n",
    "    df[column] = pd.to_numeric(df[column], errors='coerce')"
   ]
  },
  {
   "cell_type": "code",
   "execution_count": 64,
   "metadata": {},
   "outputs": [
    {
     "data": {
      "text/plain": [
       "from_id            int64\n",
       "to_id              int64\n",
       "delay_minutes    float64\n",
       "status           float64\n",
       "type               int64\n",
       "dtype: object"
      ]
     },
     "execution_count": 64,
     "metadata": {},
     "output_type": "execute_result"
    }
   ],
   "source": [
    "df.dtypes"
   ]
  },
  {
   "cell_type": "markdown",
   "metadata": {},
   "source": [
    "## Missing value"
   ]
  },
  {
   "cell_type": "code",
   "execution_count": 65,
   "metadata": {},
   "outputs": [
    {
     "data": {
      "text/plain": [
       "from_id           0.000000\n",
       "to_id             0.000000\n",
       "delay_minutes    10.695747\n",
       "status            7.812546\n",
       "type              0.000000\n",
       "dtype: float64"
      ]
     },
     "execution_count": 65,
     "metadata": {},
     "output_type": "execute_result"
    }
   ],
   "source": [
    "df.isnull().sum()*100/df.isnull().count()"
   ]
  },
  {
   "cell_type": "code",
   "execution_count": 66,
   "metadata": {},
   "outputs": [],
   "source": [
    "df = df.dropna(axis=0,how='any') #drop all rows that have any NaN values"
   ]
  },
  {
   "cell_type": "markdown",
   "metadata": {},
   "source": [
    "## Normalization: Preprocessing"
   ]
  },
  {
   "cell_type": "code",
   "execution_count": 67,
   "metadata": {},
   "outputs": [],
   "source": [
    "X_normalized = normalize(df)\n",
    "X_normalized_df = pd.DataFrame(normalize(df), columns = df.columns)"
   ]
  },
  {
   "cell_type": "markdown",
   "metadata": {},
   "source": [
    "## K-Means"
   ]
  },
  {
   "cell_type": "code",
   "execution_count": 68,
   "metadata": {},
   "outputs": [
    {
     "data": {
      "text/plain": [
       "array([1, 1, 3, ..., 2, 3, 1])"
      ]
     },
     "execution_count": 68,
     "metadata": {},
     "output_type": "execute_result"
    }
   ],
   "source": [
    "km = KMeans(n_clusters=4, init='k-means++', n_init=10)\n",
    "km.fit(X_normalized_df)\n",
    "x = km.fit_predict(X_normalized_df)\n",
    "x"
   ]
  },
  {
   "cell_type": "code",
   "execution_count": 69,
   "metadata": {},
   "outputs": [
    {
     "data": {
      "text/html": [
       "<div>\n",
       "<style scoped>\n",
       "    .dataframe tbody tr th:only-of-type {\n",
       "        vertical-align: middle;\n",
       "    }\n",
       "\n",
       "    .dataframe tbody tr th {\n",
       "        vertical-align: top;\n",
       "    }\n",
       "\n",
       "    .dataframe thead th {\n",
       "        text-align: right;\n",
       "    }\n",
       "</style>\n",
       "<table border=\"1\" class=\"dataframe\">\n",
       "  <thead>\n",
       "    <tr style=\"text-align: right;\">\n",
       "      <th></th>\n",
       "      <th>from_id</th>\n",
       "      <th>to_id</th>\n",
       "      <th>delay_minutes</th>\n",
       "      <th>status</th>\n",
       "      <th>type</th>\n",
       "      <th>Cluster</th>\n",
       "    </tr>\n",
       "  </thead>\n",
       "  <tbody>\n",
       "    <tr>\n",
       "      <td>0</td>\n",
       "      <td>74</td>\n",
       "      <td>74</td>\n",
       "      <td>0.000000</td>\n",
       "      <td>2.0</td>\n",
       "      <td>1</td>\n",
       "      <td>1</td>\n",
       "    </tr>\n",
       "    <tr>\n",
       "      <td>1</td>\n",
       "      <td>74</td>\n",
       "      <td>40</td>\n",
       "      <td>1.150000</td>\n",
       "      <td>2.0</td>\n",
       "      <td>1</td>\n",
       "      <td>1</td>\n",
       "    </tr>\n",
       "    <tr>\n",
       "      <td>2</td>\n",
       "      <td>40</td>\n",
       "      <td>4</td>\n",
       "      <td>2.116667</td>\n",
       "      <td>2.0</td>\n",
       "      <td>1</td>\n",
       "      <td>3</td>\n",
       "    </tr>\n",
       "    <tr>\n",
       "      <td>3</td>\n",
       "      <td>4</td>\n",
       "      <td>8</td>\n",
       "      <td>1.200000</td>\n",
       "      <td>2.0</td>\n",
       "      <td>1</td>\n",
       "      <td>0</td>\n",
       "    </tr>\n",
       "    <tr>\n",
       "      <td>4</td>\n",
       "      <td>8</td>\n",
       "      <td>22</td>\n",
       "      <td>0.166667</td>\n",
       "      <td>2.0</td>\n",
       "      <td>1</td>\n",
       "      <td>0</td>\n",
       "    </tr>\n",
       "  </tbody>\n",
       "</table>\n",
       "</div>"
      ],
      "text/plain": [
       "   from_id  to_id  delay_minutes  status  type  Cluster\n",
       "0       74     74       0.000000     2.0     1        1\n",
       "1       74     40       1.150000     2.0     1        1\n",
       "2       40      4       2.116667     2.0     1        3\n",
       "3        4      8       1.200000     2.0     1        0\n",
       "4        8     22       0.166667     2.0     1        0"
      ]
     },
     "execution_count": 69,
     "metadata": {},
     "output_type": "execute_result"
    }
   ],
   "source": [
    "df[\"Cluster\"]= x\n",
    "df.head()"
   ]
  },
  {
   "cell_type": "code",
   "execution_count": 70,
   "metadata": {},
   "outputs": [
    {
     "data": {
      "text/html": [
       "<div>\n",
       "<style scoped>\n",
       "    .dataframe tbody tr th:only-of-type {\n",
       "        vertical-align: middle;\n",
       "    }\n",
       "\n",
       "    .dataframe tbody tr th {\n",
       "        vertical-align: top;\n",
       "    }\n",
       "\n",
       "    .dataframe thead th {\n",
       "        text-align: right;\n",
       "    }\n",
       "</style>\n",
       "<table border=\"1\" class=\"dataframe\">\n",
       "  <thead>\n",
       "    <tr style=\"text-align: right;\">\n",
       "      <th></th>\n",
       "      <th>from_id</th>\n",
       "      <th>to_id</th>\n",
       "      <th>delay_minutes</th>\n",
       "      <th>status</th>\n",
       "      <th>type</th>\n",
       "      <th>Cluster</th>\n",
       "    </tr>\n",
       "  </thead>\n",
       "  <tbody>\n",
       "    <tr>\n",
       "      <td>83041</td>\n",
       "      <td>70</td>\n",
       "      <td>127</td>\n",
       "      <td>3.200000</td>\n",
       "      <td>2.0</td>\n",
       "      <td>1</td>\n",
       "      <td>0</td>\n",
       "    </tr>\n",
       "    <tr>\n",
       "      <td>82389</td>\n",
       "      <td>30</td>\n",
       "      <td>77</td>\n",
       "      <td>1.166667</td>\n",
       "      <td>2.0</td>\n",
       "      <td>1</td>\n",
       "      <td>0</td>\n",
       "    </tr>\n",
       "    <tr>\n",
       "      <td>124304</td>\n",
       "      <td>23</td>\n",
       "      <td>37</td>\n",
       "      <td>9.100000</td>\n",
       "      <td>2.0</td>\n",
       "      <td>1</td>\n",
       "      <td>0</td>\n",
       "    </tr>\n",
       "    <tr>\n",
       "      <td>190995</td>\n",
       "      <td>14</td>\n",
       "      <td>50</td>\n",
       "      <td>2.133333</td>\n",
       "      <td>2.0</td>\n",
       "      <td>1</td>\n",
       "      <td>0</td>\n",
       "    </tr>\n",
       "    <tr>\n",
       "      <td>124305</td>\n",
       "      <td>37</td>\n",
       "      <td>106</td>\n",
       "      <td>10.050000</td>\n",
       "      <td>2.0</td>\n",
       "      <td>1</td>\n",
       "      <td>0</td>\n",
       "    </tr>\n",
       "    <tr>\n",
       "      <td>...</td>\n",
       "      <td>...</td>\n",
       "      <td>...</td>\n",
       "      <td>...</td>\n",
       "      <td>...</td>\n",
       "      <td>...</td>\n",
       "      <td>...</td>\n",
       "    </tr>\n",
       "    <tr>\n",
       "      <td>164516</td>\n",
       "      <td>37953</td>\n",
       "      <td>107</td>\n",
       "      <td>2.100000</td>\n",
       "      <td>2.0</td>\n",
       "      <td>1</td>\n",
       "      <td>3</td>\n",
       "    </tr>\n",
       "    <tr>\n",
       "      <td>53278</td>\n",
       "      <td>38105</td>\n",
       "      <td>31</td>\n",
       "      <td>1.200000</td>\n",
       "      <td>2.0</td>\n",
       "      <td>1</td>\n",
       "      <td>3</td>\n",
       "    </tr>\n",
       "    <tr>\n",
       "      <td>164523</td>\n",
       "      <td>141</td>\n",
       "      <td>15</td>\n",
       "      <td>6.116667</td>\n",
       "      <td>2.0</td>\n",
       "      <td>1</td>\n",
       "      <td>3</td>\n",
       "    </tr>\n",
       "    <tr>\n",
       "      <td>164485</td>\n",
       "      <td>116</td>\n",
       "      <td>29</td>\n",
       "      <td>3.033333</td>\n",
       "      <td>2.0</td>\n",
       "      <td>1</td>\n",
       "      <td>3</td>\n",
       "    </tr>\n",
       "    <tr>\n",
       "      <td>119200</td>\n",
       "      <td>126</td>\n",
       "      <td>25</td>\n",
       "      <td>1.150000</td>\n",
       "      <td>2.0</td>\n",
       "      <td>1</td>\n",
       "      <td>3</td>\n",
       "    </tr>\n",
       "  </tbody>\n",
       "</table>\n",
       "<p>195545 rows × 6 columns</p>\n",
       "</div>"
      ],
      "text/plain": [
       "        from_id  to_id  delay_minutes  status  type  Cluster\n",
       "83041        70    127       3.200000     2.0     1        0\n",
       "82389        30     77       1.166667     2.0     1        0\n",
       "124304       23     37       9.100000     2.0     1        0\n",
       "190995       14     50       2.133333     2.0     1        0\n",
       "124305       37    106      10.050000     2.0     1        0\n",
       "...         ...    ...            ...     ...   ...      ...\n",
       "164516    37953    107       2.100000     2.0     1        3\n",
       "53278     38105     31       1.200000     2.0     1        3\n",
       "164523      141     15       6.116667     2.0     1        3\n",
       "164485      116     29       3.033333     2.0     1        3\n",
       "119200      126     25       1.150000     2.0     1        3\n",
       "\n",
       "[195545 rows x 6 columns]"
      ]
     },
     "execution_count": 70,
     "metadata": {},
     "output_type": "execute_result"
    }
   ],
   "source": [
    "df = df.sort_values(['Cluster'])\n",
    "df"
   ]
  },
  {
   "cell_type": "code",
   "execution_count": 71,
   "metadata": {},
   "outputs": [],
   "source": [
    "df0 = df[(df.Cluster == 0)]\n",
    "df1 = df[(df.Cluster == 1)]\n",
    "df2 = df[(df.Cluster == 2)]\n",
    "df3 = df[(df.Cluster == 3)]"
   ]
  },
  {
   "cell_type": "code",
   "execution_count": 72,
   "metadata": {},
   "outputs": [
    {
     "data": {
      "text/plain": [
       "<matplotlib.axes._subplots.AxesSubplot at 0x21c7c4b0>"
      ]
     },
     "execution_count": 72,
     "metadata": {},
     "output_type": "execute_result"
    },
    {
     "data": {
      "image/png": "[encoded data removed]",
      "text/plain": [
       "<Figure size 432x288 with 1 Axes>"
      ]
     },
     "metadata": {},
     "output_type": "display_data"
    }
   ],
   "source": [
    "plt.title(\"status Barplot of Cluster0\")\n",
    "sns.countplot(x=\"status\", data=df0)"
   ]
  },
  {
   "cell_type": "code",
   "execution_count": 73,
   "metadata": {},
   "outputs": [
    {
     "data": {
      "text/plain": [
       "<matplotlib.axes._subplots.AxesSubplot at 0x14b6810>"
      ]
     },
     "execution_count": 73,
     "metadata": {},
     "output_type": "execute_result"
    },
    {
     "data": {
      "image/png": "[encoded data removed]",
      "text/plain": [
       "<Figure size 432x288 with 1 Axes>"
      ]
     },
     "metadata": {},
     "output_type": "display_data"
    }
   ],
   "source": [
    "plt.title(\"status Barplot of Cluster1\")\n",
    "sns.countplot(x=\"status\", data=df1)"
   ]
  },
  {
   "cell_type": "code",
   "execution_count": 74,
   "metadata": {},
   "outputs": [
    {
     "data": {
      "text/plain": [
       "<matplotlib.axes._subplots.AxesSubplot at 0x14e1250>"
      ]
     },
     "execution_count": 74,
     "metadata": {},
     "output_type": "execute_result"
    },
    {
     "data": {
      "image/png": "[encoded data removed]",
      "text/plain": [
       "<Figure size 432x288 with 1 Axes>"
      ]
     },
     "metadata": {},
     "output_type": "display_data"
    }
   ],
   "source": [
    "plt.title(\"status Barplot of Cluster2\")\n",
    "sns.countplot(x=\"status\", data=df2)"
   ]
  },
  {
   "cell_type": "code",
   "execution_count": 75,
   "metadata": {},
   "outputs": [
    {
     "data": {
      "text/plain": [
       "<matplotlib.axes._subplots.AxesSubplot at 0x14dee50>"
      ]
     },
     "execution_count": 75,
     "metadata": {},
     "output_type": "execute_result"
    },
    {
     "data": {
      "image/png": "[encoded data removed]",
      "text/plain": [
       "<Figure size 432x288 with 1 Axes>"
      ]
     },
     "metadata": {},
     "output_type": "display_data"
    }
   ],
   "source": [
    "plt.title(\"status Barplot of Cluster3\")\n",
    "sns.countplot(x=\"status\", data=df3)"
   ]
  },
  {
   "cell_type": "code",
   "execution_count": 76,
   "metadata": {},
   "outputs": [
    {
     "data": {
      "text/plain": [
       "<matplotlib.axes._subplots.AxesSubplot at 0x1fc4d430>"
      ]
     },
     "execution_count": 76,
     "metadata": {},
     "output_type": "execute_result"
    },
    {
     "data": {
      "image/png": "[encoded data removed]",
      "text/plain": [
       "<Figure size 432x288 with 1 Axes>"
      ]
     },
     "metadata": {},
     "output_type": "display_data"
    }
   ],
   "source": [
    "plt.title(\"type Barplot of Cluster0\")\n",
    "sns.countplot(x=\"type\", data=df0)"
   ]
  },
  {
   "cell_type": "code",
   "execution_count": 77,
   "metadata": {},
   "outputs": [
    {
     "data": {
      "text/plain": [
       "<matplotlib.axes._subplots.AxesSubplot at 0x1fd0f610>"
      ]
     },
     "execution_count": 77,
     "metadata": {},
     "output_type": "execute_result"
    },
    {
     "data": {
      "image/png": "[encoded data removed]",
      "text/plain": [
       "<Figure size 432x288 with 1 Axes>"
      ]
     },
     "metadata": {},
     "output_type": "display_data"
    }
   ],
   "source": [
    "plt.title(\"type Barplot of Cluster1\")\n",
    "sns.countplot(x=\"type\", data=df1)"
   ]
  },
  {
   "cell_type": "code",
   "execution_count": 78,
   "metadata": {},
   "outputs": [
    {
     "data": {
      "text/plain": [
       "<matplotlib.axes._subplots.AxesSubplot at 0x1fd3cf50>"
      ]
     },
     "execution_count": 78,
     "metadata": {},
     "output_type": "execute_result"
    },
    {
     "data": {
      "image/png": "[encoded data removed]",
      "text/plain": [
       "<Figure size 432x288 with 1 Axes>"
      ]
     },
     "metadata": {},
     "output_type": "display_data"
    }
   ],
   "source": [
    "plt.title(\"type Barplot of Cluster2\")\n",
    "sns.countplot(x=\"type\", data=df2)"
   ]
  },
  {
   "cell_type": "code",
   "execution_count": 79,
   "metadata": {},
   "outputs": [
    {
     "data": {
      "text/plain": [
       "<matplotlib.axes._subplots.AxesSubplot at 0x1fd0f2f0>"
      ]
     },
     "execution_count": 79,
     "metadata": {},
     "output_type": "execute_result"
    },
    {
     "data": {
      "image/png": "[encoded data removed]",
      "text/plain": [
       "<Figure size 432x288 with 1 Axes>"
      ]
     },
     "metadata": {},
     "output_type": "display_data"
    }
   ],
   "source": [
    "plt.title(\"type Barplot of Cluster3\")\n",
    "sns.countplot(x=\"type\", data=df3)"
   ]
  },
  {
   "cell_type": "code",
   "execution_count": null,
   "metadata": {},
   "outputs": [],
   "source": []
  }
 ],
 "metadata": {
  "kernelspec": {
   "display_name": "Python 3",
   "language": "python",
   "name": "python3"
  },
  "language_info": {
   "codemirror_mode": {
    "name": "ipython",
    "version": 3
   },
   "file_extension": ".py",
   "mimetype": "text/x-python",
   "name": "python",
   "nbconvert_exporter": "python",
   "pygments_lexer": "ipython3",
   "version": "3.7.4"
  }
 },
 "nbformat": 4,
 "nbformat_minor": 2
}
