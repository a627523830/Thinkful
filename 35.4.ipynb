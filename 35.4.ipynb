{
 "cells": [
  {
   "cell_type": "markdown",
   "metadata": {},
   "source": [
    "# Tree Implementation"
   ]
  },
  {
   "cell_type": "code",
   "execution_count": 1,
   "metadata": {},
   "outputs": [],
   "source": [
    "class Node:\n",
    "    def __init__(self, val):\n",
    "        self.left = None\n",
    "        self.right = None\n",
    "        self.val = val"
   ]
  },
  {
   "cell_type": "code",
   "execution_count": 2,
   "metadata": {},
   "outputs": [],
   "source": [
    "a = root = Node(100)\n",
    "\n",
    "b = root.left = Node(90)\n",
    "c = root.right = Node(85)\n",
    "\n",
    "d = root.left.left = Node(75)\n",
    "e = root.left.right = Node(70)\n",
    "\n",
    "f = root.right.left = Node(65)\n",
    "g = root.right.right = Node(60)\n",
    "\n",
    "h = root.left.left.left = Node(55)\n",
    "i = root.left.left.right = Node(45)\n",
    "\n",
    "j = root.left.right.left = Node(40)\n",
    "k = root.left.right.right = Node(35)\n",
    "\n",
    "l = root.right.left.left = Node(30)\n",
    "m = root.right.left.right = Node(25)\n",
    "\n",
    "n = root.right.right.left = Node(20)\n",
    "o = root.right.right.right = Node(10)"
   ]
  },
  {
   "cell_type": "markdown",
   "metadata": {},
   "source": [
    "# Breadth-First Traversal"
   ]
  },
  {
   "cell_type": "code",
   "execution_count": 4,
   "metadata": {},
   "outputs": [
    {
     "name": "stdout",
     "output_type": "stream",
     "text": [
      "100\n",
      "9085\n",
      "75706560\n",
      "5545403530252010\n"
     ]
    }
   ],
   "source": [
    "\n",
    "from collections import deque\n",
    "\n",
    "class Node:\n",
    "\n",
    "       def __init__(self,info):\n",
    "\n",
    "           self.info = info\n",
    "           self.left = None\n",
    "           self.right = None\n",
    "           self.level = None\n",
    "\n",
    "       def __str__(self):\n",
    "\n",
    "           return str(self.info)\n",
    "\n",
    "\n",
    "def BFT(node):\n",
    "\n",
    "    node.level = 1\n",
    "    queue = deque([node])\n",
    "    output = []\n",
    "    current_level = node.level\n",
    "\n",
    "    while len(queue)>0:\n",
    "\n",
    "          current_node = queue.popleft()\n",
    "\n",
    "          if(current_node.level > current_level):\n",
    "              output.append(\"\\n\")\n",
    "              current_level += 1\n",
    "\n",
    "          output.append(str(current_node))\n",
    "\n",
    "          if current_node.left != None:\n",
    "             current_node.left.level = current_level + 1 \n",
    "             queue.append(current_node.left) \n",
    "\n",
    "          if current_node.right != None:\n",
    "             current_node.right.level = current_level + 1 \n",
    "             queue.append(current_node.right)\n",
    "\n",
    "                 \n",
    " \n",
    "    return ''.join(output)\n",
    "\n",
    "a = root = Node(100)\n",
    "\n",
    "b = root.left = Node(90)\n",
    "c = root.right = Node(85)\n",
    "\n",
    "d = root.left.left = Node(75)\n",
    "e = root.left.right = Node(70)\n",
    "\n",
    "f = root.right.left = Node(65)\n",
    "g = root.right.right = Node(60)\n",
    "\n",
    "h = root.left.left.left = Node(55)\n",
    "i = root.left.left.right = Node(45)\n",
    "\n",
    "j = root.left.right.left = Node(40)\n",
    "k = root.left.right.right = Node(35)\n",
    "\n",
    "l = root.right.left.left = Node(30)\n",
    "m = root.right.left.right = Node(25)\n",
    "\n",
    "n = root.right.right.left = Node(20)\n",
    "o = root.right.right.right = Node(10)\n",
    "\n",
    "print (BFT(root))"
   ]
  }
 ],
 "metadata": {
  "kernelspec": {
   "display_name": "Python 3",
   "language": "python",
   "name": "python3"
  },
  "language_info": {
   "codemirror_mode": {
    "name": "ipython",
    "version": 3
   },
   "file_extension": ".py",
   "mimetype": "text/x-python",
   "name": "python",
   "nbconvert_exporter": "python",
   "pygments_lexer": "ipython3",
   "version": "3.7.4"
  },
  "toc": {
   "nav_menu": {},
   "number_sections": true,
   "sideBar": true,
   "skip_h1_title": false,
   "toc_cell": false,
   "toc_position": {},
   "toc_section_display": "block",
   "toc_window_display": false
  }
 },
 "nbformat": 4,
 "nbformat_minor": 2
}
