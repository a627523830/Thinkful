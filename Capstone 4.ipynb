{
 "cells": [
  {
   "cell_type": "code",
   "execution_count": 95,
   "metadata": {},
   "outputs": [],
   "source": [
    "import matplotlib.pyplot as plt\n",
    "import numpy as np\n",
    "import pandas as pd\n",
    "import seaborn as sns\n",
    "sns.set_style('white')\n",
    "import warnings\n",
    "warnings.filterwarnings(\"ignore\")\n",
    "from itertools import cycle\n",
    "from sklearn.preprocessing import normalize\n",
    "from sklearn.model_selection import train_test_split\n",
    "from sklearn.decomposition import PCA\n",
    "from sklearn import metrics\n",
    "from sklearn.metrics import pairwise_distances\n",
    "from sklearn.cluster import MeanShift, estimate_bandwidth\n",
    "from sklearn.cluster import SpectralClustering\n",
    "from sklearn.cluster import AffinityPropagation\n",
    "from sklearn.cluster import KMeans\n",
    "from sklearn.metrics import silhouette_samples, silhouette_score\n",
    "import random\n",
    "from sklearn import tree\n",
    "import pydotplus\n",
    "import scipy.stats as stats\n",
    "import timeit\n",
    "from sklearn.utils import column_or_1d \n",
    "from sklearn.neighbors import KNeighborsClassifier\n",
    "from IPython.display import Image\n",
    "from sklearn.model_selection import cross_val_score\n",
    "from sklearn.datasets import load_digits\n",
    "from sklearn.feature_selection import SelectKBest, chi2\n",
    "from sklearn.feature_selection import f_classif \n",
    "from sklearn.model_selection import GridSearchCV\n",
    "from sklearn.pipeline import Pipeline\n",
    "from sklearn.preprocessing import MinMaxScaler\n",
    "from sklearn.linear_model import LogisticRegression\n",
    "from sklearn.svm import SVC\n",
    "from sklearn.metrics import accuracy_score,confusion_matrix,\\\n",
    " classification_report\n",
    "from sklearn.tree import DecisionTreeClassifier\n",
    "from sklearn import ensemble"
   ]
  },
  {
   "cell_type": "code",
   "execution_count": 96,
   "metadata": {},
   "outputs": [
    {
     "data": {
      "text/html": [
       "<div>\n",
       "<style scoped>\n",
       "    .dataframe tbody tr th:only-of-type {\n",
       "        vertical-align: middle;\n",
       "    }\n",
       "\n",
       "    .dataframe tbody tr th {\n",
       "        vertical-align: top;\n",
       "    }\n",
       "\n",
       "    .dataframe thead th {\n",
       "        text-align: right;\n",
       "    }\n",
       "</style>\n",
       "<table border=\"1\" class=\"dataframe\">\n",
       "  <thead>\n",
       "    <tr style=\"text-align: right;\">\n",
       "      <th></th>\n",
       "      <th>date</th>\n",
       "      <th>train_id</th>\n",
       "      <th>stop_sequence</th>\n",
       "      <th>from</th>\n",
       "      <th>from_id</th>\n",
       "      <th>to</th>\n",
       "      <th>to_id</th>\n",
       "      <th>scheduled_time</th>\n",
       "      <th>actual_time</th>\n",
       "      <th>delay_minutes</th>\n",
       "      <th>status</th>\n",
       "      <th>line</th>\n",
       "      <th>type</th>\n",
       "    </tr>\n",
       "  </thead>\n",
       "  <tbody>\n",
       "    <tr>\n",
       "      <td>0</td>\n",
       "      <td>2019-04-01</td>\n",
       "      <td>4393</td>\n",
       "      <td>1.0</td>\n",
       "      <td>Long Branch</td>\n",
       "      <td>74</td>\n",
       "      <td>Long Branch</td>\n",
       "      <td>74</td>\n",
       "      <td>2019-04-02 00:08:00</td>\n",
       "      <td>2019-04-02 00:07:06</td>\n",
       "      <td>0.000000</td>\n",
       "      <td>departed</td>\n",
       "      <td>No Jersey Coast</td>\n",
       "      <td>NJ Transit</td>\n",
       "    </tr>\n",
       "    <tr>\n",
       "      <td>1</td>\n",
       "      <td>2019-04-01</td>\n",
       "      <td>4393</td>\n",
       "      <td>2.0</td>\n",
       "      <td>Long Branch</td>\n",
       "      <td>74</td>\n",
       "      <td>Elberon</td>\n",
       "      <td>40</td>\n",
       "      <td>2019-04-02 00:12:00</td>\n",
       "      <td>2019-04-02 00:13:09</td>\n",
       "      <td>1.150000</td>\n",
       "      <td>departed</td>\n",
       "      <td>No Jersey Coast</td>\n",
       "      <td>NJ Transit</td>\n",
       "    </tr>\n",
       "    <tr>\n",
       "      <td>2</td>\n",
       "      <td>2019-04-01</td>\n",
       "      <td>4393</td>\n",
       "      <td>3.0</td>\n",
       "      <td>Elberon</td>\n",
       "      <td>40</td>\n",
       "      <td>Allenhurst</td>\n",
       "      <td>4</td>\n",
       "      <td>2019-04-02 00:16:00</td>\n",
       "      <td>2019-04-02 00:18:07</td>\n",
       "      <td>2.116667</td>\n",
       "      <td>departed</td>\n",
       "      <td>No Jersey Coast</td>\n",
       "      <td>NJ Transit</td>\n",
       "    </tr>\n",
       "    <tr>\n",
       "      <td>3</td>\n",
       "      <td>2019-04-01</td>\n",
       "      <td>4393</td>\n",
       "      <td>4.0</td>\n",
       "      <td>Allenhurst</td>\n",
       "      <td>4</td>\n",
       "      <td>Asbury Park</td>\n",
       "      <td>8</td>\n",
       "      <td>2019-04-02 00:20:00</td>\n",
       "      <td>2019-04-02 00:21:12</td>\n",
       "      <td>1.200000</td>\n",
       "      <td>departed</td>\n",
       "      <td>No Jersey Coast</td>\n",
       "      <td>NJ Transit</td>\n",
       "    </tr>\n",
       "    <tr>\n",
       "      <td>4</td>\n",
       "      <td>2019-04-01</td>\n",
       "      <td>4393</td>\n",
       "      <td>5.0</td>\n",
       "      <td>Asbury Park</td>\n",
       "      <td>8</td>\n",
       "      <td>Bradley Beach</td>\n",
       "      <td>22</td>\n",
       "      <td>2019-04-02 00:23:00</td>\n",
       "      <td>2019-04-02 00:23:10</td>\n",
       "      <td>0.166667</td>\n",
       "      <td>departed</td>\n",
       "      <td>No Jersey Coast</td>\n",
       "      <td>NJ Transit</td>\n",
       "    </tr>\n",
       "  </tbody>\n",
       "</table>\n",
       "</div>"
      ],
      "text/plain": [
       "         date train_id  stop_sequence         from  from_id             to  \\\n",
       "0  2019-04-01     4393            1.0  Long Branch       74    Long Branch   \n",
       "1  2019-04-01     4393            2.0  Long Branch       74        Elberon   \n",
       "2  2019-04-01     4393            3.0      Elberon       40     Allenhurst   \n",
       "3  2019-04-01     4393            4.0   Allenhurst        4    Asbury Park   \n",
       "4  2019-04-01     4393            5.0  Asbury Park        8  Bradley Beach   \n",
       "\n",
       "   to_id       scheduled_time          actual_time  delay_minutes    status  \\\n",
       "0     74  2019-04-02 00:08:00  2019-04-02 00:07:06       0.000000  departed   \n",
       "1     40  2019-04-02 00:12:00  2019-04-02 00:13:09       1.150000  departed   \n",
       "2      4  2019-04-02 00:16:00  2019-04-02 00:18:07       2.116667  departed   \n",
       "3      8  2019-04-02 00:20:00  2019-04-02 00:21:12       1.200000  departed   \n",
       "4     22  2019-04-02 00:23:00  2019-04-02 00:23:10       0.166667  departed   \n",
       "\n",
       "              line        type  \n",
       "0  No Jersey Coast  NJ Transit  \n",
       "1  No Jersey Coast  NJ Transit  \n",
       "2  No Jersey Coast  NJ Transit  \n",
       "3  No Jersey Coast  NJ Transit  \n",
       "4  No Jersey Coast  NJ Transit  "
      ]
     },
     "execution_count": 96,
     "metadata": {},
     "output_type": "execute_result"
    }
   ],
   "source": [
    "df_o = pd.read_csv('2019_04.csv')\n",
    "df_o.head()"
   ]
  },
  {
   "cell_type": "code",
   "execution_count": 97,
   "metadata": {},
   "outputs": [
    {
     "data": {
      "text/html": [
       "<div>\n",
       "<style scoped>\n",
       "    .dataframe tbody tr th:only-of-type {\n",
       "        vertical-align: middle;\n",
       "    }\n",
       "\n",
       "    .dataframe tbody tr th {\n",
       "        vertical-align: top;\n",
       "    }\n",
       "\n",
       "    .dataframe thead th {\n",
       "        text-align: right;\n",
       "    }\n",
       "</style>\n",
       "<table border=\"1\" class=\"dataframe\">\n",
       "  <thead>\n",
       "    <tr style=\"text-align: right;\">\n",
       "      <th></th>\n",
       "      <th>stop_sequence</th>\n",
       "      <th>from_id</th>\n",
       "      <th>to_id</th>\n",
       "      <th>delay_minutes</th>\n",
       "    </tr>\n",
       "  </thead>\n",
       "  <tbody>\n",
       "    <tr>\n",
       "      <td>count</td>\n",
       "      <td>213163.000000</td>\n",
       "      <td>238693.000000</td>\n",
       "      <td>238693.000000</td>\n",
       "      <td>213163.000000</td>\n",
       "    </tr>\n",
       "    <tr>\n",
       "      <td>mean</td>\n",
       "      <td>8.200063</td>\n",
       "      <td>4199.830297</td>\n",
       "      <td>4208.931670</td>\n",
       "      <td>3.697638</td>\n",
       "    </tr>\n",
       "    <tr>\n",
       "      <td>std</td>\n",
       "      <td>5.108761</td>\n",
       "      <td>11739.567890</td>\n",
       "      <td>11749.484752</td>\n",
       "      <td>4.768392</td>\n",
       "    </tr>\n",
       "    <tr>\n",
       "      <td>min</td>\n",
       "      <td>1.000000</td>\n",
       "      <td>1.000000</td>\n",
       "      <td>1.000000</td>\n",
       "      <td>0.000000</td>\n",
       "    </tr>\n",
       "    <tr>\n",
       "      <td>25%</td>\n",
       "      <td>4.000000</td>\n",
       "      <td>61.000000</td>\n",
       "      <td>61.000000</td>\n",
       "      <td>1.100000</td>\n",
       "    </tr>\n",
       "    <tr>\n",
       "      <td>50%</td>\n",
       "      <td>8.000000</td>\n",
       "      <td>105.000000</td>\n",
       "      <td>105.000000</td>\n",
       "      <td>2.350000</td>\n",
       "    </tr>\n",
       "    <tr>\n",
       "      <td>75%</td>\n",
       "      <td>12.000000</td>\n",
       "      <td>137.000000</td>\n",
       "      <td>137.000000</td>\n",
       "      <td>4.916667</td>\n",
       "    </tr>\n",
       "    <tr>\n",
       "      <td>max</td>\n",
       "      <td>26.000000</td>\n",
       "      <td>43599.000000</td>\n",
       "      <td>43599.000000</td>\n",
       "      <td>163.000000</td>\n",
       "    </tr>\n",
       "  </tbody>\n",
       "</table>\n",
       "</div>"
      ],
      "text/plain": [
       "       stop_sequence        from_id          to_id  delay_minutes\n",
       "count  213163.000000  238693.000000  238693.000000  213163.000000\n",
       "mean        8.200063    4199.830297    4208.931670       3.697638\n",
       "std         5.108761   11739.567890   11749.484752       4.768392\n",
       "min         1.000000       1.000000       1.000000       0.000000\n",
       "25%         4.000000      61.000000      61.000000       1.100000\n",
       "50%         8.000000     105.000000     105.000000       2.350000\n",
       "75%        12.000000     137.000000     137.000000       4.916667\n",
       "max        26.000000   43599.000000   43599.000000     163.000000"
      ]
     },
     "execution_count": 97,
     "metadata": {},
     "output_type": "execute_result"
    }
   ],
   "source": [
    "df_o.describe()"
   ]
  },
  {
   "cell_type": "code",
   "execution_count": 98,
   "metadata": {},
   "outputs": [],
   "source": [
    "df=df_o.sample(n=5000)"
   ]
  },
  {
   "cell_type": "code",
   "execution_count": 99,
   "metadata": {},
   "outputs": [
    {
     "data": {
      "text/plain": [
       "date               object\n",
       "train_id           object\n",
       "stop_sequence     float64\n",
       "from               object\n",
       "from_id             int64\n",
       "to                 object\n",
       "to_id               int64\n",
       "scheduled_time     object\n",
       "actual_time        object\n",
       "delay_minutes     float64\n",
       "status             object\n",
       "line               object\n",
       "type               object\n",
       "dtype: object"
      ]
     },
     "execution_count": 99,
     "metadata": {},
     "output_type": "execute_result"
    }
   ],
   "source": [
    "df.dtypes"
   ]
  },
  {
   "cell_type": "code",
   "execution_count": 100,
   "metadata": {},
   "outputs": [
    {
     "data": {
      "text/plain": [
       "<matplotlib.axes._subplots.AxesSubplot at 0x2508ce90>"
      ]
     },
     "execution_count": 100,
     "metadata": {},
     "output_type": "execute_result"
    },
    {
     "data": {
      "image/png": "[encoded data removed]",
      "text/plain": [
       "<Figure size 432x288 with 1 Axes>"
      ]
     },
     "metadata": {},
     "output_type": "display_data"
    }
   ],
   "source": [
    "plt.title(\"status Barplot\")\n",
    "sns.countplot(x=\"status\", data=df)"
   ]
  },
  {
   "cell_type": "code",
   "execution_count": 101,
   "metadata": {},
   "outputs": [
    {
     "data": {
      "text/plain": [
       "<matplotlib.axes._subplots.AxesSubplot at 0x4f5c9d0>"
      ]
     },
     "execution_count": 101,
     "metadata": {},
     "output_type": "execute_result"
    },
    {
     "data": {
      "image/png": "[encoded data removed]",
      "text/plain": [
       "<Figure size 432x288 with 1 Axes>"
      ]
     },
     "metadata": {},
     "output_type": "display_data"
    }
   ],
   "source": [
    "plt.title(\"line Barplot\")\n",
    "sns.countplot(x=\"line\", data=df)"
   ]
  },
  {
   "cell_type": "code",
   "execution_count": 102,
   "metadata": {},
   "outputs": [
    {
     "data": {
      "text/plain": [
       "<matplotlib.axes._subplots.AxesSubplot at 0x4f957f0>"
      ]
     },
     "execution_count": 102,
     "metadata": {},
     "output_type": "execute_result"
    },
    {
     "data": {
      "image/png": "[encoded data removed]",
      "text/plain": [
       "<Figure size 432x288 with 1 Axes>"
      ]
     },
     "metadata": {},
     "output_type": "display_data"
    }
   ],
   "source": [
    "plt.title(\"type Barplot\")\n",
    "sns.countplot(x=\"type\", data=df)"
   ]
  },
  {
   "cell_type": "code",
   "execution_count": 103,
   "metadata": {},
   "outputs": [],
   "source": [
    "df = df.drop(['date','train_id','stop_sequence','from','to','scheduled_time','actual_time','line'], 1)"
   ]
  },
  {
   "cell_type": "code",
   "execution_count": 104,
   "metadata": {},
   "outputs": [
    {
     "data": {
      "text/html": [
       "<div>\n",
       "<style scoped>\n",
       "    .dataframe tbody tr th:only-of-type {\n",
       "        vertical-align: middle;\n",
       "    }\n",
       "\n",
       "    .dataframe tbody tr th {\n",
       "        vertical-align: top;\n",
       "    }\n",
       "\n",
       "    .dataframe thead th {\n",
       "        text-align: right;\n",
       "    }\n",
       "</style>\n",
       "<table border=\"1\" class=\"dataframe\">\n",
       "  <thead>\n",
       "    <tr style=\"text-align: right;\">\n",
       "      <th></th>\n",
       "      <th>from_id</th>\n",
       "      <th>to_id</th>\n",
       "      <th>delay_minutes</th>\n",
       "      <th>status</th>\n",
       "      <th>type</th>\n",
       "    </tr>\n",
       "  </thead>\n",
       "  <tbody>\n",
       "    <tr>\n",
       "      <td>23719</td>\n",
       "      <td>117</td>\n",
       "      <td>49</td>\n",
       "      <td>2.000000</td>\n",
       "      <td>NaN</td>\n",
       "      <td>1</td>\n",
       "    </tr>\n",
       "    <tr>\n",
       "      <td>65590</td>\n",
       "      <td>125</td>\n",
       "      <td>107</td>\n",
       "      <td>3.416667</td>\n",
       "      <td>2.0</td>\n",
       "      <td>1</td>\n",
       "    </tr>\n",
       "    <tr>\n",
       "      <td>66592</td>\n",
       "      <td>99</td>\n",
       "      <td>104</td>\n",
       "      <td>0.266667</td>\n",
       "      <td>2.0</td>\n",
       "      <td>1</td>\n",
       "    </tr>\n",
       "    <tr>\n",
       "      <td>97092</td>\n",
       "      <td>112</td>\n",
       "      <td>61</td>\n",
       "      <td>1.250000</td>\n",
       "      <td>2.0</td>\n",
       "      <td>1</td>\n",
       "    </tr>\n",
       "    <tr>\n",
       "      <td>87570</td>\n",
       "      <td>125</td>\n",
       "      <td>103</td>\n",
       "      <td>11.116667</td>\n",
       "      <td>2.0</td>\n",
       "      <td>1</td>\n",
       "    </tr>\n",
       "  </tbody>\n",
       "</table>\n",
       "</div>"
      ],
      "text/plain": [
       "       from_id  to_id  delay_minutes  status  type\n",
       "23719      117     49       2.000000     NaN     1\n",
       "65590      125    107       3.416667     2.0     1\n",
       "66592       99    104       0.266667     2.0     1\n",
       "97092      112     61       1.250000     2.0     1\n",
       "87570      125    103      11.116667     2.0     1"
      ]
     },
     "execution_count": 104,
     "metadata": {},
     "output_type": "execute_result"
    }
   ],
   "source": [
    "df['status'] = df['status'].map({'departed': 2, 'estimated status': 1, 'cancelled': 0})\n",
    "df['type'] = df['type'].map({'NJ Transit': 1, 'Amtrak': 0})\n",
    "df.head()"
   ]
  },
  {
   "cell_type": "code",
   "execution_count": 105,
   "metadata": {},
   "outputs": [],
   "source": [
    "columns = df[['from_id','to_id','delay_minutes','status','type']]\n",
    "\n",
    "for column in columns: \n",
    "    df[column] = pd.to_numeric(df[column], errors='coerce')"
   ]
  },
  {
   "cell_type": "code",
   "execution_count": 106,
   "metadata": {},
   "outputs": [
    {
     "data": {
      "text/plain": [
       "from_id            int64\n",
       "to_id              int64\n",
       "delay_minutes    float64\n",
       "status           float64\n",
       "type               int64\n",
       "dtype: object"
      ]
     },
     "execution_count": 106,
     "metadata": {},
     "output_type": "execute_result"
    }
   ],
   "source": [
    "df.dtypes"
   ]
  },
  {
   "cell_type": "markdown",
   "metadata": {},
   "source": [
    "## Missing value"
   ]
  },
  {
   "cell_type": "code",
   "execution_count": 107,
   "metadata": {},
   "outputs": [
    {
     "data": {
      "text/plain": [
       "from_id          0.00\n",
       "to_id            0.00\n",
       "delay_minutes    9.86\n",
       "status           7.18\n",
       "type             0.00\n",
       "dtype: float64"
      ]
     },
     "execution_count": 107,
     "metadata": {},
     "output_type": "execute_result"
    }
   ],
   "source": [
    "df.isnull().sum()*100/df.isnull().count()"
   ]
  },
  {
   "cell_type": "code",
   "execution_count": 108,
   "metadata": {},
   "outputs": [],
   "source": [
    "df = df.dropna(axis=0,how='any') #drop all rows that have any NaN values"
   ]
  },
  {
   "cell_type": "markdown",
   "metadata": {},
   "source": [
    "## Normalization: Preprocessing"
   ]
  },
  {
   "cell_type": "code",
   "execution_count": 109,
   "metadata": {},
   "outputs": [],
   "source": [
    "X = df.drop(['status'],1)\n",
    "Y = df.drop(['from_id','to_id','delay_minutes','type'],1)"
   ]
  },
  {
   "cell_type": "code",
   "execution_count": 110,
   "metadata": {},
   "outputs": [
    {
     "data": {
      "text/plain": [
       "from_id          float64\n",
       "to_id            float64\n",
       "delay_minutes    float64\n",
       "type             float64\n",
       "dtype: object"
      ]
     },
     "execution_count": 110,
     "metadata": {},
     "output_type": "execute_result"
    }
   ],
   "source": [
    "X_normalized = normalize(X)\n",
    "X_normalized_df = pd.DataFrame(normalize(X), columns = X.columns)\n",
    "X_normalized_df.dtypes"
   ]
  },
  {
   "cell_type": "code",
   "execution_count": 111,
   "metadata": {},
   "outputs": [
    {
     "data": {
      "text/plain": [
       "from_id          float16\n",
       "to_id            float16\n",
       "delay_minutes    float16\n",
       "type             float16\n",
       "dtype: object"
      ]
     },
     "execution_count": 111,
     "metadata": {},
     "output_type": "execute_result"
    }
   ],
   "source": [
    "X_normalized_df['from_id'] = np.float16(X_normalized_df['from_id'])\n",
    "X_normalized_df['to_id'] = np.float16(X_normalized_df['to_id'])\n",
    "X_normalized_df['delay_minutes'] = np.float16(X_normalized_df['delay_minutes'])\n",
    "X_normalized_df['type'] = np.float16(X_normalized_df['type'])\n",
    "X_normalized_df.dtypes"
   ]
  },
  {
   "cell_type": "code",
   "execution_count": 113,
   "metadata": {},
   "outputs": [
    {
     "name": "stdout",
     "output_type": "stream",
     "text": [
      "Number of clusters from 2 to 6: \n",
      " [2, 3, 4, 5, 6]\n",
      "For n_clusters = 2, silhouette score is 0.5606741991248474\n",
      "For n_clusters = 3, silhouette score is 0.618476631351351\n",
      "For n_clusters = 4, silhouette score is 0.6057011018515441\n",
      "For n_clusters = 5, silhouette score is 0.6262456588182455\n",
      "For n_clusters = 6, silhouette score is 0.6192663468290768\n"
     ]
    }
   ],
   "source": [
    "#Use silhouette score\n",
    "range_n_clusters = list (range(2,7))\n",
    "print (\"Number of clusters from 2 to 6: \\n\", range_n_clusters)\n",
    "for n_clusters in range_n_clusters:\n",
    "    clusterer = KMeans (n_clusters=n_clusters)\n",
    "    preds = clusterer.fit_predict(X_normalized_df)\n",
    "    centers = clusterer.cluster_centers_\n",
    "    score = silhouette_score (X_normalized_df, preds, metric='euclidean')\n",
    "    print (\"For n_clusters = {}, silhouette score is {}\".format(n_clusters, score))"
   ]
  },
  {
   "cell_type": "markdown",
   "metadata": {},
   "source": [
    "From here, we can see that 5 clusters may be the best choose."
   ]
  },
  {
   "cell_type": "markdown",
   "metadata": {},
   "source": [
    "## K-Means"
   ]
  },
  {
   "cell_type": "code",
   "execution_count": 114,
   "metadata": {},
   "outputs": [
    {
     "data": {
      "text/plain": [
       "array([4, 4, 0, ..., 0, 2, 3])"
      ]
     },
     "execution_count": 114,
     "metadata": {},
     "output_type": "execute_result"
    }
   ],
   "source": [
    "km = KMeans(n_clusters=5, init='k-means++', n_init=10)\n",
    "Y_pred = km.fit_predict(X_normalized_df)\n",
    "Y_pred"
   ]
  },
  {
   "cell_type": "code",
   "execution_count": 115,
   "metadata": {},
   "outputs": [
    {
     "data": {
      "text/html": [
       "<div>\n",
       "<style scoped>\n",
       "    .dataframe tbody tr th:only-of-type {\n",
       "        vertical-align: middle;\n",
       "    }\n",
       "\n",
       "    .dataframe tbody tr th {\n",
       "        vertical-align: top;\n",
       "    }\n",
       "\n",
       "    .dataframe thead th {\n",
       "        text-align: right;\n",
       "    }\n",
       "</style>\n",
       "<table border=\"1\" class=\"dataframe\">\n",
       "  <thead>\n",
       "    <tr style=\"text-align: right;\">\n",
       "      <th></th>\n",
       "      <th>from_id</th>\n",
       "      <th>to_id</th>\n",
       "      <th>delay_minutes</th>\n",
       "      <th>status</th>\n",
       "      <th>type</th>\n",
       "      <th>Cluster</th>\n",
       "    </tr>\n",
       "  </thead>\n",
       "  <tbody>\n",
       "    <tr>\n",
       "      <td>65590</td>\n",
       "      <td>125</td>\n",
       "      <td>107</td>\n",
       "      <td>3.416667</td>\n",
       "      <td>2.0</td>\n",
       "      <td>1</td>\n",
       "      <td>4</td>\n",
       "    </tr>\n",
       "    <tr>\n",
       "      <td>66592</td>\n",
       "      <td>99</td>\n",
       "      <td>104</td>\n",
       "      <td>0.266667</td>\n",
       "      <td>2.0</td>\n",
       "      <td>1</td>\n",
       "      <td>4</td>\n",
       "    </tr>\n",
       "    <tr>\n",
       "      <td>97092</td>\n",
       "      <td>112</td>\n",
       "      <td>61</td>\n",
       "      <td>1.250000</td>\n",
       "      <td>2.0</td>\n",
       "      <td>1</td>\n",
       "      <td>0</td>\n",
       "    </tr>\n",
       "    <tr>\n",
       "      <td>87570</td>\n",
       "      <td>125</td>\n",
       "      <td>103</td>\n",
       "      <td>11.116667</td>\n",
       "      <td>2.0</td>\n",
       "      <td>1</td>\n",
       "      <td>4</td>\n",
       "    </tr>\n",
       "    <tr>\n",
       "      <td>160918</td>\n",
       "      <td>58</td>\n",
       "      <td>52</td>\n",
       "      <td>3.016667</td>\n",
       "      <td>2.0</td>\n",
       "      <td>1</td>\n",
       "      <td>4</td>\n",
       "    </tr>\n",
       "  </tbody>\n",
       "</table>\n",
       "</div>"
      ],
      "text/plain": [
       "        from_id  to_id  delay_minutes  status  type  Cluster\n",
       "65590       125    107       3.416667     2.0     1        4\n",
       "66592        99    104       0.266667     2.0     1        4\n",
       "97092       112     61       1.250000     2.0     1        0\n",
       "87570       125    103      11.116667     2.0     1        4\n",
       "160918       58     52       3.016667     2.0     1        4"
      ]
     },
     "execution_count": 115,
     "metadata": {},
     "output_type": "execute_result"
    }
   ],
   "source": [
    "df[\"Cluster\"]=Y_pred\n",
    "df.head()"
   ]
  },
  {
   "cell_type": "code",
   "execution_count": 116,
   "metadata": {},
   "outputs": [
    {
     "data": {
      "text/html": [
       "<div>\n",
       "<style scoped>\n",
       "    .dataframe tbody tr th:only-of-type {\n",
       "        vertical-align: middle;\n",
       "    }\n",
       "\n",
       "    .dataframe tbody tr th {\n",
       "        vertical-align: top;\n",
       "    }\n",
       "\n",
       "    .dataframe thead th {\n",
       "        text-align: right;\n",
       "    }\n",
       "</style>\n",
       "<table border=\"1\" class=\"dataframe\">\n",
       "  <thead>\n",
       "    <tr style=\"text-align: right;\">\n",
       "      <th></th>\n",
       "      <th>from_id</th>\n",
       "      <th>to_id</th>\n",
       "      <th>delay_minutes</th>\n",
       "      <th>status</th>\n",
       "      <th>type</th>\n",
       "      <th>Cluster</th>\n",
       "    </tr>\n",
       "  </thead>\n",
       "  <tbody>\n",
       "    <tr>\n",
       "      <td>93945</td>\n",
       "      <td>140</td>\n",
       "      <td>81</td>\n",
       "      <td>4.100000</td>\n",
       "      <td>2.0</td>\n",
       "      <td>1</td>\n",
       "      <td>0</td>\n",
       "    </tr>\n",
       "    <tr>\n",
       "      <td>236208</td>\n",
       "      <td>136</td>\n",
       "      <td>87</td>\n",
       "      <td>4.216667</td>\n",
       "      <td>2.0</td>\n",
       "      <td>1</td>\n",
       "      <td>0</td>\n",
       "    </tr>\n",
       "    <tr>\n",
       "      <td>133812</td>\n",
       "      <td>141</td>\n",
       "      <td>79</td>\n",
       "      <td>4.000000</td>\n",
       "      <td>2.0</td>\n",
       "      <td>1</td>\n",
       "      <td>0</td>\n",
       "    </tr>\n",
       "    <tr>\n",
       "      <td>157796</td>\n",
       "      <td>75</td>\n",
       "      <td>33</td>\n",
       "      <td>2.633333</td>\n",
       "      <td>2.0</td>\n",
       "      <td>1</td>\n",
       "      <td>0</td>\n",
       "    </tr>\n",
       "    <tr>\n",
       "      <td>132959</td>\n",
       "      <td>116</td>\n",
       "      <td>58</td>\n",
       "      <td>2.583333</td>\n",
       "      <td>2.0</td>\n",
       "      <td>1</td>\n",
       "      <td>0</td>\n",
       "    </tr>\n",
       "    <tr>\n",
       "      <td>...</td>\n",
       "      <td>...</td>\n",
       "      <td>...</td>\n",
       "      <td>...</td>\n",
       "      <td>...</td>\n",
       "      <td>...</td>\n",
       "      <td>...</td>\n",
       "    </tr>\n",
       "    <tr>\n",
       "      <td>199100</td>\n",
       "      <td>104</td>\n",
       "      <td>99</td>\n",
       "      <td>6.166667</td>\n",
       "      <td>2.0</td>\n",
       "      <td>1</td>\n",
       "      <td>4</td>\n",
       "    </tr>\n",
       "    <tr>\n",
       "      <td>73883</td>\n",
       "      <td>153</td>\n",
       "      <td>152</td>\n",
       "      <td>2.333333</td>\n",
       "      <td>2.0</td>\n",
       "      <td>1</td>\n",
       "      <td>4</td>\n",
       "    </tr>\n",
       "    <tr>\n",
       "      <td>170530</td>\n",
       "      <td>91</td>\n",
       "      <td>92</td>\n",
       "      <td>5.216667</td>\n",
       "      <td>2.0</td>\n",
       "      <td>1</td>\n",
       "      <td>4</td>\n",
       "    </tr>\n",
       "    <tr>\n",
       "      <td>58235</td>\n",
       "      <td>69</td>\n",
       "      <td>98</td>\n",
       "      <td>2.466667</td>\n",
       "      <td>2.0</td>\n",
       "      <td>1</td>\n",
       "      <td>4</td>\n",
       "    </tr>\n",
       "    <tr>\n",
       "      <td>57198</td>\n",
       "      <td>112</td>\n",
       "      <td>140</td>\n",
       "      <td>2.333333</td>\n",
       "      <td>2.0</td>\n",
       "      <td>1</td>\n",
       "      <td>4</td>\n",
       "    </tr>\n",
       "  </tbody>\n",
       "</table>\n",
       "<p>4168 rows × 6 columns</p>\n",
       "</div>"
      ],
      "text/plain": [
       "        from_id  to_id  delay_minutes  status  type  Cluster\n",
       "93945       140     81       4.100000     2.0     1        0\n",
       "236208      136     87       4.216667     2.0     1        0\n",
       "133812      141     79       4.000000     2.0     1        0\n",
       "157796       75     33       2.633333     2.0     1        0\n",
       "132959      116     58       2.583333     2.0     1        0\n",
       "...         ...    ...            ...     ...   ...      ...\n",
       "199100      104     99       6.166667     2.0     1        4\n",
       "73883       153    152       2.333333     2.0     1        4\n",
       "170530       91     92       5.216667     2.0     1        4\n",
       "58235        69     98       2.466667     2.0     1        4\n",
       "57198       112    140       2.333333     2.0     1        4\n",
       "\n",
       "[4168 rows x 6 columns]"
      ]
     },
     "execution_count": 116,
     "metadata": {},
     "output_type": "execute_result"
    }
   ],
   "source": [
    "df = df.sort_values(['Cluster'])\n",
    "df"
   ]
  },
  {
   "cell_type": "code",
   "execution_count": 129,
   "metadata": {},
   "outputs": [
    {
     "data": {
      "text/plain": [
       "<matplotlib.axes._subplots.AxesSubplot at 0x1db7c5b0>"
      ]
     },
     "execution_count": 129,
     "metadata": {},
     "output_type": "execute_result"
    },
    {
     "data": {
      "image/png": "[encoded data removed]",
      "text/plain": [
       "<Figure size 432x288 with 1 Axes>"
      ]
     },
     "metadata": {},
     "output_type": "display_data"
    }
   ],
   "source": [
    "plt.title(\"status Barplot of each Cluster\")\n",
    "sns.countplot(x=\"status\",hue=\"Cluster\", data=df)"
   ]
  },
  {
   "cell_type": "code",
   "execution_count": 131,
   "metadata": {},
   "outputs": [
    {
     "data": {
      "text/plain": [
       "<matplotlib.axes._subplots.AxesSubplot at 0x1e13ad10>"
      ]
     },
     "execution_count": 131,
     "metadata": {},
     "output_type": "execute_result"
    },
    {
     "data": {
      "image/png": "[encoded data removed]",
      "text/plain": [
       "<Figure size 432x288 with 1 Axes>"
      ]
     },
     "metadata": {},
     "output_type": "display_data"
    }
   ],
   "source": [
    "plt.title(\"type Barplot of each Cluster\")\n",
    "sns.countplot(x=\"type\",hue=\"Cluster\", data=df)"
   ]
  },
  {
   "cell_type": "markdown",
   "metadata": {},
   "source": [
    "## Supervised "
   ]
  },
  {
   "cell_type": "code",
   "execution_count": 132,
   "metadata": {},
   "outputs": [],
   "source": [
    "X_train, X_test, Y_train, Y_test = train_test_split(X_normalized_df, Y, test_size=0.4, random_state=0)"
   ]
  },
  {
   "cell_type": "markdown",
   "metadata": {},
   "source": [
    "### Model 1: Decision Tree Model"
   ]
  },
  {
   "cell_type": "code",
   "execution_count": 133,
   "metadata": {},
   "outputs": [
    {
     "data": {
      "text/plain": [
       "DecisionTreeClassifier(class_weight=None, criterion='entropy', max_depth=3,\n",
       "                       max_features=None, max_leaf_nodes=None,\n",
       "                       min_impurity_decrease=0.0, min_impurity_split=None,\n",
       "                       min_samples_leaf=1, min_samples_split=2,\n",
       "                       min_weight_fraction_leaf=0.0, presort=False,\n",
       "                       random_state=0, splitter='best')"
      ]
     },
     "execution_count": 133,
     "metadata": {},
     "output_type": "execute_result"
    }
   ],
   "source": [
    "decision_tree = tree.DecisionTreeClassifier(criterion = 'entropy', max_depth = 3, random_state = 0)\n",
    "dtmodel=decision_tree.fit(X_train,Y_train)\n",
    "decision_tree.fit(X_train,Y_train)"
   ]
  },
  {
   "cell_type": "markdown",
   "metadata": {},
   "source": [
    "#### Cross validation"
   ]
  },
  {
   "cell_type": "code",
   "execution_count": 134,
   "metadata": {},
   "outputs": [
    {
     "name": "stdout",
     "output_type": "stream",
     "text": [
      "0.9863999999999999\n"
     ]
    }
   ],
   "source": [
    "scores = cross_val_score(decision_tree, X_train, Y_train, cv=10)\n",
    "print(scores.mean())"
   ]
  },
  {
   "cell_type": "markdown",
   "metadata": {},
   "source": [
    "#### Classification_report and Confusion matrix"
   ]
  },
  {
   "cell_type": "code",
   "execution_count": 135,
   "metadata": {},
   "outputs": [
    {
     "name": "stdout",
     "output_type": "stream",
     "text": [
      "Decision Tree Model Classification report:\n",
      "Accuracy:  0.9886091127098321\n",
      "              precision    recall  f1-score   support\n",
      "\n",
      "         0.0       0.00      0.00      0.00         1\n",
      "         2.0       1.00      0.99      0.99      1667\n",
      "\n",
      "    accuracy                           0.99      1668\n",
      "   macro avg       0.50      0.49      0.50      1668\n",
      "weighted avg       1.00      0.99      0.99      1668\n",
      "\n",
      "Confusion matrix:\n",
      "[[   0   18]\n",
      " [   1 1649]]\n"
     ]
    }
   ],
   "source": [
    "Y_pred = dtmodel.predict(X_test) \n",
    "accuracy = accuracy_score(Y_test,Y_pred)\n",
    "report = classification_report(Y_pred, Y_test)\n",
    "cm = confusion_matrix(Y_test,Y_pred)\n",
    "\n",
    "print(\"Decision Tree Model Classification report:\")\n",
    "print(\"Accuracy: \", accuracy)\n",
    "print(report)\n",
    "print(\"Confusion matrix:\")\n",
    "print(cm)"
   ]
  },
  {
   "cell_type": "markdown",
   "metadata": {},
   "source": [
    "### Model 2: Random forest model"
   ]
  },
  {
   "cell_type": "code",
   "execution_count": 136,
   "metadata": {},
   "outputs": [
    {
     "data": {
      "text/html": [
       "<div>\n",
       "<style scoped>\n",
       "    .dataframe tbody tr th:only-of-type {\n",
       "        vertical-align: middle;\n",
       "    }\n",
       "\n",
       "    .dataframe tbody tr th {\n",
       "        vertical-align: top;\n",
       "    }\n",
       "\n",
       "    .dataframe thead th {\n",
       "        text-align: right;\n",
       "    }\n",
       "</style>\n",
       "<table border=\"1\" class=\"dataframe\">\n",
       "  <thead>\n",
       "    <tr style=\"text-align: right;\">\n",
       "      <th></th>\n",
       "      <th>feature</th>\n",
       "      <th>importance</th>\n",
       "    </tr>\n",
       "  </thead>\n",
       "  <tbody>\n",
       "    <tr>\n",
       "      <td>0</td>\n",
       "      <td>type</td>\n",
       "      <td>0.296535</td>\n",
       "    </tr>\n",
       "    <tr>\n",
       "      <td>1</td>\n",
       "      <td>to_id</td>\n",
       "      <td>0.254603</td>\n",
       "    </tr>\n",
       "    <tr>\n",
       "      <td>2</td>\n",
       "      <td>from_id</td>\n",
       "      <td>0.241384</td>\n",
       "    </tr>\n",
       "    <tr>\n",
       "      <td>3</td>\n",
       "      <td>delay_minutes</td>\n",
       "      <td>0.207479</td>\n",
       "    </tr>\n",
       "  </tbody>\n",
       "</table>\n",
       "</div>"
      ],
      "text/plain": [
       "         feature  importance\n",
       "0           type    0.296535\n",
       "1          to_id    0.254603\n",
       "2        from_id    0.241384\n",
       "3  delay_minutes    0.207479"
      ]
     },
     "execution_count": 136,
     "metadata": {},
     "output_type": "execute_result"
    }
   ],
   "source": [
    "rfc = ensemble.RandomForestClassifier()\n",
    "dtmodel_R=rfc.fit(X_test, Y_test)\n",
    "names_importances = {}\n",
    "for feature, importance in zip(X_test.columns, rfc.feature_importances_):\n",
    "    names_importances[feature] = importance\n",
    "    names_importances_desc = sorted(names_importances.items(), key=lambda x: x[1], reverse=True)\n",
    "    names_importances_desc = pd.DataFrame(names_importances_desc, columns=['feature','importance'])\n",
    "names_importances_desc"
   ]
  },
  {
   "cell_type": "markdown",
   "metadata": {},
   "source": [
    "#### Cross validation"
   ]
  },
  {
   "cell_type": "code",
   "execution_count": 137,
   "metadata": {},
   "outputs": [
    {
     "name": "stdout",
     "output_type": "stream",
     "text": [
      "0.9827999999999999\n"
     ]
    }
   ],
   "source": [
    "scores = cross_val_score(rfc, X_train, Y_train, cv=10)\n",
    "print(scores.mean())"
   ]
  },
  {
   "cell_type": "markdown",
   "metadata": {},
   "source": [
    "#### Classification_report and Confusion matrix"
   ]
  },
  {
   "cell_type": "code",
   "execution_count": 138,
   "metadata": {},
   "outputs": [
    {
     "name": "stdout",
     "output_type": "stream",
     "text": [
      "Random forest model Classification report:\n",
      "Accuracy:  0.999400479616307\n",
      "              precision    recall  f1-score   support\n",
      "\n",
      "         0.0       0.94      1.00      0.97        17\n",
      "         2.0       1.00      1.00      1.00      1651\n",
      "\n",
      "    accuracy                           1.00      1668\n",
      "   macro avg       0.97      1.00      0.99      1668\n",
      "weighted avg       1.00      1.00      1.00      1668\n",
      "\n",
      "Confusion matrix:\n",
      "[[  17    1]\n",
      " [   0 1650]]\n"
     ]
    }
   ],
   "source": [
    "Y_pred = dtmodel_R.predict(X_test) \n",
    "accuracy = accuracy_score(Y_test,Y_pred)\n",
    "report = classification_report(Y_pred, Y_test)\n",
    "cm = confusion_matrix(Y_test,Y_pred)\n",
    "\n",
    "print(\"Random forest model Classification report:\")\n",
    "print(\"Accuracy: \", accuracy)\n",
    "print(report)\n",
    "print(\"Confusion matrix:\")\n",
    "print(cm)"
   ]
  },
  {
   "cell_type": "markdown",
   "metadata": {},
   "source": [
    "## Conclusion"
   ]
  },
  {
   "cell_type": "markdown",
   "metadata": {},
   "source": [
    "For unsupervised learning, we got the silhouette score for each number of cluster from 2 to 6 and the score reaches the maximum value at n = 5. So we decide to use n = 5 to do the K-Means cluster. We show the barplot of status and type for each cluster. From these barplots, we can see that the Cluster4 contains the most observations and the Cluster2 contains the least observations. For the other clusters, we don't see any obvious features of them.\n",
    "\n",
    "For supervised learning, we decided to use 'status' to classfy our dataset. We used two models: Decision Tree Model and Random forest model. And we also do show the cross validation, Classification_report and Confusion matrix for each model. From the result, we can conclude that the result of the classification is perfect. We got  good cross validation score, accuracy and confusion matrix."
   ]
  },
  {
   "cell_type": "code",
   "execution_count": null,
   "metadata": {},
   "outputs": [],
   "source": []
  }
 ],
 "metadata": {
  "kernelspec": {
   "display_name": "Python 3",
   "language": "python",
   "name": "python3"
  },
  "language_info": {
   "codemirror_mode": {
    "name": "ipython",
    "version": 3
   },
   "file_extension": ".py",
   "mimetype": "text/x-python",
   "name": "python",
   "nbconvert_exporter": "python",
   "pygments_lexer": "ipython3",
   "version": "3.7.4"
  }
 },
 "nbformat": 4,
 "nbformat_minor": 2
}
