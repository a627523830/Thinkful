{
 "cells": [
  {
   "cell_type": "code",
   "execution_count": 154,
   "metadata": {},
   "outputs": [],
   "source": [
    "import matplotlib.pyplot as plt\n",
    "import numpy as np\n",
    "import pandas as pd\n",
    "import seaborn as sns\n",
    "sns.set_style('white')\n",
    "import warnings\n",
    "warnings.filterwarnings(\"ignore\")\n",
    "from itertools import cycle\n",
    "from sklearn.preprocessing import normalize\n",
    "from sklearn.model_selection import train_test_split\n",
    "from sklearn.decomposition import PCA\n",
    "from sklearn import metrics\n",
    "from sklearn.metrics import pairwise_distances\n",
    "from sklearn.cluster import MeanShift, estimate_bandwidth\n",
    "from sklearn.cluster import SpectralClustering\n",
    "from sklearn.cluster import AffinityPropagation\n",
    "from sklearn.cluster import KMeans\n",
    "from sklearn.metrics import silhouette_samples, silhouette_score\n",
    "import random\n",
    "from sklearn import tree\n",
    "import pydotplus\n",
    "import scipy.stats as stats\n",
    "import timeit\n",
    "from sklearn.utils import column_or_1d \n",
    "from sklearn.neighbors import KNeighborsClassifier\n",
    "from IPython.display import Image\n",
    "from sklearn.model_selection import cross_val_score\n",
    "from sklearn.datasets import load_digits\n",
    "from sklearn.feature_selection import SelectKBest, chi2\n",
    "from sklearn.feature_selection import f_classif \n",
    "from sklearn.model_selection import GridSearchCV\n",
    "from sklearn.pipeline import Pipeline\n",
    "from sklearn.preprocessing import MinMaxScaler\n",
    "from sklearn.linear_model import LogisticRegression\n",
    "from sklearn.svm import SVC\n",
    "from sklearn.metrics import accuracy_score,confusion_matrix,\\\n",
    " classification_report\n",
    "from sklearn.tree import DecisionTreeClassifier\n",
    "from sklearn import ensemble"
   ]
  },
  {
   "cell_type": "markdown",
   "metadata": {},
   "source": [
    "The dataset I used was 'NJ Transit + Amtrak (NEC) Rail Performance'. Here is the link: https://www.kaggle.com/pranavbadami/nj-transit-amtrak-nec-performance"
   ]
  },
  {
   "cell_type": "code",
   "execution_count": 155,
   "metadata": {},
   "outputs": [
    {
     "data": {
      "text/html": [
       "<div>\n",
       "<style scoped>\n",
       "    .dataframe tbody tr th:only-of-type {\n",
       "        vertical-align: middle;\n",
       "    }\n",
       "\n",
       "    .dataframe tbody tr th {\n",
       "        vertical-align: top;\n",
       "    }\n",
       "\n",
       "    .dataframe thead th {\n",
       "        text-align: right;\n",
       "    }\n",
       "</style>\n",
       "<table border=\"1\" class=\"dataframe\">\n",
       "  <thead>\n",
       "    <tr style=\"text-align: right;\">\n",
       "      <th></th>\n",
       "      <th>date</th>\n",
       "      <th>train_id</th>\n",
       "      <th>stop_sequence</th>\n",
       "      <th>from</th>\n",
       "      <th>from_id</th>\n",
       "      <th>to</th>\n",
       "      <th>to_id</th>\n",
       "      <th>scheduled_time</th>\n",
       "      <th>actual_time</th>\n",
       "      <th>delay_minutes</th>\n",
       "      <th>status</th>\n",
       "      <th>line</th>\n",
       "      <th>type</th>\n",
       "    </tr>\n",
       "  </thead>\n",
       "  <tbody>\n",
       "    <tr>\n",
       "      <td>0</td>\n",
       "      <td>2019-04-01</td>\n",
       "      <td>4393</td>\n",
       "      <td>1.0</td>\n",
       "      <td>Long Branch</td>\n",
       "      <td>74</td>\n",
       "      <td>Long Branch</td>\n",
       "      <td>74</td>\n",
       "      <td>2019-04-02 00:08:00</td>\n",
       "      <td>2019-04-02 00:07:06</td>\n",
       "      <td>0.000000</td>\n",
       "      <td>departed</td>\n",
       "      <td>No Jersey Coast</td>\n",
       "      <td>NJ Transit</td>\n",
       "    </tr>\n",
       "    <tr>\n",
       "      <td>1</td>\n",
       "      <td>2019-04-01</td>\n",
       "      <td>4393</td>\n",
       "      <td>2.0</td>\n",
       "      <td>Long Branch</td>\n",
       "      <td>74</td>\n",
       "      <td>Elberon</td>\n",
       "      <td>40</td>\n",
       "      <td>2019-04-02 00:12:00</td>\n",
       "      <td>2019-04-02 00:13:09</td>\n",
       "      <td>1.150000</td>\n",
       "      <td>departed</td>\n",
       "      <td>No Jersey Coast</td>\n",
       "      <td>NJ Transit</td>\n",
       "    </tr>\n",
       "    <tr>\n",
       "      <td>2</td>\n",
       "      <td>2019-04-01</td>\n",
       "      <td>4393</td>\n",
       "      <td>3.0</td>\n",
       "      <td>Elberon</td>\n",
       "      <td>40</td>\n",
       "      <td>Allenhurst</td>\n",
       "      <td>4</td>\n",
       "      <td>2019-04-02 00:16:00</td>\n",
       "      <td>2019-04-02 00:18:07</td>\n",
       "      <td>2.116667</td>\n",
       "      <td>departed</td>\n",
       "      <td>No Jersey Coast</td>\n",
       "      <td>NJ Transit</td>\n",
       "    </tr>\n",
       "    <tr>\n",
       "      <td>3</td>\n",
       "      <td>2019-04-01</td>\n",
       "      <td>4393</td>\n",
       "      <td>4.0</td>\n",
       "      <td>Allenhurst</td>\n",
       "      <td>4</td>\n",
       "      <td>Asbury Park</td>\n",
       "      <td>8</td>\n",
       "      <td>2019-04-02 00:20:00</td>\n",
       "      <td>2019-04-02 00:21:12</td>\n",
       "      <td>1.200000</td>\n",
       "      <td>departed</td>\n",
       "      <td>No Jersey Coast</td>\n",
       "      <td>NJ Transit</td>\n",
       "    </tr>\n",
       "    <tr>\n",
       "      <td>4</td>\n",
       "      <td>2019-04-01</td>\n",
       "      <td>4393</td>\n",
       "      <td>5.0</td>\n",
       "      <td>Asbury Park</td>\n",
       "      <td>8</td>\n",
       "      <td>Bradley Beach</td>\n",
       "      <td>22</td>\n",
       "      <td>2019-04-02 00:23:00</td>\n",
       "      <td>2019-04-02 00:23:10</td>\n",
       "      <td>0.166667</td>\n",
       "      <td>departed</td>\n",
       "      <td>No Jersey Coast</td>\n",
       "      <td>NJ Transit</td>\n",
       "    </tr>\n",
       "  </tbody>\n",
       "</table>\n",
       "</div>"
      ],
      "text/plain": [
       "         date train_id  stop_sequence         from  from_id             to  \\\n",
       "0  2019-04-01     4393            1.0  Long Branch       74    Long Branch   \n",
       "1  2019-04-01     4393            2.0  Long Branch       74        Elberon   \n",
       "2  2019-04-01     4393            3.0      Elberon       40     Allenhurst   \n",
       "3  2019-04-01     4393            4.0   Allenhurst        4    Asbury Park   \n",
       "4  2019-04-01     4393            5.0  Asbury Park        8  Bradley Beach   \n",
       "\n",
       "   to_id       scheduled_time          actual_time  delay_minutes    status  \\\n",
       "0     74  2019-04-02 00:08:00  2019-04-02 00:07:06       0.000000  departed   \n",
       "1     40  2019-04-02 00:12:00  2019-04-02 00:13:09       1.150000  departed   \n",
       "2      4  2019-04-02 00:16:00  2019-04-02 00:18:07       2.116667  departed   \n",
       "3      8  2019-04-02 00:20:00  2019-04-02 00:21:12       1.200000  departed   \n",
       "4     22  2019-04-02 00:23:00  2019-04-02 00:23:10       0.166667  departed   \n",
       "\n",
       "              line        type  \n",
       "0  No Jersey Coast  NJ Transit  \n",
       "1  No Jersey Coast  NJ Transit  \n",
       "2  No Jersey Coast  NJ Transit  \n",
       "3  No Jersey Coast  NJ Transit  \n",
       "4  No Jersey Coast  NJ Transit  "
      ]
     },
     "execution_count": 155,
     "metadata": {},
     "output_type": "execute_result"
    }
   ],
   "source": [
    "df_o = pd.read_csv('2019_04.csv')\n",
    "df_o.head()"
   ]
  },
  {
   "cell_type": "code",
   "execution_count": 156,
   "metadata": {},
   "outputs": [
    {
     "data": {
      "text/html": [
       "<div>\n",
       "<style scoped>\n",
       "    .dataframe tbody tr th:only-of-type {\n",
       "        vertical-align: middle;\n",
       "    }\n",
       "\n",
       "    .dataframe tbody tr th {\n",
       "        vertical-align: top;\n",
       "    }\n",
       "\n",
       "    .dataframe thead th {\n",
       "        text-align: right;\n",
       "    }\n",
       "</style>\n",
       "<table border=\"1\" class=\"dataframe\">\n",
       "  <thead>\n",
       "    <tr style=\"text-align: right;\">\n",
       "      <th></th>\n",
       "      <th>stop_sequence</th>\n",
       "      <th>from_id</th>\n",
       "      <th>to_id</th>\n",
       "      <th>delay_minutes</th>\n",
       "    </tr>\n",
       "  </thead>\n",
       "  <tbody>\n",
       "    <tr>\n",
       "      <td>count</td>\n",
       "      <td>213163.000000</td>\n",
       "      <td>238693.000000</td>\n",
       "      <td>238693.000000</td>\n",
       "      <td>213163.000000</td>\n",
       "    </tr>\n",
       "    <tr>\n",
       "      <td>mean</td>\n",
       "      <td>8.200063</td>\n",
       "      <td>4199.830297</td>\n",
       "      <td>4208.931670</td>\n",
       "      <td>3.697638</td>\n",
       "    </tr>\n",
       "    <tr>\n",
       "      <td>std</td>\n",
       "      <td>5.108761</td>\n",
       "      <td>11739.567890</td>\n",
       "      <td>11749.484752</td>\n",
       "      <td>4.768392</td>\n",
       "    </tr>\n",
       "    <tr>\n",
       "      <td>min</td>\n",
       "      <td>1.000000</td>\n",
       "      <td>1.000000</td>\n",
       "      <td>1.000000</td>\n",
       "      <td>0.000000</td>\n",
       "    </tr>\n",
       "    <tr>\n",
       "      <td>25%</td>\n",
       "      <td>4.000000</td>\n",
       "      <td>61.000000</td>\n",
       "      <td>61.000000</td>\n",
       "      <td>1.100000</td>\n",
       "    </tr>\n",
       "    <tr>\n",
       "      <td>50%</td>\n",
       "      <td>8.000000</td>\n",
       "      <td>105.000000</td>\n",
       "      <td>105.000000</td>\n",
       "      <td>2.350000</td>\n",
       "    </tr>\n",
       "    <tr>\n",
       "      <td>75%</td>\n",
       "      <td>12.000000</td>\n",
       "      <td>137.000000</td>\n",
       "      <td>137.000000</td>\n",
       "      <td>4.916667</td>\n",
       "    </tr>\n",
       "    <tr>\n",
       "      <td>max</td>\n",
       "      <td>26.000000</td>\n",
       "      <td>43599.000000</td>\n",
       "      <td>43599.000000</td>\n",
       "      <td>163.000000</td>\n",
       "    </tr>\n",
       "  </tbody>\n",
       "</table>\n",
       "</div>"
      ],
      "text/plain": [
       "       stop_sequence        from_id          to_id  delay_minutes\n",
       "count  213163.000000  238693.000000  238693.000000  213163.000000\n",
       "mean        8.200063    4199.830297    4208.931670       3.697638\n",
       "std         5.108761   11739.567890   11749.484752       4.768392\n",
       "min         1.000000       1.000000       1.000000       0.000000\n",
       "25%         4.000000      61.000000      61.000000       1.100000\n",
       "50%         8.000000     105.000000     105.000000       2.350000\n",
       "75%        12.000000     137.000000     137.000000       4.916667\n",
       "max        26.000000   43599.000000   43599.000000     163.000000"
      ]
     },
     "execution_count": 156,
     "metadata": {},
     "output_type": "execute_result"
    }
   ],
   "source": [
    "df_o.describe()"
   ]
  },
  {
   "cell_type": "markdown",
   "metadata": {},
   "source": [
    "There are more than 200 thousand observations in our dataset, so we need to picj up a sample."
   ]
  },
  {
   "cell_type": "code",
   "execution_count": 157,
   "metadata": {},
   "outputs": [],
   "source": [
    "df=df_o.sample(n=5000) #random pick up a simple"
   ]
  },
  {
   "cell_type": "code",
   "execution_count": 158,
   "metadata": {},
   "outputs": [
    {
     "data": {
      "text/plain": [
       "date               object\n",
       "train_id           object\n",
       "stop_sequence     float64\n",
       "from               object\n",
       "from_id             int64\n",
       "to                 object\n",
       "to_id               int64\n",
       "scheduled_time     object\n",
       "actual_time        object\n",
       "delay_minutes     float64\n",
       "status             object\n",
       "line               object\n",
       "type               object\n",
       "dtype: object"
      ]
     },
     "execution_count": 158,
     "metadata": {},
     "output_type": "execute_result"
    }
   ],
   "source": [
    "df.dtypes"
   ]
  },
  {
   "cell_type": "markdown",
   "metadata": {},
   "source": [
    "## Visualization"
   ]
  },
  {
   "cell_type": "markdown",
   "metadata": {},
   "source": [
    "### Missing values"
   ]
  },
  {
   "cell_type": "code",
   "execution_count": 159,
   "metadata": {},
   "outputs": [
    {
     "data": {
      "text/plain": [
       "True"
      ]
     },
     "execution_count": 159,
     "metadata": {},
     "output_type": "execute_result"
    }
   ],
   "source": [
    "# Checking missing values\n",
    "df.isnull().values.any()"
   ]
  },
  {
   "cell_type": "code",
   "execution_count": 160,
   "metadata": {},
   "outputs": [
    {
     "data": {
      "text/plain": [
       "date                0\n",
       "train_id            0\n",
       "stop_sequence     525\n",
       "from                0\n",
       "from_id             0\n",
       "to                  0\n",
       "to_id               0\n",
       "scheduled_time    525\n",
       "actual_time         0\n",
       "delay_minutes     525\n",
       "status              0\n",
       "line                0\n",
       "type                0\n",
       "dtype: int64"
      ]
     },
     "execution_count": 160,
     "metadata": {},
     "output_type": "execute_result"
    }
   ],
   "source": [
    "df.isnull().sum()"
   ]
  },
  {
   "cell_type": "markdown",
   "metadata": {},
   "source": [
    "We can see that the three variables:'stop_sequence','scheduled_time','delay_minutes' have missing values."
   ]
  },
  {
   "cell_type": "code",
   "execution_count": 161,
   "metadata": {},
   "outputs": [
    {
     "data": {
      "text/plain": [
       "<matplotlib.axes._subplots.AxesSubplot at 0xf309210>"
      ]
     },
     "execution_count": 161,
     "metadata": {},
     "output_type": "execute_result"
    },
    {
     "data": {
      "image/png": "[encoded data removed]",
      "text/plain": [
       "<Figure size 432x288 with 1 Axes>"
      ]
     },
     "metadata": {},
     "output_type": "display_data"
    }
   ],
   "source": [
    "# before deleting missing values\n",
    "plt.title(\"type Barplot\")\n",
    "sns.countplot(x=\"type\", data=df)"
   ]
  },
  {
   "cell_type": "code",
   "execution_count": 162,
   "metadata": {},
   "outputs": [],
   "source": [
    "# Removing missing values\n",
    "df = df.dropna()"
   ]
  },
  {
   "cell_type": "code",
   "execution_count": 163,
   "metadata": {},
   "outputs": [
    {
     "data": {
      "text/plain": [
       "<matplotlib.axes._subplots.AxesSubplot at 0x21a66df0>"
      ]
     },
     "execution_count": 163,
     "metadata": {},
     "output_type": "execute_result"
    },
    {
     "data": {
      "image/png": "[encoded data removed]",
      "text/plain": [
       "<Figure size 432x288 with 1 Axes>"
      ]
     },
     "metadata": {},
     "output_type": "display_data"
    }
   ],
   "source": [
    "# after deleting missing values\n",
    "plt.title(\"type Barplot\")\n",
    "sns.countplot(x=\"type\", data=df)"
   ]
  },
  {
   "cell_type": "markdown",
   "metadata": {},
   "source": [
    "From the two barplots, we can see that all missing values are from 'type:Amtrak'.So we decide just pay attention on the NJ Transit."
   ]
  },
  {
   "cell_type": "markdown",
   "metadata": {},
   "source": [
    "### Outlier"
   ]
  },
  {
   "cell_type": "code",
   "execution_count": 164,
   "metadata": {},
   "outputs": [
    {
     "data": {
      "image/png": "[encoded data removed]",
      "text/plain": [
       "<Figure size 432x288 with 1 Axes>"
      ]
     },
     "metadata": {},
     "output_type": "display_data"
    }
   ],
   "source": [
    "plt.boxplot(df[\"delay_minutes\"])\n",
    "plt.title(\"Box plot of delay_minutes\")\n",
    "plt.show()"
   ]
  },
  {
   "cell_type": "markdown",
   "metadata": {},
   "source": [
    "### Explore some character variables"
   ]
  },
  {
   "cell_type": "code",
   "execution_count": 165,
   "metadata": {},
   "outputs": [
    {
     "data": {
      "text/plain": [
       "<matplotlib.axes._subplots.AxesSubplot at 0x21a61650>"
      ]
     },
     "execution_count": 165,
     "metadata": {},
     "output_type": "execute_result"
    },
    {
     "data": {
      "image/png": "[encoded data removed]",
      "text/plain": [
       "<Figure size 432x288 with 1 Axes>"
      ]
     },
     "metadata": {},
     "output_type": "display_data"
    }
   ],
   "source": [
    "plt.title(\"status Barplot\")\n",
    "sns.countplot(x=\"status\", data=df)"
   ]
  },
  {
   "cell_type": "markdown",
   "metadata": {},
   "source": [
    "Most of trains departed."
   ]
  },
  {
   "cell_type": "code",
   "execution_count": 166,
   "metadata": {},
   "outputs": [
    {
     "data": {
      "text/plain": [
       "<matplotlib.axes._subplots.AxesSubplot at 0x21af0630>"
      ]
     },
     "execution_count": 166,
     "metadata": {},
     "output_type": "execute_result"
    },
    {
     "data": {
      "image/png": "[encoded data removed]",
      "text/plain": [
       "<Figure size 432x288 with 1 Axes>"
      ]
     },
     "metadata": {},
     "output_type": "display_data"
    }
   ],
   "source": [
    "plt.title(\"line Barplot\")\n",
    "sns.countplot(x=\"line\", data=df)"
   ]
  },
  {
   "cell_type": "markdown",
   "metadata": {},
   "source": [
    "### Explore the distribution of numeric variables."
   ]
  },
  {
   "cell_type": "markdown",
   "metadata": {},
   "source": [
    "We want to explore the distribution of numeric variables."
   ]
  },
  {
   "cell_type": "code",
   "execution_count": 167,
   "metadata": {},
   "outputs": [
    {
     "data": {
      "image/png": "[encoded data removed]",
      "text/plain": [
       "<Figure size 720x360 with 1 Axes>"
      ]
     },
     "metadata": {},
     "output_type": "display_data"
    }
   ],
   "source": [
    "def draw_subplots(var_Name,tittle_Name,nrow=1,ncol=1,idx=1,fz=10): # Define a common module for drawing subplots.\n",
    "    ax = plt.subplot(nrow,ncol,idx)                   #  idx - position of subplot in the main plotting window\n",
    "    ax.set_title('Distribution of '+var_Name)         #  fz - the font size of Tittle in the main plotting window\n",
    "    plt.suptitle(tittle_Name, fontsize=fz)\n",
    "\n",
    "numeric_columns = ['delay_minutes']\n",
    "\n",
    "fig,ax = plt.subplots(1,1, figsize=(10,5))\n",
    "j=0  # reset the counter to plot \n",
    "title_Str=\"Plotting the density distribution of various numeric variable\"\n",
    "\n",
    "for i in numeric_columns:\n",
    "    j +=1\n",
    "    draw_subplots(i,title_Str,1,1,j,20) # create a 1x3 subplots for plotting distribution plots\n",
    "    sns.distplot(df[i])\n",
    "    plt.xlabel('')"
   ]
  },
  {
   "cell_type": "markdown",
   "metadata": {},
   "source": [
    "Obviously, the numeric variable delay_minutesis not normal distribution."
   ]
  },
  {
   "cell_type": "markdown",
   "metadata": {},
   "source": [
    "### Choose variables"
   ]
  },
  {
   "cell_type": "code",
   "execution_count": 168,
   "metadata": {},
   "outputs": [],
   "source": [
    "# Drop some uninteresting variables\n",
    "\n",
    "df = df.drop(['date','train_id','stop_sequence','from','to','scheduled_time','actual_time','line'], 1)"
   ]
  },
  {
   "cell_type": "code",
   "execution_count": 169,
   "metadata": {},
   "outputs": [
    {
     "data": {
      "text/html": [
       "<div>\n",
       "<style scoped>\n",
       "    .dataframe tbody tr th:only-of-type {\n",
       "        vertical-align: middle;\n",
       "    }\n",
       "\n",
       "    .dataframe tbody tr th {\n",
       "        vertical-align: top;\n",
       "    }\n",
       "\n",
       "    .dataframe thead th {\n",
       "        text-align: right;\n",
       "    }\n",
       "</style>\n",
       "<table border=\"1\" class=\"dataframe\">\n",
       "  <thead>\n",
       "    <tr style=\"text-align: right;\">\n",
       "      <th></th>\n",
       "      <th>from_id</th>\n",
       "      <th>to_id</th>\n",
       "      <th>delay_minutes</th>\n",
       "      <th>status</th>\n",
       "      <th>type</th>\n",
       "    </tr>\n",
       "  </thead>\n",
       "  <tbody>\n",
       "    <tr>\n",
       "      <td>103149</td>\n",
       "      <td>139</td>\n",
       "      <td>37169</td>\n",
       "      <td>11.050000</td>\n",
       "      <td>2</td>\n",
       "      <td>1</td>\n",
       "    </tr>\n",
       "    <tr>\n",
       "      <td>112266</td>\n",
       "      <td>105</td>\n",
       "      <td>38187</td>\n",
       "      <td>0.000000</td>\n",
       "      <td>0</td>\n",
       "      <td>1</td>\n",
       "    </tr>\n",
       "    <tr>\n",
       "      <td>2760</td>\n",
       "      <td>38</td>\n",
       "      <td>103</td>\n",
       "      <td>0.000000</td>\n",
       "      <td>2</td>\n",
       "      <td>1</td>\n",
       "    </tr>\n",
       "    <tr>\n",
       "      <td>184812</td>\n",
       "      <td>34</td>\n",
       "      <td>91</td>\n",
       "      <td>3.100000</td>\n",
       "      <td>2</td>\n",
       "      <td>1</td>\n",
       "    </tr>\n",
       "    <tr>\n",
       "      <td>41869</td>\n",
       "      <td>111</td>\n",
       "      <td>132</td>\n",
       "      <td>3.666667</td>\n",
       "      <td>2</td>\n",
       "      <td>1</td>\n",
       "    </tr>\n",
       "  </tbody>\n",
       "</table>\n",
       "</div>"
      ],
      "text/plain": [
       "        from_id  to_id  delay_minutes  status  type\n",
       "103149      139  37169      11.050000       2     1\n",
       "112266      105  38187       0.000000       0     1\n",
       "2760         38    103       0.000000       2     1\n",
       "184812       34     91       3.100000       2     1\n",
       "41869       111    132       3.666667       2     1"
      ]
     },
     "execution_count": 169,
     "metadata": {},
     "output_type": "execute_result"
    }
   ],
   "source": [
    "# Convert some categorical variables to numerical\n",
    "\n",
    "df['status'] = df['status'].map({'departed': 2, 'estimated': 1, 'cancelled': 0})\n",
    "df['type'] = df['type'].map({'NJ Transit': 1, 'Amtrak': 0})\n",
    "df.head()"
   ]
  },
  {
   "cell_type": "code",
   "execution_count": 170,
   "metadata": {},
   "outputs": [],
   "source": [
    "columns = df[['from_id','to_id','delay_minutes','status','type']]\n",
    "\n",
    "for column in columns: \n",
    "    df[column] = pd.to_numeric(df[column], errors='coerce')"
   ]
  },
  {
   "cell_type": "code",
   "execution_count": 171,
   "metadata": {},
   "outputs": [
    {
     "data": {
      "text/plain": [
       "from_id            int64\n",
       "to_id              int64\n",
       "delay_minutes    float64\n",
       "status             int64\n",
       "type               int64\n",
       "dtype: object"
      ]
     },
     "execution_count": 171,
     "metadata": {},
     "output_type": "execute_result"
    }
   ],
   "source": [
    "df.dtypes"
   ]
  },
  {
   "cell_type": "markdown",
   "metadata": {},
   "source": [
    "## Normalization: Preprocessing"
   ]
  },
  {
   "cell_type": "code",
   "execution_count": 172,
   "metadata": {},
   "outputs": [],
   "source": [
    "X = df.drop(['status'],1)\n",
    "Y = df.drop(['from_id','to_id','delay_minutes','type'],1)"
   ]
  },
  {
   "cell_type": "code",
   "execution_count": 173,
   "metadata": {},
   "outputs": [
    {
     "data": {
      "text/plain": [
       "from_id          float64\n",
       "to_id            float64\n",
       "delay_minutes    float64\n",
       "type             float64\n",
       "dtype: object"
      ]
     },
     "execution_count": 173,
     "metadata": {},
     "output_type": "execute_result"
    }
   ],
   "source": [
    "X_normalized = normalize(X)\n",
    "X_normalized_df = pd.DataFrame(normalize(X), columns = X.columns)\n",
    "X_normalized_df.dtypes"
   ]
  },
  {
   "cell_type": "code",
   "execution_count": 174,
   "metadata": {},
   "outputs": [
    {
     "data": {
      "text/plain": [
       "from_id          float16\n",
       "to_id            float16\n",
       "delay_minutes    float16\n",
       "type             float16\n",
       "dtype: object"
      ]
     },
     "execution_count": 174,
     "metadata": {},
     "output_type": "execute_result"
    }
   ],
   "source": [
    "X_normalized_df['from_id'] = np.float16(X_normalized_df['from_id'])\n",
    "X_normalized_df['to_id'] = np.float16(X_normalized_df['to_id'])\n",
    "X_normalized_df['delay_minutes'] = np.float16(X_normalized_df['delay_minutes'])\n",
    "X_normalized_df['type'] = np.float16(X_normalized_df['type'])\n",
    "X_normalized_df.dtypes"
   ]
  },
  {
   "cell_type": "code",
   "execution_count": 175,
   "metadata": {},
   "outputs": [
    {
     "name": "stdout",
     "output_type": "stream",
     "text": [
      "Number of clusters from 2 to 6: \n",
      " [2, 3, 4, 5, 6]\n",
      "For n_clusters = 2, silhouette score is 0.5478338474279639\n",
      "For n_clusters = 3, silhouette score is 0.6056404916317348\n",
      "For n_clusters = 4, silhouette score is 0.5977403026408106\n",
      "For n_clusters = 5, silhouette score is 0.6213420694360765\n",
      "For n_clusters = 6, silhouette score is 0.6118513845182582\n"
     ]
    }
   ],
   "source": [
    "#Use silhouette score\n",
    "range_n_clusters = list (range(2,7))\n",
    "print (\"Number of clusters from 2 to 6: \\n\", range_n_clusters)\n",
    "for n_clusters in range_n_clusters:\n",
    "    clusterer = KMeans (n_clusters=n_clusters)\n",
    "    preds = clusterer.fit_predict(X_normalized_df)\n",
    "    centers = clusterer.cluster_centers_\n",
    "    score = silhouette_score (X_normalized_df, preds, metric='euclidean')\n",
    "    print (\"For n_clusters = {}, silhouette score is {}\".format(n_clusters, score))"
   ]
  },
  {
   "cell_type": "markdown",
   "metadata": {},
   "source": [
    "From here, we can see that 5 clusters may be the best choose."
   ]
  },
  {
   "cell_type": "markdown",
   "metadata": {},
   "source": [
    "## K-Means"
   ]
  },
  {
   "cell_type": "code",
   "execution_count": 176,
   "metadata": {},
   "outputs": [
    {
     "data": {
      "text/plain": [
       "array([3, 3, 0, ..., 1, 1, 2])"
      ]
     },
     "execution_count": 176,
     "metadata": {},
     "output_type": "execute_result"
    }
   ],
   "source": [
    "km = KMeans(n_clusters=5, init='k-means++', n_init=10)\n",
    "Y_pred = km.fit_predict(X_normalized_df)\n",
    "Y_pred"
   ]
  },
  {
   "cell_type": "code",
   "execution_count": 177,
   "metadata": {},
   "outputs": [
    {
     "data": {
      "text/html": [
       "<div>\n",
       "<style scoped>\n",
       "    .dataframe tbody tr th:only-of-type {\n",
       "        vertical-align: middle;\n",
       "    }\n",
       "\n",
       "    .dataframe tbody tr th {\n",
       "        vertical-align: top;\n",
       "    }\n",
       "\n",
       "    .dataframe thead th {\n",
       "        text-align: right;\n",
       "    }\n",
       "</style>\n",
       "<table border=\"1\" class=\"dataframe\">\n",
       "  <thead>\n",
       "    <tr style=\"text-align: right;\">\n",
       "      <th></th>\n",
       "      <th>from_id</th>\n",
       "      <th>to_id</th>\n",
       "      <th>delay_minutes</th>\n",
       "      <th>status</th>\n",
       "      <th>type</th>\n",
       "      <th>Cluster</th>\n",
       "    </tr>\n",
       "  </thead>\n",
       "  <tbody>\n",
       "    <tr>\n",
       "      <td>103149</td>\n",
       "      <td>139</td>\n",
       "      <td>37169</td>\n",
       "      <td>11.050000</td>\n",
       "      <td>2</td>\n",
       "      <td>1</td>\n",
       "      <td>3</td>\n",
       "    </tr>\n",
       "    <tr>\n",
       "      <td>112266</td>\n",
       "      <td>105</td>\n",
       "      <td>38187</td>\n",
       "      <td>0.000000</td>\n",
       "      <td>0</td>\n",
       "      <td>1</td>\n",
       "      <td>3</td>\n",
       "    </tr>\n",
       "    <tr>\n",
       "      <td>2760</td>\n",
       "      <td>38</td>\n",
       "      <td>103</td>\n",
       "      <td>0.000000</td>\n",
       "      <td>2</td>\n",
       "      <td>1</td>\n",
       "      <td>0</td>\n",
       "    </tr>\n",
       "    <tr>\n",
       "      <td>184812</td>\n",
       "      <td>34</td>\n",
       "      <td>91</td>\n",
       "      <td>3.100000</td>\n",
       "      <td>2</td>\n",
       "      <td>1</td>\n",
       "      <td>0</td>\n",
       "    </tr>\n",
       "    <tr>\n",
       "      <td>41869</td>\n",
       "      <td>111</td>\n",
       "      <td>132</td>\n",
       "      <td>3.666667</td>\n",
       "      <td>2</td>\n",
       "      <td>1</td>\n",
       "      <td>4</td>\n",
       "    </tr>\n",
       "  </tbody>\n",
       "</table>\n",
       "</div>"
      ],
      "text/plain": [
       "        from_id  to_id  delay_minutes  status  type  Cluster\n",
       "103149      139  37169      11.050000       2     1        3\n",
       "112266      105  38187       0.000000       0     1        3\n",
       "2760         38    103       0.000000       2     1        0\n",
       "184812       34     91       3.100000       2     1        0\n",
       "41869       111    132       3.666667       2     1        4"
      ]
     },
     "execution_count": 177,
     "metadata": {},
     "output_type": "execute_result"
    }
   ],
   "source": [
    "df[\"Cluster\"]=Y_pred\n",
    "df.head()"
   ]
  },
  {
   "cell_type": "code",
   "execution_count": 178,
   "metadata": {},
   "outputs": [
    {
     "data": {
      "text/html": [
       "<div>\n",
       "<style scoped>\n",
       "    .dataframe tbody tr th:only-of-type {\n",
       "        vertical-align: middle;\n",
       "    }\n",
       "\n",
       "    .dataframe tbody tr th {\n",
       "        vertical-align: top;\n",
       "    }\n",
       "\n",
       "    .dataframe thead th {\n",
       "        text-align: right;\n",
       "    }\n",
       "</style>\n",
       "<table border=\"1\" class=\"dataframe\">\n",
       "  <thead>\n",
       "    <tr style=\"text-align: right;\">\n",
       "      <th></th>\n",
       "      <th>from_id</th>\n",
       "      <th>to_id</th>\n",
       "      <th>delay_minutes</th>\n",
       "      <th>status</th>\n",
       "      <th>type</th>\n",
       "      <th>Cluster</th>\n",
       "    </tr>\n",
       "  </thead>\n",
       "  <tbody>\n",
       "    <tr>\n",
       "      <td>125756</td>\n",
       "      <td>58</td>\n",
       "      <td>116</td>\n",
       "      <td>0.000000</td>\n",
       "      <td>2</td>\n",
       "      <td>1</td>\n",
       "      <td>0</td>\n",
       "    </tr>\n",
       "    <tr>\n",
       "      <td>59245</td>\n",
       "      <td>61</td>\n",
       "      <td>97</td>\n",
       "      <td>5.083333</td>\n",
       "      <td>2</td>\n",
       "      <td>1</td>\n",
       "      <td>0</td>\n",
       "    </tr>\n",
       "    <tr>\n",
       "      <td>130384</td>\n",
       "      <td>17</td>\n",
       "      <td>48</td>\n",
       "      <td>0.000000</td>\n",
       "      <td>2</td>\n",
       "      <td>1</td>\n",
       "      <td>0</td>\n",
       "    </tr>\n",
       "    <tr>\n",
       "      <td>30682</td>\n",
       "      <td>41</td>\n",
       "      <td>70</td>\n",
       "      <td>3.350000</td>\n",
       "      <td>2</td>\n",
       "      <td>1</td>\n",
       "      <td>0</td>\n",
       "    </tr>\n",
       "    <tr>\n",
       "      <td>124178</td>\n",
       "      <td>18</td>\n",
       "      <td>45</td>\n",
       "      <td>7.700000</td>\n",
       "      <td>2</td>\n",
       "      <td>1</td>\n",
       "      <td>0</td>\n",
       "    </tr>\n",
       "    <tr>\n",
       "      <td>...</td>\n",
       "      <td>...</td>\n",
       "      <td>...</td>\n",
       "      <td>...</td>\n",
       "      <td>...</td>\n",
       "      <td>...</td>\n",
       "      <td>...</td>\n",
       "    </tr>\n",
       "    <tr>\n",
       "      <td>160074</td>\n",
       "      <td>139</td>\n",
       "      <td>119</td>\n",
       "      <td>1.150000</td>\n",
       "      <td>2</td>\n",
       "      <td>1</td>\n",
       "      <td>4</td>\n",
       "    </tr>\n",
       "    <tr>\n",
       "      <td>170570</td>\n",
       "      <td>105</td>\n",
       "      <td>105</td>\n",
       "      <td>0.000000</td>\n",
       "      <td>2</td>\n",
       "      <td>1</td>\n",
       "      <td>4</td>\n",
       "    </tr>\n",
       "    <tr>\n",
       "      <td>130670</td>\n",
       "      <td>38417</td>\n",
       "      <td>38174</td>\n",
       "      <td>2.000000</td>\n",
       "      <td>1</td>\n",
       "      <td>1</td>\n",
       "      <td>4</td>\n",
       "    </tr>\n",
       "    <tr>\n",
       "      <td>21471</td>\n",
       "      <td>145</td>\n",
       "      <td>136</td>\n",
       "      <td>3.083333</td>\n",
       "      <td>2</td>\n",
       "      <td>1</td>\n",
       "      <td>4</td>\n",
       "    </tr>\n",
       "    <tr>\n",
       "      <td>212114</td>\n",
       "      <td>74</td>\n",
       "      <td>74</td>\n",
       "      <td>0.000000</td>\n",
       "      <td>2</td>\n",
       "      <td>1</td>\n",
       "      <td>4</td>\n",
       "    </tr>\n",
       "  </tbody>\n",
       "</table>\n",
       "<p>4475 rows × 6 columns</p>\n",
       "</div>"
      ],
      "text/plain": [
       "        from_id  to_id  delay_minutes  status  type  Cluster\n",
       "125756       58    116       0.000000       2     1        0\n",
       "59245        61     97       5.083333       2     1        0\n",
       "130384       17     48       0.000000       2     1        0\n",
       "30682        41     70       3.350000       2     1        0\n",
       "124178       18     45       7.700000       2     1        0\n",
       "...         ...    ...            ...     ...   ...      ...\n",
       "160074      139    119       1.150000       2     1        4\n",
       "170570      105    105       0.000000       2     1        4\n",
       "130670    38417  38174       2.000000       1     1        4\n",
       "21471       145    136       3.083333       2     1        4\n",
       "212114       74     74       0.000000       2     1        4\n",
       "\n",
       "[4475 rows x 6 columns]"
      ]
     },
     "execution_count": 178,
     "metadata": {},
     "output_type": "execute_result"
    }
   ],
   "source": [
    "df = df.sort_values(['Cluster'])\n",
    "df"
   ]
  },
  {
   "cell_type": "code",
   "execution_count": 179,
   "metadata": {},
   "outputs": [
    {
     "data": {
      "text/plain": [
       "<matplotlib.axes._subplots.AxesSubplot at 0x21bfa290>"
      ]
     },
     "execution_count": 179,
     "metadata": {},
     "output_type": "execute_result"
    },
    {
     "data": {
      "image/png": "[encoded data removed]",
      "text/plain": [
       "<Figure size 432x288 with 1 Axes>"
      ]
     },
     "metadata": {},
     "output_type": "display_data"
    }
   ],
   "source": [
    "plt.title(\"status Barplot of each Cluster\")\n",
    "sns.countplot(x=\"status\",hue=\"Cluster\", data=df)"
   ]
  },
  {
   "cell_type": "markdown",
   "metadata": {},
   "source": [
    "### Mean-shift"
   ]
  },
  {
   "cell_type": "code",
   "execution_count": 180,
   "metadata": {},
   "outputs": [
    {
     "name": "stdout",
     "output_type": "stream",
     "text": [
      "Number of estimated clusters: 6\n"
     ]
    }
   ],
   "source": [
    "from sklearn.cluster import MeanShift, estimate_bandwidth\n",
    "\n",
    "# Here we set the bandwidth. This function automatically derives a bandwidth\n",
    "# number based on an inspection of the distances among points in the data.\n",
    "bandwidth = estimate_bandwidth(X_normalized, quantile=0.2, n_samples=500)\n",
    "\n",
    "# Declare and fit the model.\n",
    "ms = MeanShift(bandwidth=bandwidth, bin_seeding=True)\n",
    "Y_pred1 = ms.fit_predict(X_normalized_df)\n",
    "ms.fit(X_normalized)\n",
    "\n",
    "# Extract cluster assignments for each data point.\n",
    "labels = ms.labels_\n",
    "\n",
    "# Coordinates of the cluster centers.\n",
    "cluster_centers = ms.cluster_centers_\n",
    "\n",
    "# Count our clusters.\n",
    "n_clusters_ = len(np.unique(labels))\n",
    "\n",
    "print(\"Number of estimated clusters: {}\".format(n_clusters_))"
   ]
  },
  {
   "cell_type": "code",
   "execution_count": 181,
   "metadata": {},
   "outputs": [
    {
     "data": {
      "text/html": [
       "<div>\n",
       "<style scoped>\n",
       "    .dataframe tbody tr th:only-of-type {\n",
       "        vertical-align: middle;\n",
       "    }\n",
       "\n",
       "    .dataframe tbody tr th {\n",
       "        vertical-align: top;\n",
       "    }\n",
       "\n",
       "    .dataframe thead th {\n",
       "        text-align: right;\n",
       "    }\n",
       "</style>\n",
       "<table border=\"1\" class=\"dataframe\">\n",
       "  <thead>\n",
       "    <tr style=\"text-align: right;\">\n",
       "      <th></th>\n",
       "      <th>from_id</th>\n",
       "      <th>to_id</th>\n",
       "      <th>delay_minutes</th>\n",
       "      <th>status</th>\n",
       "      <th>type</th>\n",
       "      <th>Cluster</th>\n",
       "      <th>Cluster1</th>\n",
       "    </tr>\n",
       "  </thead>\n",
       "  <tbody>\n",
       "    <tr>\n",
       "      <td>125756</td>\n",
       "      <td>58</td>\n",
       "      <td>116</td>\n",
       "      <td>0.000000</td>\n",
       "      <td>2</td>\n",
       "      <td>1</td>\n",
       "      <td>0</td>\n",
       "      <td>4</td>\n",
       "    </tr>\n",
       "    <tr>\n",
       "      <td>59245</td>\n",
       "      <td>61</td>\n",
       "      <td>97</td>\n",
       "      <td>5.083333</td>\n",
       "      <td>2</td>\n",
       "      <td>1</td>\n",
       "      <td>0</td>\n",
       "      <td>4</td>\n",
       "    </tr>\n",
       "    <tr>\n",
       "      <td>130384</td>\n",
       "      <td>17</td>\n",
       "      <td>48</td>\n",
       "      <td>0.000000</td>\n",
       "      <td>2</td>\n",
       "      <td>1</td>\n",
       "      <td>0</td>\n",
       "      <td>2</td>\n",
       "    </tr>\n",
       "    <tr>\n",
       "      <td>30682</td>\n",
       "      <td>41</td>\n",
       "      <td>70</td>\n",
       "      <td>3.350000</td>\n",
       "      <td>2</td>\n",
       "      <td>1</td>\n",
       "      <td>0</td>\n",
       "      <td>2</td>\n",
       "    </tr>\n",
       "    <tr>\n",
       "      <td>124178</td>\n",
       "      <td>18</td>\n",
       "      <td>45</td>\n",
       "      <td>7.700000</td>\n",
       "      <td>2</td>\n",
       "      <td>1</td>\n",
       "      <td>0</td>\n",
       "      <td>0</td>\n",
       "    </tr>\n",
       "  </tbody>\n",
       "</table>\n",
       "</div>"
      ],
      "text/plain": [
       "        from_id  to_id  delay_minutes  status  type  Cluster  Cluster1\n",
       "125756       58    116       0.000000       2     1        0         4\n",
       "59245        61     97       5.083333       2     1        0         4\n",
       "130384       17     48       0.000000       2     1        0         2\n",
       "30682        41     70       3.350000       2     1        0         2\n",
       "124178       18     45       7.700000       2     1        0         0"
      ]
     },
     "execution_count": 181,
     "metadata": {},
     "output_type": "execute_result"
    }
   ],
   "source": [
    "df[\"Cluster1\"]=Y_pred1\n",
    "df.head()"
   ]
  },
  {
   "cell_type": "code",
   "execution_count": 184,
   "metadata": {},
   "outputs": [
    {
     "name": "stdout",
     "output_type": "stream",
     "text": [
      "        from_id  to_id  delay_minutes  status  type  Cluster  Cluster1\n",
      "120563       59  37169       2.283333       2     1        3         0\n",
      "16071        26     86       6.166667       2     1        0         0\n",
      "168153      139    119       2.183333       2     1        4         0\n",
      "99035       105    106       7.166667       2     1        4         0\n",
      "210896      124    124       0.000000       2     1        4         0\n",
      "...         ...    ...            ...     ...   ...      ...       ...\n",
      "199164      131     52       3.183333       2     1        2         5\n",
      "201596      129    129       4.183333       2     1        4         5\n",
      "67950        74     73       2.200000       2     1        4         5\n",
      "15249       140    106       7.166667       2     1        4         5\n",
      "117768      103     38       7.066667       2     1        2         5\n",
      "\n",
      "[4475 rows x 7 columns]\n"
     ]
    }
   ],
   "source": [
    "df = df.sort_values(['Cluster1'])\n",
    "print(df)"
   ]
  },
  {
   "cell_type": "code",
   "execution_count": 186,
   "metadata": {},
   "outputs": [
    {
     "data": {
      "text/plain": [
       "<matplotlib.axes._subplots.AxesSubplot at 0x23c45ff0>"
      ]
     },
     "execution_count": 186,
     "metadata": {},
     "output_type": "execute_result"
    },
    {
     "data": {
      "image/png": "[encoded data removed]",
      "text/plain": [
       "<Figure size 432x288 with 1 Axes>"
      ]
     },
     "metadata": {},
     "output_type": "display_data"
    }
   ],
   "source": [
    "plt.title(\"status Barplot of each Cluster\")\n",
    "sns.countplot(x=\"status\",hue=\"Cluster1\", data=df)"
   ]
  },
  {
   "cell_type": "markdown",
   "metadata": {},
   "source": [
    "## Supervised "
   ]
  },
  {
   "cell_type": "code",
   "execution_count": 187,
   "metadata": {},
   "outputs": [],
   "source": [
    "X_train, X_test, Y_train, Y_test = train_test_split(X_normalized_df, Y, test_size=0.4, random_state=0)"
   ]
  },
  {
   "cell_type": "markdown",
   "metadata": {},
   "source": [
    "### Model 1: Decision Tree Model"
   ]
  },
  {
   "cell_type": "code",
   "execution_count": 188,
   "metadata": {},
   "outputs": [
    {
     "data": {
      "text/plain": [
       "DecisionTreeClassifier(class_weight=None, criterion='entropy', max_depth=3,\n",
       "                       max_features=None, max_leaf_nodes=None,\n",
       "                       min_impurity_decrease=0.0, min_impurity_split=None,\n",
       "                       min_samples_leaf=1, min_samples_split=2,\n",
       "                       min_weight_fraction_leaf=0.0, presort=False,\n",
       "                       random_state=0, splitter='best')"
      ]
     },
     "execution_count": 188,
     "metadata": {},
     "output_type": "execute_result"
    }
   ],
   "source": [
    "decision_tree = tree.DecisionTreeClassifier(criterion = 'entropy', max_depth = 3, random_state = 0)\n",
    "dtmodel=decision_tree.fit(X_train,Y_train)\n",
    "decision_tree.fit(X_train,Y_train)"
   ]
  },
  {
   "cell_type": "markdown",
   "metadata": {},
   "source": [
    "#### Cross validation"
   ]
  },
  {
   "cell_type": "code",
   "execution_count": 189,
   "metadata": {},
   "outputs": [
    {
     "name": "stdout",
     "output_type": "stream",
     "text": [
      "0.9303675429155824\n"
     ]
    }
   ],
   "source": [
    "scores = cross_val_score(decision_tree, X_train, Y_train, cv=10)\n",
    "print(scores.mean())"
   ]
  },
  {
   "cell_type": "markdown",
   "metadata": {},
   "source": [
    "#### Classification_report and Confusion matrix"
   ]
  },
  {
   "cell_type": "code",
   "execution_count": 190,
   "metadata": {},
   "outputs": [
    {
     "name": "stdout",
     "output_type": "stream",
     "text": [
      "Decision Tree Model Classification report:\n",
      "Accuracy:  0.9335195530726257\n",
      "              precision    recall  f1-score   support\n",
      "\n",
      "           0       0.00      0.00      0.00         0\n",
      "           1       0.26      0.92      0.40        37\n",
      "           2       1.00      0.93      0.96      1753\n",
      "\n",
      "    accuracy                           0.93      1790\n",
      "   macro avg       0.42      0.62      0.46      1790\n",
      "weighted avg       0.98      0.93      0.95      1790\n",
      "\n",
      "Confusion matrix:\n",
      "[[   0    0   19]\n",
      " [   0   34   97]\n",
      " [   0    3 1637]]\n"
     ]
    }
   ],
   "source": [
    "Y_pred = dtmodel.predict(X_test) \n",
    "accuracy = accuracy_score(Y_test,Y_pred)\n",
    "report = classification_report(Y_pred, Y_test)\n",
    "cm = confusion_matrix(Y_test,Y_pred)\n",
    "\n",
    "print(\"Decision Tree Model Classification report:\")\n",
    "print(\"Accuracy: \", accuracy)\n",
    "print(report)\n",
    "print(\"Confusion matrix:\")\n",
    "print(cm)"
   ]
  },
  {
   "cell_type": "markdown",
   "metadata": {},
   "source": [
    "### Model 2: Random forest model"
   ]
  },
  {
   "cell_type": "code",
   "execution_count": 191,
   "metadata": {},
   "outputs": [
    {
     "data": {
      "text/html": [
       "<div>\n",
       "<style scoped>\n",
       "    .dataframe tbody tr th:only-of-type {\n",
       "        vertical-align: middle;\n",
       "    }\n",
       "\n",
       "    .dataframe tbody tr th {\n",
       "        vertical-align: top;\n",
       "    }\n",
       "\n",
       "    .dataframe thead th {\n",
       "        text-align: right;\n",
       "    }\n",
       "</style>\n",
       "<table border=\"1\" class=\"dataframe\">\n",
       "  <thead>\n",
       "    <tr style=\"text-align: right;\">\n",
       "      <th></th>\n",
       "      <th>feature</th>\n",
       "      <th>importance</th>\n",
       "    </tr>\n",
       "  </thead>\n",
       "  <tbody>\n",
       "    <tr>\n",
       "      <td>0</td>\n",
       "      <td>to_id</td>\n",
       "      <td>0.309327</td>\n",
       "    </tr>\n",
       "    <tr>\n",
       "      <td>1</td>\n",
       "      <td>delay_minutes</td>\n",
       "      <td>0.269960</td>\n",
       "    </tr>\n",
       "    <tr>\n",
       "      <td>2</td>\n",
       "      <td>from_id</td>\n",
       "      <td>0.230167</td>\n",
       "    </tr>\n",
       "    <tr>\n",
       "      <td>3</td>\n",
       "      <td>type</td>\n",
       "      <td>0.190546</td>\n",
       "    </tr>\n",
       "  </tbody>\n",
       "</table>\n",
       "</div>"
      ],
      "text/plain": [
       "         feature  importance\n",
       "0          to_id    0.309327\n",
       "1  delay_minutes    0.269960\n",
       "2        from_id    0.230167\n",
       "3           type    0.190546"
      ]
     },
     "execution_count": 191,
     "metadata": {},
     "output_type": "execute_result"
    }
   ],
   "source": [
    "rfc = ensemble.RandomForestClassifier()\n",
    "dtmodel_R=rfc.fit(X_test, Y_test)\n",
    "names_importances = {}\n",
    "for feature, importance in zip(X_test.columns, rfc.feature_importances_):\n",
    "    names_importances[feature] = importance\n",
    "    names_importances_desc = sorted(names_importances.items(), key=lambda x: x[1], reverse=True)\n",
    "    names_importances_desc = pd.DataFrame(names_importances_desc, columns=['feature','importance'])\n",
    "names_importances_desc"
   ]
  },
  {
   "cell_type": "markdown",
   "metadata": {},
   "source": [
    "#### Cross validation"
   ]
  },
  {
   "cell_type": "code",
   "execution_count": 192,
   "metadata": {},
   "outputs": [
    {
     "name": "stdout",
     "output_type": "stream",
     "text": [
      "0.957542809369514\n"
     ]
    }
   ],
   "source": [
    "scores = cross_val_score(rfc, X_train, Y_train, cv=10)\n",
    "print(scores.mean())"
   ]
  },
  {
   "cell_type": "markdown",
   "metadata": {},
   "source": [
    "#### Classification_report and Confusion matrix"
   ]
  },
  {
   "cell_type": "code",
   "execution_count": 193,
   "metadata": {},
   "outputs": [
    {
     "name": "stdout",
     "output_type": "stream",
     "text": [
      "Random forest model Classification report:\n",
      "Accuracy:  0.9932960893854749\n",
      "              precision    recall  f1-score   support\n",
      "\n",
      "           0       0.74      0.88      0.80        16\n",
      "           1       0.97      0.99      0.98       128\n",
      "           2       1.00      0.99      1.00      1646\n",
      "\n",
      "    accuracy                           0.99      1790\n",
      "   macro avg       0.90      0.95      0.93      1790\n",
      "weighted avg       0.99      0.99      0.99      1790\n",
      "\n",
      "Confusion matrix:\n",
      "[[  14    0    5]\n",
      " [   0  127    4]\n",
      " [   2    1 1637]]\n"
     ]
    }
   ],
   "source": [
    "Y_pred = dtmodel_R.predict(X_test) \n",
    "accuracy = accuracy_score(Y_test,Y_pred)\n",
    "report = classification_report(Y_pred, Y_test)\n",
    "cm = confusion_matrix(Y_test,Y_pred)\n",
    "\n",
    "print(\"Random forest model Classification report:\")\n",
    "print(\"Accuracy: \", accuracy)\n",
    "print(report)\n",
    "print(\"Confusion matrix:\")\n",
    "print(cm)"
   ]
  },
  {
   "cell_type": "markdown",
   "metadata": {},
   "source": [
    "## Conclusion"
   ]
  },
  {
   "cell_type": "markdown",
   "metadata": {},
   "source": [
    "For unsupervised learning, we got the silhouette score for each number of cluster from 2 to 6 and the score reaches the maximum value at n = 5. So we decide to use n = 5 to do the K-Means cluster. We show the barplot of status and type for each cluster. From these barplots, we can see that the Cluster4 contains the most observations and the Cluster2 contains the least observations. For the other clusters, we don't see any obvious features of them. From the result of mean shift,it shows us the resule the number of cluster is 6.\n",
    "\n",
    "For supervised learning, we decided to use 'status' to classfy our dataset. We used two models: Decision Tree Model and Random forest model. And we also do show the cross validation, Classification_report and Confusion matrix for each model. From the result, we can conclude that the result of the classification is perfect. We got  good cross validation score, accuracy and confusion matrix."
   ]
  },
  {
   "cell_type": "code",
   "execution_count": null,
   "metadata": {},
   "outputs": [],
   "source": []
  }
 ],
 "metadata": {
  "kernelspec": {
   "display_name": "Python 3",
   "language": "python",
   "name": "python3"
  },
  "language_info": {
   "codemirror_mode": {
    "name": "ipython",
    "version": 3
   },
   "file_extension": ".py",
   "mimetype": "text/x-python",
   "name": "python",
   "nbconvert_exporter": "python",
   "pygments_lexer": "ipython3",
   "version": "3.7.4"
  }
 },
 "nbformat": 4,
 "nbformat_minor": 2
}
