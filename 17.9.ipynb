{
 "cells": [
  {
   "cell_type": "markdown",
   "metadata": {},
   "source": [
    "# 1. Try to model the result of a coin toss. In your model, include any features that you think important in explaining the result. Discuss with your mentor about the pros and cons of adding too many features into your model."
   ]
  },
  {
   "cell_type": "markdown",
   "metadata": {},
   "source": [
    "The features that we should include to explain the result\n",
    "* The weight of the coin.\n",
    "* Room temperature。\n",
    "* Is there wind, wind speed?\n",
    "* The frictions of the hand skin and the air.\n",
    "* The frictions of the hand skin and the coin.\n",
    "* The frictions of the hand coin and the desktop.\n",
    "*  ......"
   ]
  },
  {
   "cell_type": "markdown",
   "metadata": {},
   "source": [
    "# 2. If you ever used Netflix, you should already have realized that it provides some recommendations for you to watch. In data science, this is an example of the so called recommendations systems. Read this non-technical blog post of Netflix about how they model their recommendations systems. Then, derive the features they use in their recommendations engines and discuss what else can be incorporated into this model."
   ]
  },
  {
   "cell_type": "markdown",
   "metadata": {},
   "source": [
    "According to the article, Netflix feed the following information to its recommendation systems:\n",
    "* person's interactions with Netflix's service (such as the viewing history and how that person rated other titles).\n",
    "* other members with similar tastes and preferences on Netflix service.\n",
    "* information about the titles, such as their genre, categories, actors, release year, etc.\n",
    "* the time of day the person watch.\n",
    "* the devices the person is watching Netflix on.\n",
    "* how long the person watch."
   ]
  },
  {
   "cell_type": "markdown",
   "metadata": {},
   "source": [
    "Reference: https://help.netflix.com/en/node/100639"
   ]
  },
  {
   "cell_type": "code",
   "execution_count": null,
   "metadata": {},
   "outputs": [],
   "source": []
  }
 ],
 "metadata": {
  "kernelspec": {
   "display_name": "Python 3",
   "language": "python",
   "name": "python3"
  },
  "language_info": {
   "codemirror_mode": {
    "name": "ipython",
    "version": 3
   },
   "file_extension": ".py",
   "mimetype": "text/x-python",
   "name": "python",
   "nbconvert_exporter": "python",
   "pygments_lexer": "ipython3",
   "version": "3.6.5"
  }
 },
 "nbformat": 4,
 "nbformat_minor": 2
}
