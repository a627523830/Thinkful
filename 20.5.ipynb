{
 "cells": [
  {
   "cell_type": "code",
   "execution_count": 113,
   "metadata": {},
   "outputs": [],
   "source": [
    "%matplotlib inline\n",
    "import math\n",
    "import matplotlib.pyplot as plt\n",
    "import numpy as np\n",
    "import pandas as pd\n",
    "import scipy\n",
    "import sklearn\n",
    "import seaborn as sns\n",
    "from sklearn import linear_model\n",
    "from sklearn import neighbors\n",
    "from sklearn.preprocessing import StandardScaler\n",
    "from sklearn.model_selection import train_test_split\n",
    "from sklearn.model_selection import cross_val_score\n",
    "import statsmodels.formula.api as smf\n",
    "from statsmodels.sandbox.regression.predstd import wls_prediction_std\n",
    "\n",
    "from sqlalchemy import create_engine\n",
    "from sklearn.model_selection import train_test_split, cross_val_score\n",
    "from sklearn.metrics import mean_absolute_error\n",
    "from statsmodels.tools.eval_measures import mse, rmse\n",
    "from sklearn.linear_model import LinearRegression, LassoCV, RidgeCV, ElasticNetCV\n"
   ]
  },
  {
   "cell_type": "code",
   "execution_count": 114,
   "metadata": {},
   "outputs": [
    {
     "data": {
      "text/html": [
       "<div>\n",
       "<style scoped>\n",
       "    .dataframe tbody tr th:only-of-type {\n",
       "        vertical-align: middle;\n",
       "    }\n",
       "\n",
       "    .dataframe tbody tr th {\n",
       "        vertical-align: top;\n",
       "    }\n",
       "\n",
       "    .dataframe thead th {\n",
       "        text-align: right;\n",
       "    }\n",
       "</style>\n",
       "<table border=\"1\" class=\"dataframe\">\n",
       "  <thead>\n",
       "    <tr style=\"text-align: right;\">\n",
       "      <th></th>\n",
       "      <th>report_year</th>\n",
       "      <th>agency_code</th>\n",
       "      <th>agency_jurisdiction</th>\n",
       "      <th>population</th>\n",
       "      <th>violent_crimes</th>\n",
       "      <th>homicides</th>\n",
       "      <th>rapes</th>\n",
       "      <th>assaults</th>\n",
       "      <th>robberies</th>\n",
       "      <th>months_reported</th>\n",
       "      <th>crimes_percapita</th>\n",
       "      <th>homicides_percapita</th>\n",
       "      <th>rapes_percapita</th>\n",
       "      <th>assaults_percapita</th>\n",
       "      <th>robberies_percapita</th>\n",
       "    </tr>\n",
       "  </thead>\n",
       "  <tbody>\n",
       "    <tr>\n",
       "      <th>0</th>\n",
       "      <td>1975</td>\n",
       "      <td>NM00101</td>\n",
       "      <td>Albuquerque, NM</td>\n",
       "      <td>286238.0</td>\n",
       "      <td>2383.0</td>\n",
       "      <td>30.0</td>\n",
       "      <td>181.0</td>\n",
       "      <td>1353.0</td>\n",
       "      <td>819.0</td>\n",
       "      <td>12.0</td>\n",
       "      <td>832.52</td>\n",
       "      <td>10.48</td>\n",
       "      <td>63.23</td>\n",
       "      <td>472.68</td>\n",
       "      <td>286.13</td>\n",
       "    </tr>\n",
       "    <tr>\n",
       "      <th>1</th>\n",
       "      <td>1975</td>\n",
       "      <td>TX22001</td>\n",
       "      <td>Arlington, TX</td>\n",
       "      <td>112478.0</td>\n",
       "      <td>278.0</td>\n",
       "      <td>5.0</td>\n",
       "      <td>28.0</td>\n",
       "      <td>132.0</td>\n",
       "      <td>113.0</td>\n",
       "      <td>12.0</td>\n",
       "      <td>247.16</td>\n",
       "      <td>4.45</td>\n",
       "      <td>24.89</td>\n",
       "      <td>117.36</td>\n",
       "      <td>100.46</td>\n",
       "    </tr>\n",
       "    <tr>\n",
       "      <th>2</th>\n",
       "      <td>1975</td>\n",
       "      <td>GAAPD00</td>\n",
       "      <td>Atlanta, GA</td>\n",
       "      <td>490584.0</td>\n",
       "      <td>8033.0</td>\n",
       "      <td>185.0</td>\n",
       "      <td>443.0</td>\n",
       "      <td>3518.0</td>\n",
       "      <td>3887.0</td>\n",
       "      <td>12.0</td>\n",
       "      <td>1637.44</td>\n",
       "      <td>37.71</td>\n",
       "      <td>90.30</td>\n",
       "      <td>717.10</td>\n",
       "      <td>792.32</td>\n",
       "    </tr>\n",
       "    <tr>\n",
       "      <th>3</th>\n",
       "      <td>1975</td>\n",
       "      <td>CO00101</td>\n",
       "      <td>Aurora, CO</td>\n",
       "      <td>116656.0</td>\n",
       "      <td>611.0</td>\n",
       "      <td>7.0</td>\n",
       "      <td>44.0</td>\n",
       "      <td>389.0</td>\n",
       "      <td>171.0</td>\n",
       "      <td>12.0</td>\n",
       "      <td>523.76</td>\n",
       "      <td>6.00</td>\n",
       "      <td>37.72</td>\n",
       "      <td>333.46</td>\n",
       "      <td>146.58</td>\n",
       "    </tr>\n",
       "    <tr>\n",
       "      <th>4</th>\n",
       "      <td>1975</td>\n",
       "      <td>TX22701</td>\n",
       "      <td>Austin, TX</td>\n",
       "      <td>300400.0</td>\n",
       "      <td>1215.0</td>\n",
       "      <td>33.0</td>\n",
       "      <td>190.0</td>\n",
       "      <td>463.0</td>\n",
       "      <td>529.0</td>\n",
       "      <td>12.0</td>\n",
       "      <td>404.46</td>\n",
       "      <td>10.99</td>\n",
       "      <td>63.25</td>\n",
       "      <td>154.13</td>\n",
       "      <td>176.10</td>\n",
       "    </tr>\n",
       "  </tbody>\n",
       "</table>\n",
       "</div>"
      ],
      "text/plain": [
       "   report_year agency_code agency_jurisdiction  population  violent_crimes  \\\n",
       "0         1975     NM00101     Albuquerque, NM    286238.0          2383.0   \n",
       "1         1975     TX22001       Arlington, TX    112478.0           278.0   \n",
       "2         1975     GAAPD00         Atlanta, GA    490584.0          8033.0   \n",
       "3         1975     CO00101          Aurora, CO    116656.0           611.0   \n",
       "4         1975     TX22701          Austin, TX    300400.0          1215.0   \n",
       "\n",
       "   homicides  rapes  assaults  robberies  months_reported  crimes_percapita  \\\n",
       "0       30.0  181.0    1353.0      819.0             12.0            832.52   \n",
       "1        5.0   28.0     132.0      113.0             12.0            247.16   \n",
       "2      185.0  443.0    3518.0     3887.0             12.0           1637.44   \n",
       "3        7.0   44.0     389.0      171.0             12.0            523.76   \n",
       "4       33.0  190.0     463.0      529.0             12.0            404.46   \n",
       "\n",
       "   homicides_percapita  rapes_percapita  assaults_percapita  \\\n",
       "0                10.48            63.23              472.68   \n",
       "1                 4.45            24.89              117.36   \n",
       "2                37.71            90.30              717.10   \n",
       "3                 6.00            37.72              333.46   \n",
       "4                10.99            63.25              154.13   \n",
       "\n",
       "   robberies_percapita  \n",
       "0               286.13  \n",
       "1               100.46  \n",
       "2               792.32  \n",
       "3               146.58  \n",
       "4               176.10  "
      ]
     },
     "execution_count": 114,
     "metadata": {},
     "output_type": "execute_result"
    }
   ],
   "source": [
    "crime = pd.read_csv('crime report.csv',encoding='Latin-1') #how we choose the encoding?\n",
    "crime.head()"
   ]
  },
  {
   "cell_type": "code",
   "execution_count": 115,
   "metadata": {},
   "outputs": [
    {
     "data": {
      "text/html": [
       "<div>\n",
       "<style scoped>\n",
       "    .dataframe tbody tr th:only-of-type {\n",
       "        vertical-align: middle;\n",
       "    }\n",
       "\n",
       "    .dataframe tbody tr th {\n",
       "        vertical-align: top;\n",
       "    }\n",
       "\n",
       "    .dataframe thead th {\n",
       "        text-align: right;\n",
       "    }\n",
       "</style>\n",
       "<table border=\"1\" class=\"dataframe\">\n",
       "  <thead>\n",
       "    <tr style=\"text-align: right;\">\n",
       "      <th></th>\n",
       "      <th>report_year</th>\n",
       "      <th>population</th>\n",
       "      <th>violent_crimes</th>\n",
       "      <th>homicides</th>\n",
       "      <th>rapes</th>\n",
       "      <th>assaults</th>\n",
       "      <th>robberies</th>\n",
       "      <th>months_reported</th>\n",
       "      <th>crimes_percapita</th>\n",
       "      <th>homicides_percapita</th>\n",
       "      <th>rapes_percapita</th>\n",
       "      <th>assaults_percapita</th>\n",
       "      <th>robberies_percapita</th>\n",
       "    </tr>\n",
       "  </thead>\n",
       "  <tbody>\n",
       "    <tr>\n",
       "      <th>count</th>\n",
       "      <td>2829.000000</td>\n",
       "      <td>2.760000e+03</td>\n",
       "      <td>2.794000e+03</td>\n",
       "      <td>2795.000000</td>\n",
       "      <td>2754.000000</td>\n",
       "      <td>2753.000000</td>\n",
       "      <td>2754.000000</td>\n",
       "      <td>2692.000000</td>\n",
       "      <td>2794.000000</td>\n",
       "      <td>2795.000000</td>\n",
       "      <td>2754.000000</td>\n",
       "      <td>2753.000000</td>\n",
       "      <td>2754.000000</td>\n",
       "    </tr>\n",
       "    <tr>\n",
       "      <th>mean</th>\n",
       "      <td>1995.000000</td>\n",
       "      <td>7.956981e+05</td>\n",
       "      <td>2.963255e+04</td>\n",
       "      <td>398.385331</td>\n",
       "      <td>416.278867</td>\n",
       "      <td>4405.146023</td>\n",
       "      <td>4000.245098</td>\n",
       "      <td>11.868871</td>\n",
       "      <td>1093.049810</td>\n",
       "      <td>15.372812</td>\n",
       "      <td>59.305167</td>\n",
       "      <td>566.595434</td>\n",
       "      <td>459.968112</td>\n",
       "    </tr>\n",
       "    <tr>\n",
       "      <th>std</th>\n",
       "      <td>11.834251</td>\n",
       "      <td>1.012451e+06</td>\n",
       "      <td>1.728630e+05</td>\n",
       "      <td>2281.276402</td>\n",
       "      <td>479.811934</td>\n",
       "      <td>6977.293769</td>\n",
       "      <td>8653.902965</td>\n",
       "      <td>1.118194</td>\n",
       "      <td>676.884678</td>\n",
       "      <td>12.350640</td>\n",
       "      <td>31.971570</td>\n",
       "      <td>369.436996</td>\n",
       "      <td>340.903534</td>\n",
       "    </tr>\n",
       "    <tr>\n",
       "      <th>min</th>\n",
       "      <td>1975.000000</td>\n",
       "      <td>1.007630e+05</td>\n",
       "      <td>1.540000e+02</td>\n",
       "      <td>1.000000</td>\n",
       "      <td>15.000000</td>\n",
       "      <td>15.000000</td>\n",
       "      <td>83.000000</td>\n",
       "      <td>0.000000</td>\n",
       "      <td>16.490000</td>\n",
       "      <td>0.210000</td>\n",
       "      <td>1.640000</td>\n",
       "      <td>1.610000</td>\n",
       "      <td>11.460000</td>\n",
       "    </tr>\n",
       "    <tr>\n",
       "      <th>25%</th>\n",
       "      <td>1985.000000</td>\n",
       "      <td>3.779310e+05</td>\n",
       "      <td>3.014750e+03</td>\n",
       "      <td>32.000000</td>\n",
       "      <td>176.250000</td>\n",
       "      <td>1467.000000</td>\n",
       "      <td>1032.000000</td>\n",
       "      <td>12.000000</td>\n",
       "      <td>625.082500</td>\n",
       "      <td>6.955000</td>\n",
       "      <td>35.775000</td>\n",
       "      <td>319.090000</td>\n",
       "      <td>210.242500</td>\n",
       "    </tr>\n",
       "    <tr>\n",
       "      <th>50%</th>\n",
       "      <td>1995.000000</td>\n",
       "      <td>5.366145e+05</td>\n",
       "      <td>5.135500e+03</td>\n",
       "      <td>64.000000</td>\n",
       "      <td>291.000000</td>\n",
       "      <td>2597.000000</td>\n",
       "      <td>1940.000000</td>\n",
       "      <td>12.000000</td>\n",
       "      <td>949.680000</td>\n",
       "      <td>11.980000</td>\n",
       "      <td>55.900000</td>\n",
       "      <td>487.480000</td>\n",
       "      <td>374.400000</td>\n",
       "    </tr>\n",
       "    <tr>\n",
       "      <th>75%</th>\n",
       "      <td>2005.000000</td>\n",
       "      <td>8.168558e+05</td>\n",
       "      <td>9.058500e+03</td>\n",
       "      <td>131.000000</td>\n",
       "      <td>465.000000</td>\n",
       "      <td>4556.000000</td>\n",
       "      <td>3609.750000</td>\n",
       "      <td>12.000000</td>\n",
       "      <td>1409.507500</td>\n",
       "      <td>20.230000</td>\n",
       "      <td>77.797500</td>\n",
       "      <td>728.240000</td>\n",
       "      <td>612.005000</td>\n",
       "    </tr>\n",
       "    <tr>\n",
       "      <th>max</th>\n",
       "      <td>2015.000000</td>\n",
       "      <td>8.550861e+06</td>\n",
       "      <td>1.932274e+06</td>\n",
       "      <td>24703.000000</td>\n",
       "      <td>3899.000000</td>\n",
       "      <td>71030.000000</td>\n",
       "      <td>107475.000000</td>\n",
       "      <td>12.000000</td>\n",
       "      <td>4352.830000</td>\n",
       "      <td>94.740000</td>\n",
       "      <td>199.300000</td>\n",
       "      <td>2368.220000</td>\n",
       "      <td>2337.520000</td>\n",
       "    </tr>\n",
       "  </tbody>\n",
       "</table>\n",
       "</div>"
      ],
      "text/plain": [
       "       report_year    population  violent_crimes     homicides        rapes  \\\n",
       "count  2829.000000  2.760000e+03    2.794000e+03   2795.000000  2754.000000   \n",
       "mean   1995.000000  7.956981e+05    2.963255e+04    398.385331   416.278867   \n",
       "std      11.834251  1.012451e+06    1.728630e+05   2281.276402   479.811934   \n",
       "min    1975.000000  1.007630e+05    1.540000e+02      1.000000    15.000000   \n",
       "25%    1985.000000  3.779310e+05    3.014750e+03     32.000000   176.250000   \n",
       "50%    1995.000000  5.366145e+05    5.135500e+03     64.000000   291.000000   \n",
       "75%    2005.000000  8.168558e+05    9.058500e+03    131.000000   465.000000   \n",
       "max    2015.000000  8.550861e+06    1.932274e+06  24703.000000  3899.000000   \n",
       "\n",
       "           assaults      robberies  months_reported  crimes_percapita  \\\n",
       "count   2753.000000    2754.000000      2692.000000       2794.000000   \n",
       "mean    4405.146023    4000.245098        11.868871       1093.049810   \n",
       "std     6977.293769    8653.902965         1.118194        676.884678   \n",
       "min       15.000000      83.000000         0.000000         16.490000   \n",
       "25%     1467.000000    1032.000000        12.000000        625.082500   \n",
       "50%     2597.000000    1940.000000        12.000000        949.680000   \n",
       "75%     4556.000000    3609.750000        12.000000       1409.507500   \n",
       "max    71030.000000  107475.000000        12.000000       4352.830000   \n",
       "\n",
       "       homicides_percapita  rapes_percapita  assaults_percapita  \\\n",
       "count          2795.000000      2754.000000         2753.000000   \n",
       "mean             15.372812        59.305167          566.595434   \n",
       "std              12.350640        31.971570          369.436996   \n",
       "min               0.210000         1.640000            1.610000   \n",
       "25%               6.955000        35.775000          319.090000   \n",
       "50%              11.980000        55.900000          487.480000   \n",
       "75%              20.230000        77.797500          728.240000   \n",
       "max              94.740000       199.300000         2368.220000   \n",
       "\n",
       "       robberies_percapita  \n",
       "count          2754.000000  \n",
       "mean            459.968112  \n",
       "std             340.903534  \n",
       "min              11.460000  \n",
       "25%             210.242500  \n",
       "50%             374.400000  \n",
       "75%             612.005000  \n",
       "max            2337.520000  "
      ]
     },
     "execution_count": 115,
     "metadata": {},
     "output_type": "execute_result"
    }
   ],
   "source": [
    "crime.describe()"
   ]
  },
  {
   "cell_type": "code",
   "execution_count": 116,
   "metadata": {},
   "outputs": [
    {
     "name": "stdout",
     "output_type": "stream",
     "text": [
      "<class 'pandas.core.frame.DataFrame'>\n",
      "RangeIndex: 2829 entries, 0 to 2828\n",
      "Data columns (total 15 columns):\n",
      "report_year            2829 non-null int64\n",
      "agency_code            2788 non-null object\n",
      "agency_jurisdiction    2829 non-null object\n",
      "population             2760 non-null float64\n",
      "violent_crimes         2794 non-null float64\n",
      "homicides              2795 non-null float64\n",
      "rapes                  2754 non-null float64\n",
      "assaults               2753 non-null float64\n",
      "robberies              2754 non-null float64\n",
      "months_reported        2692 non-null float64\n",
      "crimes_percapita       2794 non-null float64\n",
      "homicides_percapita    2795 non-null float64\n",
      "rapes_percapita        2754 non-null float64\n",
      "assaults_percapita     2753 non-null float64\n",
      "robberies_percapita    2754 non-null float64\n",
      "dtypes: float64(12), int64(1), object(2)\n",
      "memory usage: 331.6+ KB\n"
     ]
    }
   ],
   "source": [
    "crime.info()"
   ]
  },
  {
   "cell_type": "code",
   "execution_count": 117,
   "metadata": {},
   "outputs": [
    {
     "data": {
      "text/plain": [
       "report_year            0.000000\n",
       "agency_code            0.014493\n",
       "agency_jurisdiction    0.000000\n",
       "population             0.024390\n",
       "violent_crimes         0.012372\n",
       "homicides              0.012018\n",
       "rapes                  0.026511\n",
       "assaults               0.026865\n",
       "robberies              0.026511\n",
       "months_reported        0.048427\n",
       "crimes_percapita       0.012372\n",
       "homicides_percapita    0.012018\n",
       "rapes_percapita        0.026511\n",
       "assaults_percapita     0.026865\n",
       "robberies_percapita    0.026511\n",
       "dtype: float64"
      ]
     },
     "execution_count": 117,
     "metadata": {},
     "output_type": "execute_result"
    }
   ],
   "source": [
    "crime.isnull().sum()/crime.isnull().count()"
   ]
  },
  {
   "cell_type": "markdown",
   "metadata": {},
   "source": [
    "# Clean Data"
   ]
  },
  {
   "cell_type": "markdown",
   "metadata": {},
   "source": [
    "## Missing values"
   ]
  },
  {
   "cell_type": "code",
   "execution_count": 118,
   "metadata": {},
   "outputs": [],
   "source": [
    "fill_list = [\"population\",\"violent_crimes\",\"homicides\",\"rapes\",\"assaults\",\"robberies\",\"months_reported\",\"crimes_percapita\",\n",
    "             \"homicides_percapita\",\"rapes_percapita\",\"assaults_percapita\",\"robberies_percapita\"]\n",
    "\n",
    "crime1= crime.copy()\n",
    "\n",
    "for col in fill_list:\n",
    "    crime1.loc[:, col].interpolate(inplace=True)"
   ]
  },
  {
   "cell_type": "code",
   "execution_count": 119,
   "metadata": {},
   "outputs": [
    {
     "data": {
      "text/plain": [
       "report_year            0.000000\n",
       "agency_code            0.014493\n",
       "agency_jurisdiction    0.000000\n",
       "population             0.000000\n",
       "violent_crimes         0.000000\n",
       "homicides              0.000000\n",
       "rapes                  0.000000\n",
       "assaults               0.000000\n",
       "robberies              0.000000\n",
       "months_reported        0.000000\n",
       "crimes_percapita       0.000000\n",
       "homicides_percapita    0.000000\n",
       "rapes_percapita        0.000000\n",
       "assaults_percapita     0.000000\n",
       "robberies_percapita    0.000000\n",
       "dtype: float64"
      ]
     },
     "execution_count": 119,
     "metadata": {},
     "output_type": "execute_result"
    }
   ],
   "source": [
    "crime1.isnull().sum()/crime1.isnull().count()"
   ]
  },
  {
   "cell_type": "code",
   "execution_count": 120,
   "metadata": {},
   "outputs": [
    {
     "data": {
      "image/png": "[encoded data removed]",
      "text/plain": [
       "<Figure size 432x288 with 1 Axes>"
      ]
     },
     "metadata": {},
     "output_type": "display_data"
    }
   ],
   "source": [
    "population = sns.violinplot(crime1['population'], color='g')"
   ]
  },
  {
   "cell_type": "markdown",
   "metadata": {},
   "source": [
    "# Linear Regression Model"
   ]
  },
  {
   "cell_type": "markdown",
   "metadata": {},
   "source": [
    "## Train-Test Split"
   ]
  },
  {
   "cell_type": "code",
   "execution_count": 121,
   "metadata": {},
   "outputs": [],
   "source": [
    "crime1 = crime1.replace([np.inf, -np.inf], np.nan).dropna(how=\"all\")"
   ]
  },
  {
   "cell_type": "code",
   "execution_count": 122,
   "metadata": {},
   "outputs": [],
   "source": [
    "Y = crime1['violent_crimes']\n",
    "X = crime1[[\"homicides\",\"rapes\",\"assaults\",\"robberies\",\"months_reported\",\"crimes_percapita\",'population']]\n",
    "X_train, X_test, Y_train, Y_test = train_test_split(X, Y, test_size=0.5, random_state=0)"
   ]
  },
  {
   "cell_type": "markdown",
   "metadata": {},
   "source": [
    "## Fitting to Training Data"
   ]
  },
  {
   "cell_type": "code",
   "execution_count": 123,
   "metadata": {},
   "outputs": [
    {
     "name": "stdout",
     "output_type": "stream",
     "text": [
      "\n",
      "Coefficients: \n",
      " [ 7.74228921e+01 -6.00952560e+00  8.59427008e-01 -1.24601583e-01\n",
      " -1.01868787e+02 -1.81529586e+00 -6.58590834e-04]\n",
      "\n",
      "Intercept: \n",
      " 2482.297092466215\n",
      "\n",
      "R-Squared:\n",
      "0.9799747113725391\n"
     ]
    }
   ],
   "source": [
    "regr = linear_model.LinearRegression()\n",
    "regr.fit(X_train, Y_train)\n",
    "\n",
    "print('\\nCoefficients: \\n', regr.coef_)\n",
    "print('\\nIntercept: \\n', regr.intercept_)\n",
    "print('\\nR-Squared:')\n",
    "print(regr.score(X_train, Y_train))"
   ]
  },
  {
   "cell_type": "code",
   "execution_count": 124,
   "metadata": {},
   "outputs": [
    {
     "name": "stdout",
     "output_type": "stream",
     "text": [
      "                            OLS Regression Results                            \n",
      "==============================================================================\n",
      "Dep. Variable:         violent_crimes   R-squared:                       0.980\n",
      "Model:                            OLS   Adj. R-squared:                  0.980\n",
      "Method:                 Least Squares   F-statistic:                     9829.\n",
      "Date:                Tue, 20 Aug 2019   Prob (F-statistic):               0.00\n",
      "Time:                        17:17:27   Log-Likelihood:                -16204.\n",
      "No. Observations:                1414   AIC:                         3.242e+04\n",
      "Df Residuals:                    1406   BIC:                         3.247e+04\n",
      "Df Model:                           7                                         \n",
      "Covariance Type:            nonrobust                                         \n",
      "====================================================================================\n",
      "                       coef    std err          t      P>|t|      [0.025      0.975]\n",
      "------------------------------------------------------------------------------------\n",
      "Intercept         2482.2971   6587.084      0.377      0.706   -1.04e+04    1.54e+04\n",
      "homicides           77.4229      0.298    260.017      0.000      76.839      78.007\n",
      "rapes               -6.0095      2.830     -2.123      0.034     -11.562      -0.457\n",
      "assaults             0.8594      0.257      3.341      0.001       0.355       1.364\n",
      "robberies           -0.1246      0.176     -0.708      0.479      -0.470       0.221\n",
      "months_reported   -101.8688    539.911     -0.189      0.850   -1160.988     957.250\n",
      "crimes_percapita    -1.8153      1.212     -1.498      0.134      -4.192       0.562\n",
      "population          -0.0007      0.001     -0.449      0.654      -0.004       0.002\n",
      "==============================================================================\n",
      "Omnibus:                     2545.539   Durbin-Watson:                   2.010\n",
      "Prob(Omnibus):                  0.000   Jarque-Bera (JB):          6628964.076\n",
      "Skew:                         -12.049   Prob(JB):                         0.00\n",
      "Kurtosis:                     337.565   Cond. No.                     1.35e+07\n",
      "==============================================================================\n",
      "\n",
      "Warnings:\n",
      "[1] Standard Errors assume that the covariance matrix of the errors is correctly specified.\n",
      "[2] The condition number is large, 1.35e+07. This might indicate that there are\n",
      "strong multicollinearity or other numerical problems.\n"
     ]
    }
   ],
   "source": [
    "crime1_train = pd.concat([X_train, Y_train], axis=1)\n",
    "lf = 'violent_crimes ~ homicides + rapes + assaults + robberies + months_reported + crimes_percapita + population'\n",
    "lm = smf.ols(formula=lf, data=crime1_train).fit()\n",
    "print(lm.summary())"
   ]
  },
  {
   "cell_type": "markdown",
   "metadata": {},
   "source": [
    "## Dropped 'months_reported': p = 0.85"
   ]
  },
  {
   "cell_type": "code",
   "execution_count": 125,
   "metadata": {},
   "outputs": [],
   "source": [
    "Y = crime1['violent_crimes']\n",
    "X = crime1[[\"homicides\",\"rapes\",\"assaults\",\"robberies\",\"crimes_percapita\",'population']]\n",
    "X_train, X_test, Y_train, Y_test = train_test_split(X, Y, test_size=0.5, random_state=0)"
   ]
  },
  {
   "cell_type": "code",
   "execution_count": 126,
   "metadata": {},
   "outputs": [
    {
     "name": "stdout",
     "output_type": "stream",
     "text": [
      "\n",
      "Coefficients: \n",
      " [ 7.74219324e+01 -5.97765244e+00  8.61140660e-01 -1.25561387e-01\n",
      " -1.82540677e+00 -6.72634877e-04]\n",
      "\n",
      "Intercept: \n",
      " 1278.3587654135335\n",
      "\n",
      "R-Squared:\n",
      "0.9799742043460956\n"
     ]
    }
   ],
   "source": [
    "regr = linear_model.LinearRegression()\n",
    "regr.fit(X_train, Y_train)\n",
    "\n",
    "print('\\nCoefficients: \\n', regr.coef_)\n",
    "print('\\nIntercept: \\n', regr.intercept_)\n",
    "print('\\nR-Squared:')\n",
    "print(regr.score(X_train, Y_train))"
   ]
  },
  {
   "cell_type": "code",
   "execution_count": 127,
   "metadata": {},
   "outputs": [
    {
     "name": "stdout",
     "output_type": "stream",
     "text": [
      "                            OLS Regression Results                            \n",
      "==============================================================================\n",
      "Dep. Variable:         violent_crimes   R-squared:                       0.980\n",
      "Model:                            OLS   Adj. R-squared:                  0.980\n",
      "Method:                 Least Squares   F-statistic:                 1.148e+04\n",
      "Date:                Tue, 20 Aug 2019   Prob (F-statistic):               0.00\n",
      "Time:                        17:17:30   Log-Likelihood:                -16204.\n",
      "No. Observations:                1414   AIC:                         3.242e+04\n",
      "Df Residuals:                    1407   BIC:                         3.246e+04\n",
      "Df Model:                           6                                         \n",
      "Covariance Type:            nonrobust                                         \n",
      "====================================================================================\n",
      "                       coef    std err          t      P>|t|      [0.025      0.975]\n",
      "------------------------------------------------------------------------------------\n",
      "Intercept         1278.3588   1634.400      0.782      0.434   -1927.764    4484.482\n",
      "homicides           77.4219      0.298    260.141      0.000      76.838      78.006\n",
      "rapes               -5.9777      2.824     -2.116      0.034     -11.518      -0.437\n",
      "assaults             0.8611      0.257      3.351      0.001       0.357       1.365\n",
      "robberies           -0.1256      0.176     -0.714      0.475      -0.471       0.219\n",
      "crimes_percapita    -1.8254      1.210     -1.509      0.132      -4.199       0.548\n",
      "population          -0.0007      0.001     -0.459      0.646      -0.004       0.002\n",
      "==============================================================================\n",
      "Omnibus:                     2545.466   Durbin-Watson:                   2.010\n",
      "Prob(Omnibus):                  0.000   Jarque-Bera (JB):          6627818.335\n",
      "Skew:                         -12.048   Prob(JB):                         0.00\n",
      "Kurtosis:                     337.536   Cond. No.                     3.33e+06\n",
      "==============================================================================\n",
      "\n",
      "Warnings:\n",
      "[1] Standard Errors assume that the covariance matrix of the errors is correctly specified.\n",
      "[2] The condition number is large, 3.33e+06. This might indicate that there are\n",
      "strong multicollinearity or other numerical problems.\n"
     ]
    }
   ],
   "source": [
    "crime1_train = pd.concat([X_train, Y_train], axis=1)\n",
    "lf = 'violent_crimes ~ homicides + rapes + assaults + robberies + crimes_percapita + population'\n",
    "lm = smf.ols(formula=lf, data=crime1_train).fit()\n",
    "print(lm.summary())"
   ]
  },
  {
   "cell_type": "markdown",
   "metadata": {},
   "source": [
    "## Dropped 'population': p = 0.646"
   ]
  },
  {
   "cell_type": "code",
   "execution_count": 128,
   "metadata": {},
   "outputs": [],
   "source": [
    "Y = crime1['violent_crimes']\n",
    "X = crime1[[\"homicides\",\"rapes\",\"assaults\",\"robberies\",\"crimes_percapita\"]]\n",
    "X_train, X_test, Y_train, Y_test = train_test_split(X, Y, test_size=0.5, random_state=0)"
   ]
  },
  {
   "cell_type": "code",
   "execution_count": 129,
   "metadata": {},
   "outputs": [
    {
     "name": "stdout",
     "output_type": "stream",
     "text": [
      "\n",
      "Coefficients: \n",
      " [77.43380981 -6.13457561  0.79758955 -0.14177714 -1.50283655]\n",
      "\n",
      "Intercept: \n",
      " 803.374279310854\n",
      "\n",
      "R-Squared:\n",
      "0.9799712066405148\n"
     ]
    }
   ],
   "source": [
    "regr = linear_model.LinearRegression()\n",
    "regr.fit(X_train, Y_train)\n",
    "\n",
    "print('\\nCoefficients: \\n', regr.coef_)\n",
    "print('\\nIntercept: \\n', regr.intercept_)\n",
    "print('\\nR-Squared:')\n",
    "print(regr.score(X_train, Y_train))"
   ]
  },
  {
   "cell_type": "code",
   "execution_count": 130,
   "metadata": {},
   "outputs": [
    {
     "name": "stdout",
     "output_type": "stream",
     "text": [
      "                            OLS Regression Results                            \n",
      "==============================================================================\n",
      "Dep. Variable:         violent_crimes   R-squared:                       0.980\n",
      "Model:                            OLS   Adj. R-squared:                  0.980\n",
      "Method:                 Least Squares   F-statistic:                 1.378e+04\n",
      "Date:                Tue, 20 Aug 2019   Prob (F-statistic):               0.00\n",
      "Time:                        17:17:37   Log-Likelihood:                -16204.\n",
      "No. Observations:                1414   AIC:                         3.242e+04\n",
      "Df Residuals:                    1408   BIC:                         3.245e+04\n",
      "Df Model:                           5                                         \n",
      "Covariance Type:            nonrobust                                         \n",
      "====================================================================================\n",
      "                       coef    std err          t      P>|t|      [0.025      0.975]\n",
      "------------------------------------------------------------------------------------\n",
      "Intercept          803.3743   1264.586      0.635      0.525   -1677.302    3284.050\n",
      "homicides           77.4338      0.296    261.243      0.000      76.852      78.015\n",
      "rapes               -6.1346      2.803     -2.189      0.029     -11.633      -0.636\n",
      "assaults             0.7976      0.216      3.685      0.000       0.373       1.222\n",
      "robberies           -0.1418      0.172     -0.823      0.410      -0.480       0.196\n",
      "crimes_percapita    -1.5028      0.985     -1.526      0.127      -3.435       0.429\n",
      "==============================================================================\n",
      "Omnibus:                     2545.284   Durbin-Watson:                   2.010\n",
      "Prob(Omnibus):                  0.000   Jarque-Bera (JB):          6626218.167\n",
      "Skew:                         -12.047   Prob(JB):                         0.00\n",
      "Kurtosis:                     337.495   Cond. No.                     2.53e+04\n",
      "==============================================================================\n",
      "\n",
      "Warnings:\n",
      "[1] Standard Errors assume that the covariance matrix of the errors is correctly specified.\n",
      "[2] The condition number is large, 2.53e+04. This might indicate that there are\n",
      "strong multicollinearity or other numerical problems.\n"
     ]
    }
   ],
   "source": [
    "crime1_train = pd.concat([X_train, Y_train], axis=1)\n",
    "lf = 'violent_crimes ~ homicides + rapes + assaults + robberies + crimes_percapita'\n",
    "lm = smf.ols(formula=lf, data=crime1_train).fit()\n",
    "print(lm.summary())"
   ]
  },
  {
   "cell_type": "markdown",
   "metadata": {},
   "source": [
    "## Dropped 'robberies': p = 0.41"
   ]
  },
  {
   "cell_type": "code",
   "execution_count": 131,
   "metadata": {},
   "outputs": [],
   "source": [
    "Y = crime1['violent_crimes']\n",
    "X = crime1[[\"homicides\",\"rapes\",\"assaults\",\"crimes_percapita\"]]\n",
    "X_train, X_test, Y_train, Y_test = train_test_split(X, Y, test_size=0.5, random_state=0)"
   ]
  },
  {
   "cell_type": "code",
   "execution_count": 132,
   "metadata": {},
   "outputs": [
    {
     "name": "stdout",
     "output_type": "stream",
     "text": [
      "\n",
      "Coefficients: \n",
      " [77.43051683 -7.04039975  0.69497364 -1.47240321]\n",
      "\n",
      "Intercept: \n",
      " 1044.1816204690185\n",
      "\n",
      "R-Squared:\n",
      "0.9799615650759127\n"
     ]
    }
   ],
   "source": [
    "regr = linear_model.LinearRegression()\n",
    "regr.fit(X_train, Y_train)\n",
    "\n",
    "print('\\nCoefficients: \\n', regr.coef_)\n",
    "print('\\nIntercept: \\n', regr.intercept_)\n",
    "print('\\nR-Squared:')\n",
    "print(regr.score(X_train, Y_train))"
   ]
  },
  {
   "cell_type": "code",
   "execution_count": 133,
   "metadata": {},
   "outputs": [
    {
     "name": "stdout",
     "output_type": "stream",
     "text": [
      "                            OLS Regression Results                            \n",
      "==============================================================================\n",
      "Dep. Variable:         violent_crimes   R-squared:                       0.980\n",
      "Model:                            OLS   Adj. R-squared:                  0.980\n",
      "Method:                 Least Squares   F-statistic:                 1.723e+04\n",
      "Date:                Tue, 20 Aug 2019   Prob (F-statistic):               0.00\n",
      "Time:                        17:17:42   Log-Likelihood:                -16204.\n",
      "No. Observations:                1414   AIC:                         3.242e+04\n",
      "Df Residuals:                    1409   BIC:                         3.244e+04\n",
      "Df Model:                           4                                         \n",
      "Covariance Type:            nonrobust                                         \n",
      "====================================================================================\n",
      "                       coef    std err          t      P>|t|      [0.025      0.975]\n",
      "------------------------------------------------------------------------------------\n",
      "Intercept         1044.1816   1230.154      0.849      0.396   -1368.948    3457.311\n",
      "homicides           77.4305      0.296    261.286      0.000      76.849      78.012\n",
      "rapes               -7.0404      2.578     -2.731      0.006     -12.097      -1.984\n",
      "assaults             0.6950      0.177      3.929      0.000       0.348       1.042\n",
      "crimes_percapita    -1.4724      0.984     -1.496      0.135      -3.403       0.458\n",
      "==============================================================================\n",
      "Omnibus:                     2544.691   Durbin-Watson:                   2.011\n",
      "Prob(Omnibus):                  0.000   Jarque-Bera (JB):          6621851.185\n",
      "Skew:                         -12.040   Prob(JB):                         0.00\n",
      "Kurtosis:                     337.385   Cond. No.                     1.68e+04\n",
      "==============================================================================\n",
      "\n",
      "Warnings:\n",
      "[1] Standard Errors assume that the covariance matrix of the errors is correctly specified.\n",
      "[2] The condition number is large, 1.68e+04. This might indicate that there are\n",
      "strong multicollinearity or other numerical problems.\n"
     ]
    }
   ],
   "source": [
    "crime1_train = pd.concat([X_train, Y_train], axis=1)\n",
    "lf = 'violent_crimes ~ homicides + rapes + assaults + crimes_percapita'\n",
    "lm = smf.ols(formula=lf, data=crime1_train).fit()\n",
    "print(lm.summary())"
   ]
  },
  {
   "cell_type": "markdown",
   "metadata": {},
   "source": [
    "## Dropped 'crimes_percapita': p = 0.135"
   ]
  },
  {
   "cell_type": "code",
   "execution_count": 148,
   "metadata": {},
   "outputs": [],
   "source": [
    "Y = crime1['violent_crimes']\n",
    "X = crime1[[\"homicides\",\"rapes\",\"assaults\"]]\n",
    "X_train, X_test, Y_train, Y_test = train_test_split(X, Y, test_size=0.5, random_state=0)"
   ]
  },
  {
   "cell_type": "code",
   "execution_count": 149,
   "metadata": {},
   "outputs": [
    {
     "name": "stdout",
     "output_type": "stream",
     "text": [
      "\n",
      "Coefficients: \n",
      " [77.46038852 -7.18342518  0.64842856]\n",
      "\n",
      "Intercept: \n",
      " -314.3732019216768\n",
      "\n",
      "R-Squared:\n",
      "0.9799297170225167\n"
     ]
    }
   ],
   "source": [
    "regr = linear_model.LinearRegression()\n",
    "regr.fit(X_train, Y_train)\n",
    "\n",
    "print('\\nCoefficients: \\n', regr.coef_)\n",
    "print('\\nIntercept: \\n', regr.intercept_)\n",
    "print('\\nR-Squared:')\n",
    "print(regr.score(X_train, Y_train))\n"
   ]
  },
  {
   "cell_type": "code",
   "execution_count": 150,
   "metadata": {},
   "outputs": [
    {
     "name": "stdout",
     "output_type": "stream",
     "text": [
      "                            OLS Regression Results                            \n",
      "==============================================================================\n",
      "Dep. Variable:         violent_crimes   R-squared:                       0.980\n",
      "Model:                            OLS   Adj. R-squared:                  0.980\n",
      "Method:                 Least Squares   F-statistic:                 2.295e+04\n",
      "Date:                Tue, 20 Aug 2019   Prob (F-statistic):               0.00\n",
      "Time:                        17:22:43   Log-Likelihood:                -16205.\n",
      "No. Observations:                1414   AIC:                         3.242e+04\n",
      "Df Residuals:                    1410   BIC:                         3.244e+04\n",
      "Df Model:                           3                                         \n",
      "Covariance Type:            nonrobust                                         \n",
      "==============================================================================\n",
      "                 coef    std err          t      P>|t|      [0.025      0.975]\n",
      "------------------------------------------------------------------------------\n",
      "Intercept   -314.3732    830.481     -0.379      0.705   -1943.485    1314.739\n",
      "homicides     77.4604      0.296    261.867      0.000      76.880      78.041\n",
      "rapes         -7.1834      2.577     -2.788      0.005     -12.238      -2.128\n",
      "assaults       0.6484      0.174      3.722      0.000       0.307       0.990\n",
      "==============================================================================\n",
      "Omnibus:                     2540.444   Durbin-Watson:                   2.008\n",
      "Prob(Omnibus):                  0.000   Jarque-Bera (JB):          6573562.417\n",
      "Skew:                         -11.997   Prob(JB):                         0.00\n",
      "Kurtosis:                     336.164   Cond. No.                     1.12e+04\n",
      "==============================================================================\n",
      "\n",
      "Warnings:\n",
      "[1] Standard Errors assume that the covariance matrix of the errors is correctly specified.\n",
      "[2] The condition number is large, 1.12e+04. This might indicate that there are\n",
      "strong multicollinearity or other numerical problems.\n"
     ]
    }
   ],
   "source": [
    "crime1_train = pd.concat([X_train, Y_train], axis=1)\n",
    "lf = 'violent_crimes ~ homicides + rapes + assaults'\n",
    "lm = smf.ols(formula=lf, data=crime1_train).fit()\n",
    "print(lm.summary())"
   ]
  },
  {
   "cell_type": "markdown",
   "metadata": {},
   "source": [
    "# Checking Assumptions"
   ]
  },
  {
   "cell_type": "markdown",
   "metadata": {},
   "source": [
    "## the error term should be zero on average"
   ]
  },
  {
   "cell_type": "code",
   "execution_count": 151,
   "metadata": {},
   "outputs": [
    {
     "name": "stdout",
     "output_type": "stream",
     "text": [
      "Mean of the errors in the medical costs model is: -2.647440022982583e-12\n"
     ]
    }
   ],
   "source": [
    "predicted = regr.predict(X_train).ravel()\n",
    "actual = Y_train\n",
    "errors = actual - predicted\n",
    "\n",
    "print(\"Mean of the errors in the medical costs model is: {}\".format(np.mean(errors)))"
   ]
  },
  {
   "cell_type": "markdown",
   "metadata": {},
   "source": [
    "## homoscedasticity"
   ]
  },
  {
   "cell_type": "code",
   "execution_count": 152,
   "metadata": {},
   "outputs": [
    {
     "data": {
      "image/png": "[encoded data removed]",
      "text/plain": [
       "<Figure size 432x288 with 1 Axes>"
      ]
     },
     "metadata": {},
     "output_type": "display_data"
    }
   ],
   "source": [
    "plt.scatter(predicted, errors)\n",
    "plt.xlabel('Predicted')\n",
    "plt.ylabel('Residual')\n",
    "plt.axhline(y=0)\n",
    "plt.title('Residual vs. Predicted')\n",
    "plt.show()"
   ]
  },
  {
   "cell_type": "code",
   "execution_count": 153,
   "metadata": {},
   "outputs": [
    {
     "name": "stdout",
     "output_type": "stream",
     "text": [
      "Bartlett test statistic value is 3591.27 and p value is 0\n",
      "Levene test statistic value is 21.4174 and p value is 3.86e-06\n"
     ]
    }
   ],
   "source": [
    "from scipy.stats import bartlett\n",
    "from scipy.stats import levene\n",
    "\n",
    "bart_stats = bartlett(predicted, errors)\n",
    "lev_stats = levene(predicted, errors)\n",
    "\n",
    "print(\"Bartlett test statistic value is {0:3g} and p value is {1:.3g}\".format(bart_stats[0], bart_stats[1]))\n",
    "print(\"Levene test statistic value is {0:3g} and p value is {1:.3g}\".format(lev_stats[0], lev_stats[1]))"
   ]
  },
  {
   "cell_type": "markdown",
   "metadata": {},
   "source": [
    "Both the chart and the test results show us that there is heteroscedasticity problem in our model. Hence, the accuracies of our estimated parameters are not reliable."
   ]
  },
  {
   "cell_type": "markdown",
   "metadata": {},
   "source": [
    "## low multicollinearity"
   ]
  },
  {
   "cell_type": "code",
   "execution_count": 154,
   "metadata": {},
   "outputs": [
    {
     "data": {
      "image/png": "[encoded data removed]",
      "text/plain": [
       "<Figure size 432x288 with 2 Axes>"
      ]
     },
     "metadata": {},
     "output_type": "display_data"
    }
   ],
   "source": [
    "correlation_matrix = X_train.corr()\n",
    "multicollinearity = sns.heatmap(correlation_matrix, cmap=sns.cubehelix_palette(light=1, as_cmap=True))\n",
    "ticks = plt.xticks(rotation=90)"
   ]
  },
  {
   "cell_type": "markdown",
   "metadata": {},
   "source": [
    "The 'rapes' and 'assaults' are very highly correlated with each other."
   ]
  },
  {
   "cell_type": "markdown",
   "metadata": {},
   "source": [
    "## error terms should be uncorrelated with one other"
   ]
  },
  {
   "cell_type": "code",
   "execution_count": 155,
   "metadata": {},
   "outputs": [
    {
     "data": {
      "image/png": "[encoded data removed]",
      "text/plain": [
       "<Figure size 432x288 with 1 Axes>"
      ]
     },
     "metadata": {},
     "output_type": "display_data"
    }
   ],
   "source": [
    "plt.plot(errors)\n",
    "plt.show()"
   ]
  },
  {
   "cell_type": "code",
   "execution_count": 156,
   "metadata": {},
   "outputs": [
    {
     "data": {
      "image/png": "[encoded data removed]",
      "text/plain": [
       "<Figure size 432x288 with 1 Axes>"
      ]
     },
     "metadata": {},
     "output_type": "display_data"
    }
   ],
   "source": [
    "from statsmodels.tsa.stattools import acf\n",
    "\n",
    "acf_data = acf(errors)\n",
    "\n",
    "plt.plot(acf_data[1:])\n",
    "plt.show()"
   ]
  },
  {
   "cell_type": "markdown",
   "metadata": {},
   "source": [
    "It seems that the errors are serially uncorrelated."
   ]
  },
  {
   "cell_type": "markdown",
   "metadata": {},
   "source": [
    "## features shouldn't be correlated with the errors"
   ]
  },
  {
   "cell_type": "code",
   "execution_count": 165,
   "metadata": {},
   "outputs": [
    {
     "data": {
      "text/html": [
       "<div>\n",
       "<style scoped>\n",
       "    .dataframe tbody tr th:only-of-type {\n",
       "        vertical-align: middle;\n",
       "    }\n",
       "\n",
       "    .dataframe tbody tr th {\n",
       "        vertical-align: top;\n",
       "    }\n",
       "\n",
       "    .dataframe thead th {\n",
       "        text-align: right;\n",
       "    }\n",
       "</style>\n",
       "<table border=\"1\" class=\"dataframe\">\n",
       "  <thead>\n",
       "    <tr style=\"text-align: right;\">\n",
       "      <th></th>\n",
       "      <th>assaults</th>\n",
       "    </tr>\n",
       "  </thead>\n",
       "  <tbody>\n",
       "    <tr>\n",
       "      <th>homicides</th>\n",
       "      <td>0.051946</td>\n",
       "    </tr>\n",
       "    <tr>\n",
       "      <th>rapes</th>\n",
       "      <td>0.862739</td>\n",
       "    </tr>\n",
       "    <tr>\n",
       "      <th>assaults</th>\n",
       "      <td>1.000000</td>\n",
       "    </tr>\n",
       "  </tbody>\n",
       "</table>\n",
       "</div>"
      ],
      "text/plain": [
       "           assaults\n",
       "homicides  0.051946\n",
       "rapes      0.862739\n",
       "assaults   1.000000"
      ]
     },
     "execution_count": 165,
     "metadata": {},
     "output_type": "execute_result"
    }
   ],
   "source": [
    "df = pd.concat([X_train, pd.DataFrame(errors, columns=[\"error\"])], axis=1)\n",
    "df.corr().iloc[:,-1:]"
   ]
  },
  {
   "cell_type": "markdown",
   "metadata": {},
   "source": [
    "As evidenced in the table above, the features and the errors are uncorrelated."
   ]
  },
  {
   "cell_type": "code",
   "execution_count": 170,
   "metadata": {},
   "outputs": [
    {
     "ename": "NotFittedError",
     "evalue": "This LinearRegression instance is not fitted yet. Call 'fit' with appropriate arguments before using this method.",
     "output_type": "error",
     "traceback": [
      "\u001b[1;31m---------------------------------------------------------------------------\u001b[0m",
      "\u001b[1;31mNotFittedError\u001b[0m                            Traceback (most recent call last)",
      "\u001b[1;32m<ipython-input-170-75a4986360db>\u001b[0m in \u001b[0;36m<module>\u001b[1;34m()\u001b[0m\n\u001b[0;32m      7\u001b[0m \u001b[1;33m\u001b[0m\u001b[0m\n\u001b[0;32m      8\u001b[0m \u001b[1;31m# We are making predictions here\u001b[0m\u001b[1;33m\u001b[0m\u001b[1;33m\u001b[0m\u001b[0m\n\u001b[1;32m----> 9\u001b[1;33m \u001b[0mY_preds_train\u001b[0m \u001b[1;33m=\u001b[0m \u001b[0mlrm\u001b[0m\u001b[1;33m.\u001b[0m\u001b[0mpredict\u001b[0m\u001b[1;33m(\u001b[0m\u001b[0mX_train\u001b[0m\u001b[1;33m)\u001b[0m\u001b[1;33m\u001b[0m\u001b[0m\n\u001b[0m\u001b[0;32m     10\u001b[0m \u001b[0mY_preds_test\u001b[0m \u001b[1;33m=\u001b[0m \u001b[0mlrm\u001b[0m\u001b[1;33m.\u001b[0m\u001b[0mpredict\u001b[0m\u001b[1;33m(\u001b[0m\u001b[0mX_test\u001b[0m\u001b[1;33m)\u001b[0m\u001b[1;33m\u001b[0m\u001b[0m\n\u001b[0;32m     11\u001b[0m \u001b[1;33m\u001b[0m\u001b[0m\n",
      "\u001b[1;32m~\\Anaconda3\\lib\\site-packages\\sklearn\\linear_model\\base.py\u001b[0m in \u001b[0;36mpredict\u001b[1;34m(self, X)\u001b[0m\n\u001b[0;32m    254\u001b[0m             \u001b[0mReturns\u001b[0m \u001b[0mpredicted\u001b[0m \u001b[0mvalues\u001b[0m\u001b[1;33m.\u001b[0m\u001b[1;33m\u001b[0m\u001b[0m\n\u001b[0;32m    255\u001b[0m         \"\"\"\n\u001b[1;32m--> 256\u001b[1;33m         \u001b[1;32mreturn\u001b[0m \u001b[0mself\u001b[0m\u001b[1;33m.\u001b[0m\u001b[0m_decision_function\u001b[0m\u001b[1;33m(\u001b[0m\u001b[0mX\u001b[0m\u001b[1;33m)\u001b[0m\u001b[1;33m\u001b[0m\u001b[0m\n\u001b[0m\u001b[0;32m    257\u001b[0m \u001b[1;33m\u001b[0m\u001b[0m\n\u001b[0;32m    258\u001b[0m     \u001b[0m_preprocess_data\u001b[0m \u001b[1;33m=\u001b[0m \u001b[0mstaticmethod\u001b[0m\u001b[1;33m(\u001b[0m\u001b[0m_preprocess_data\u001b[0m\u001b[1;33m)\u001b[0m\u001b[1;33m\u001b[0m\u001b[0m\n",
      "\u001b[1;32m~\\Anaconda3\\lib\\site-packages\\sklearn\\linear_model\\base.py\u001b[0m in \u001b[0;36m_decision_function\u001b[1;34m(self, X)\u001b[0m\n\u001b[0;32m    235\u001b[0m \u001b[1;33m\u001b[0m\u001b[0m\n\u001b[0;32m    236\u001b[0m     \u001b[1;32mdef\u001b[0m \u001b[0m_decision_function\u001b[0m\u001b[1;33m(\u001b[0m\u001b[0mself\u001b[0m\u001b[1;33m,\u001b[0m \u001b[0mX\u001b[0m\u001b[1;33m)\u001b[0m\u001b[1;33m:\u001b[0m\u001b[1;33m\u001b[0m\u001b[0m\n\u001b[1;32m--> 237\u001b[1;33m         \u001b[0mcheck_is_fitted\u001b[0m\u001b[1;33m(\u001b[0m\u001b[0mself\u001b[0m\u001b[1;33m,\u001b[0m \u001b[1;34m\"coef_\"\u001b[0m\u001b[1;33m)\u001b[0m\u001b[1;33m\u001b[0m\u001b[0m\n\u001b[0m\u001b[0;32m    238\u001b[0m \u001b[1;33m\u001b[0m\u001b[0m\n\u001b[0;32m    239\u001b[0m         \u001b[0mX\u001b[0m \u001b[1;33m=\u001b[0m \u001b[0mcheck_array\u001b[0m\u001b[1;33m(\u001b[0m\u001b[0mX\u001b[0m\u001b[1;33m,\u001b[0m \u001b[0maccept_sparse\u001b[0m\u001b[1;33m=\u001b[0m\u001b[1;33m[\u001b[0m\u001b[1;34m'csr'\u001b[0m\u001b[1;33m,\u001b[0m \u001b[1;34m'csc'\u001b[0m\u001b[1;33m,\u001b[0m \u001b[1;34m'coo'\u001b[0m\u001b[1;33m]\u001b[0m\u001b[1;33m)\u001b[0m\u001b[1;33m\u001b[0m\u001b[0m\n",
      "\u001b[1;32m~\\Anaconda3\\lib\\site-packages\\sklearn\\utils\\validation.py\u001b[0m in \u001b[0;36mcheck_is_fitted\u001b[1;34m(estimator, attributes, msg, all_or_any)\u001b[0m\n\u001b[0;32m    766\u001b[0m \u001b[1;33m\u001b[0m\u001b[0m\n\u001b[0;32m    767\u001b[0m     \u001b[1;32mif\u001b[0m \u001b[1;32mnot\u001b[0m \u001b[0mall_or_any\u001b[0m\u001b[1;33m(\u001b[0m\u001b[1;33m[\u001b[0m\u001b[0mhasattr\u001b[0m\u001b[1;33m(\u001b[0m\u001b[0mestimator\u001b[0m\u001b[1;33m,\u001b[0m \u001b[0mattr\u001b[0m\u001b[1;33m)\u001b[0m \u001b[1;32mfor\u001b[0m \u001b[0mattr\u001b[0m \u001b[1;32min\u001b[0m \u001b[0mattributes\u001b[0m\u001b[1;33m]\u001b[0m\u001b[1;33m)\u001b[0m\u001b[1;33m:\u001b[0m\u001b[1;33m\u001b[0m\u001b[0m\n\u001b[1;32m--> 768\u001b[1;33m         \u001b[1;32mraise\u001b[0m \u001b[0mNotFittedError\u001b[0m\u001b[1;33m(\u001b[0m\u001b[0mmsg\u001b[0m \u001b[1;33m%\u001b[0m \u001b[1;33m{\u001b[0m\u001b[1;34m'name'\u001b[0m\u001b[1;33m:\u001b[0m \u001b[0mtype\u001b[0m\u001b[1;33m(\u001b[0m\u001b[0mestimator\u001b[0m\u001b[1;33m)\u001b[0m\u001b[1;33m.\u001b[0m\u001b[0m__name__\u001b[0m\u001b[1;33m}\u001b[0m\u001b[1;33m)\u001b[0m\u001b[1;33m\u001b[0m\u001b[0m\n\u001b[0m\u001b[0;32m    769\u001b[0m \u001b[1;33m\u001b[0m\u001b[0m\n\u001b[0;32m    770\u001b[0m \u001b[1;33m\u001b[0m\u001b[0m\n",
      "\u001b[1;31mNotFittedError\u001b[0m: This LinearRegression instance is not fitted yet. Call 'fit' with appropriate arguments before using this method."
     ]
    }
   ],
   "source": [
    "lrm = LinearRegression()\n",
    "\n",
    "alphas = [np.power(10.0,p) for p in np.arange(-10,40,1)]\n",
    "\n",
    "ridge_cv = RidgeCV(alphas=alphas, cv=5)\n",
    "\n",
    "ridge_cv.fit(X_train, Y_train)\n",
    "\n",
    "# We are making predictions here\n",
    "Y_preds_train = lrm.predict(X_train)\n",
    "Y_preds_test = lrm.predict(X_test)\n",
    "\n",
    "print(\"R-squared of the model in training set is: {}\".format(lrm.score(X_train, Y_train)))\n",
    "print(\"-----Test set statistics-----\")\n",
    "print(\"R-squared of the model in test set is: {}\".format(lrm.score(X_test, Y_test)))\n",
    "print(\"Mean absolute error of the prediction is: {}\".format(mean_absolute_error(Y_test, Y_preds_test)))\n",
    "print(\"Mean squared error of the prediction is: {}\".format(mse(Y_test, Y_preds_test)))\n",
    "print(\"Root mean squared error of the prediction is: {}\".format(rmse(Y_test, Y_preds_test)))\n",
    "print(\"Mean absolute percentage error of the prediction is: {}\".format(np.mean(np.abs((Y_test - Y_preds_test) / Y_test)) * 100))"
   ]
  },
  {
   "cell_type": "markdown",
   "metadata": {},
   "source": [
    "## Cross-Validation"
   ]
  },
  {
   "cell_type": "code",
   "execution_count": null,
   "metadata": {},
   "outputs": [],
   "source": [
    "scores = cross_val_score(ridge_cv, X_test, Y_test, cv=5, scoring = 'explained_variance')\n",
    "print(\"Explained Variance Scores: {}.\".format(scores))\n",
    "print(\"Coefficient of Determination: {:.2f}% (+/- {:.2f}%).\".format(scores.mean()*100, scores.std() * 200))"
   ]
  },
  {
   "cell_type": "markdown",
   "metadata": {},
   "source": [
    "# KNN Regression Models: Weighted & Unweighted"
   ]
  },
  {
   "cell_type": "markdown",
   "metadata": {},
   "source": [
    "## Feature Normalization"
   ]
  },
  {
   "cell_type": "code",
   "execution_count": null,
   "metadata": {},
   "outputs": [],
   "source": [
    "z_scaler = StandardScaler()\n",
    "X = z_scaler.fit_transform(crime1[[\"homicides\",\"rapes\",\"assaults\"]])"
   ]
  },
  {
   "cell_type": "markdown",
   "metadata": {},
   "source": [
    "## Fitting to Data & Scoring"
   ]
  },
  {
   "cell_type": "markdown",
   "metadata": {},
   "source": [
    "### k = 15"
   ]
  },
  {
   "cell_type": "code",
   "execution_count": null,
   "metadata": {},
   "outputs": [],
   "source": [
    "#Unweighted KNN Regression.\n",
    "knn = neighbors.KNeighborsRegressor(n_neighbors=15)\n",
    "Y = np.column_stack([crime['violent_crimes'],crime['violent_crimes']])\n",
    "X = X\n",
    "knn.fit(X, Y)\n",
    "T_x1 = np.arange(-1, 16.2, .1)[:, np.newaxis]\n",
    "T_x2 = np.arange(-1, 16.2, .1)[:, np.newaxis]\n",
    "T = np.column_stack([T_x1, T_x2])\n",
    "Y_ = knn.predict(T)\n",
    "\n",
    "plt.figure(figsize=(10,10))\n",
    "plt.scatter(X, Y, color ='k', label='Data')\n",
    "plt.plot(T, Y_, color ='m', label='Prediction')\n",
    "plt.legend()\n",
    "plt.ylabel('violent_crimes')\n",
    "plt.xlabel(\"homicides\",\"rapes\",\"assaults\")\n",
    "plt.title('K=15, Unweighted')\n",
    "plt.show()\n",
    "\n",
    "score = cross_val_score(knn, X, Y, cv=5)\n",
    "print(\"Unweighted Accuracy: {:.2f}% (+/- {:.2f})%.\".format(score.mean()*100, score.std() * 200))\n",
    "\n",
    "\n",
    "#Weighted KNN Regression.\n",
    "knn_w = neighbors.KNeighborsRegressor(n_neighbors=15, weights='distance')\n",
    "knn_w.fit(X, Y)\n",
    "Y_ = knn_w.predict(T)\n",
    "\n",
    "plt.figure(figsize=(10,10))\n",
    "plt.scatter(X, Y, color ='k', label='Data')\n",
    "plt.plot(T, Y_, color ='m', label='Prediction')\n",
    "plt.legend()\n",
    "plt.ylabel('violent_crimes')\n",
    "plt.xlabel(\"homicides\",\"rapes\",\"assaults\")\n",
    "plt.title('K=15, Weighted')\n",
    "plt.show()\n",
    "\n",
    "score_w = cross_val_score(knn_w, X, Y, cv=5)\n",
    "print(\"Weighted Accuracy: {:.2f}% (+/- {:.2f})%.\".format(score_w.mean()*100, score_w.std() * 200))"
   ]
  }
 ],
 "metadata": {
  "kernelspec": {
   "display_name": "Python 3",
   "language": "python",
   "name": "python3"
  },
  "language_info": {
   "codemirror_mode": {
    "name": "ipython",
    "version": 3
   },
   "file_extension": ".py",
   "mimetype": "text/x-python",
   "name": "python",
   "nbconvert_exporter": "python",
   "pygments_lexer": "ipython3",
   "version": "3.6.5"
  }
 },
 "nbformat": 4,
 "nbformat_minor": 2
}
