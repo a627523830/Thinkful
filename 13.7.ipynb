{
 "cells": [
  {
   "cell_type": "code",
   "execution_count": 1,
   "metadata": {},
   "outputs": [],
   "source": [
    "import numpy as np\n",
    "import pandas as pd\n",
    "import matplotlib.pyplot as plt\n",
    "import seaborn as sns\n",
    "import scipy.stats as stats"
   ]
  },
  {
   "cell_type": "code",
   "execution_count": 7,
   "metadata": {},
   "outputs": [
    {
     "name": "stdout",
     "output_type": "stream",
     "text": [
      "-19.78141420187361\n"
     ]
    }
   ],
   "source": [
    "y1=5\n",
    "y2=8\n",
    "s1=1\n",
    "s2=3\n",
    "N1=200\n",
    "N2=500\n",
    "t1 = (y1 - y2)/np.sqrt(s1*s1/N1+s2*s2/N2)\n",
    "print(t1)"
   ]
  },
  {
   "cell_type": "code",
   "execution_count": 6,
   "metadata": {},
   "outputs": [
    {
     "name": "stdout",
     "output_type": "stream",
     "text": [
      "6.658536585365854\n"
     ]
    }
   ],
   "source": [
    "y1=1090\n",
    "y2=999\n",
    "s1=400\n",
    "s2=30\n",
    "N1=900\n",
    "N2=100\n",
    "t2 = (y1 - y2)/np.sqrt(s1*s1/N1+s2*s2/N2)\n",
    "print(t2)"
   ]
  },
  {
   "cell_type": "code",
   "execution_count": 8,
   "metadata": {},
   "outputs": [
    {
     "name": "stdout",
     "output_type": "stream",
     "text": [
      "3.7139067635410377\n"
     ]
    }
   ],
   "source": [
    "y1=45\n",
    "y2=40\n",
    "s1=45\n",
    "s2=40\n",
    "N1=2000\n",
    "N2=2000\n",
    "t3 = (y1 - y2)/np.sqrt(s1*s1/N1+s2*s2/N2)\n",
    "print(t3)"
   ]
  },
  {
   "cell_type": "code",
   "execution_count": null,
   "metadata": {},
   "outputs": [],
   "source": []
  }
 ],
 "metadata": {
  "kernelspec": {
   "display_name": "Python 3",
   "language": "python",
   "name": "python3"
  },
  "language_info": {
   "codemirror_mode": {
    "name": "ipython",
    "version": 3
   },
   "file_extension": ".py",
   "mimetype": "text/x-python",
   "name": "python",
   "nbconvert_exporter": "python",
   "pygments_lexer": "ipython3",
   "version": "3.6.5"
  }
 },
 "nbformat": 4,
 "nbformat_minor": 2
}
