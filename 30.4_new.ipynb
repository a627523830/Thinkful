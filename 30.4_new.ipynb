{
 "cells": [
  {
   "cell_type": "code",
   "execution_count": 1,
   "metadata": {},
   "outputs": [],
   "source": [
    "import matplotlib.pyplot as plt\n",
    "import numpy as np\n",
    "import pandas as pd\n",
    "import seaborn as sns\n",
    "sns.set_style('white')\n",
    "import warnings\n",
    "warnings.filterwarnings(\"ignore\")\n",
    "from itertools import cycle\n",
    "from sklearn.preprocessing import normalize\n",
    "from sklearn.model_selection import train_test_split\n",
    "from sklearn.decomposition import PCA\n",
    "from sklearn import metrics\n",
    "from sklearn.metrics import pairwise_distances\n",
    "from sklearn.cluster import MeanShift, estimate_bandwidth\n",
    "from sklearn.cluster import SpectralClustering\n",
    "from sklearn.cluster import AffinityPropagation\n",
    "from sklearn.cluster import KMeans"
   ]
  },
  {
   "cell_type": "markdown",
   "metadata": {},
   "source": [
    "# Loading The Data: 2014 Boston Marathon Results"
   ]
  },
  {
   "cell_type": "code",
   "execution_count": 36,
   "metadata": {},
   "outputs": [
    {
     "data": {
      "text/html": [
       "<div>\n",
       "<style scoped>\n",
       "    .dataframe tbody tr th:only-of-type {\n",
       "        vertical-align: middle;\n",
       "    }\n",
       "\n",
       "    .dataframe tbody tr th {\n",
       "        vertical-align: top;\n",
       "    }\n",
       "\n",
       "    .dataframe thead th {\n",
       "        text-align: right;\n",
       "    }\n",
       "</style>\n",
       "<table border=\"1\" class=\"dataframe\">\n",
       "  <thead>\n",
       "    <tr style=\"text-align: right;\">\n",
       "      <th></th>\n",
       "      <th>10k</th>\n",
       "      <th>name</th>\n",
       "      <th>division</th>\n",
       "      <th>25k</th>\n",
       "      <th>gender</th>\n",
       "      <th>age</th>\n",
       "      <th>official</th>\n",
       "      <th>bib</th>\n",
       "      <th>genderdiv</th>\n",
       "      <th>ctz</th>\n",
       "      <th>...</th>\n",
       "      <th>overall</th>\n",
       "      <th>pace</th>\n",
       "      <th>state</th>\n",
       "      <th>30k</th>\n",
       "      <th>5k</th>\n",
       "      <th>half</th>\n",
       "      <th>20k</th>\n",
       "      <th>country</th>\n",
       "      <th>city</th>\n",
       "      <th>40k</th>\n",
       "    </tr>\n",
       "  </thead>\n",
       "  <tbody>\n",
       "    <tr>\n",
       "      <td>0</td>\n",
       "      <td>17.37</td>\n",
       "      <td>Yamamoto, Hiroyuki</td>\n",
       "      <td>8</td>\n",
       "      <td>47.67</td>\n",
       "      <td>M</td>\n",
       "      <td>47</td>\n",
       "      <td>85.25</td>\n",
       "      <td>W1</td>\n",
       "      <td>8</td>\n",
       "      <td>NaN</td>\n",
       "      <td>...</td>\n",
       "      <td>8</td>\n",
       "      <td>3.27</td>\n",
       "      <td>NaN</td>\n",
       "      <td>59.18</td>\n",
       "      <td>8.02</td>\n",
       "      <td>39.72</td>\n",
       "      <td>37.65</td>\n",
       "      <td>JPN</td>\n",
       "      <td>Fukuoka</td>\n",
       "      <td>80.43</td>\n",
       "    </tr>\n",
       "    <tr>\n",
       "      <td>1</td>\n",
       "      <td>32.58</td>\n",
       "      <td>Jeptoo, Rita</td>\n",
       "      <td>1</td>\n",
       "      <td>82.43</td>\n",
       "      <td>F</td>\n",
       "      <td>33</td>\n",
       "      <td>138.95</td>\n",
       "      <td>F1</td>\n",
       "      <td>1</td>\n",
       "      <td>NaN</td>\n",
       "      <td>...</td>\n",
       "      <td>21</td>\n",
       "      <td>5.30</td>\n",
       "      <td>NaN</td>\n",
       "      <td>99.33</td>\n",
       "      <td>16.22</td>\n",
       "      <td>69.47</td>\n",
       "      <td>65.83</td>\n",
       "      <td>KEN</td>\n",
       "      <td>Eldoret</td>\n",
       "      <td>132.10</td>\n",
       "    </tr>\n",
       "    <tr>\n",
       "      <td>2</td>\n",
       "      <td>16.62</td>\n",
       "      <td>Van Dyk, Ernst F.</td>\n",
       "      <td>1</td>\n",
       "      <td>45.80</td>\n",
       "      <td>M</td>\n",
       "      <td>41</td>\n",
       "      <td>80.60</td>\n",
       "      <td>W2</td>\n",
       "      <td>1</td>\n",
       "      <td>NaN</td>\n",
       "      <td>...</td>\n",
       "      <td>1</td>\n",
       "      <td>3.08</td>\n",
       "      <td>NaN</td>\n",
       "      <td>56.45</td>\n",
       "      <td>7.75</td>\n",
       "      <td>38.03</td>\n",
       "      <td>36.10</td>\n",
       "      <td>RSA</td>\n",
       "      <td>Paarl</td>\n",
       "      <td>76.10</td>\n",
       "    </tr>\n",
       "    <tr>\n",
       "      <td>3</td>\n",
       "      <td>32.57</td>\n",
       "      <td>Dibaba, Mare</td>\n",
       "      <td>3</td>\n",
       "      <td>82.43</td>\n",
       "      <td>F</td>\n",
       "      <td>24</td>\n",
       "      <td>140.58</td>\n",
       "      <td>F2</td>\n",
       "      <td>3</td>\n",
       "      <td>NaN</td>\n",
       "      <td>...</td>\n",
       "      <td>27</td>\n",
       "      <td>5.37</td>\n",
       "      <td>NaN</td>\n",
       "      <td>99.33</td>\n",
       "      <td>16.20</td>\n",
       "      <td>69.47</td>\n",
       "      <td>65.83</td>\n",
       "      <td>ETH</td>\n",
       "      <td>Shoa</td>\n",
       "      <td>132.95</td>\n",
       "    </tr>\n",
       "    <tr>\n",
       "      <td>4</td>\n",
       "      <td>17.12</td>\n",
       "      <td>Hokinoue, Kota</td>\n",
       "      <td>2</td>\n",
       "      <td>46.37</td>\n",
       "      <td>M</td>\n",
       "      <td>40</td>\n",
       "      <td>81.23</td>\n",
       "      <td>W3</td>\n",
       "      <td>2</td>\n",
       "      <td>NaN</td>\n",
       "      <td>...</td>\n",
       "      <td>2</td>\n",
       "      <td>3.10</td>\n",
       "      <td>NaN</td>\n",
       "      <td>57.03</td>\n",
       "      <td>8.02</td>\n",
       "      <td>38.60</td>\n",
       "      <td>36.58</td>\n",
       "      <td>JPN</td>\n",
       "      <td>Nogata Fukuoka</td>\n",
       "      <td>76.72</td>\n",
       "    </tr>\n",
       "  </tbody>\n",
       "</table>\n",
       "<p>5 rows × 21 columns</p>\n",
       "</div>"
      ],
      "text/plain": [
       "     10k                name  division    25k gender  age  official bib  \\\n",
       "0  17.37  Yamamoto, Hiroyuki         8  47.67      M   47     85.25  W1   \n",
       "1  32.58        Jeptoo, Rita         1  82.43      F   33    138.95  F1   \n",
       "2  16.62   Van Dyk, Ernst F.         1  45.80      M   41     80.60  W2   \n",
       "3  32.57        Dibaba, Mare         3  82.43      F   24    140.58  F2   \n",
       "4  17.12      Hokinoue, Kota         2  46.37      M   40     81.23  W3   \n",
       "\n",
       "   genderdiv  ctz  ... overall  pace  state    30k     5k   half    20k  \\\n",
       "0          8  NaN  ...       8  3.27    NaN  59.18   8.02  39.72  37.65   \n",
       "1          1  NaN  ...      21  5.30    NaN  99.33  16.22  69.47  65.83   \n",
       "2          1  NaN  ...       1  3.08    NaN  56.45   7.75  38.03  36.10   \n",
       "3          3  NaN  ...      27  5.37    NaN  99.33  16.20  69.47  65.83   \n",
       "4          2  NaN  ...       2  3.10    NaN  57.03   8.02  38.60  36.58   \n",
       "\n",
       "  country            city     40k  \n",
       "0     JPN         Fukuoka   80.43  \n",
       "1     KEN         Eldoret  132.10  \n",
       "2     RSA           Paarl   76.10  \n",
       "3     ETH            Shoa  132.95  \n",
       "4     JPN  Nogata Fukuoka   76.72  \n",
       "\n",
       "[5 rows x 21 columns]"
      ]
     },
     "execution_count": 36,
     "metadata": {},
     "output_type": "execute_result"
    }
   ],
   "source": [
    "marathon = pd.read_csv('results.csv')\n",
    "marathon.head()"
   ]
  },
  {
   "cell_type": "code",
   "execution_count": 37,
   "metadata": {},
   "outputs": [
    {
     "data": {
      "text/plain": [
       "10k           object\n",
       "name          object\n",
       "division       int64\n",
       "25k           object\n",
       "gender        object\n",
       "age            int64\n",
       "official     float64\n",
       "bib           object\n",
       "genderdiv      int64\n",
       "ctz           object\n",
       "35k           object\n",
       "overall        int64\n",
       "pace         float64\n",
       "state         object\n",
       "30k           object\n",
       "5k            object\n",
       "half          object\n",
       "20k           object\n",
       "country       object\n",
       "city          object\n",
       "40k           object\n",
       "dtype: object"
      ]
     },
     "execution_count": 37,
     "metadata": {},
     "output_type": "execute_result"
    }
   ],
   "source": [
    "marathon.dtypes"
   ]
  },
  {
   "cell_type": "markdown",
   "metadata": {
    "code_folding": []
   },
   "source": [
    "# Sampling"
   ]
  },
  {
   "cell_type": "markdown",
   "metadata": {},
   "source": [
    "# Choose some useful variables and order them"
   ]
  },
  {
   "cell_type": "code",
   "execution_count": 38,
   "metadata": {},
   "outputs": [
    {
     "data": {
      "text/html": [
       "<div>\n",
       "<style scoped>\n",
       "    .dataframe tbody tr th:only-of-type {\n",
       "        vertical-align: middle;\n",
       "    }\n",
       "\n",
       "    .dataframe tbody tr th {\n",
       "        vertical-align: top;\n",
       "    }\n",
       "\n",
       "    .dataframe thead th {\n",
       "        text-align: right;\n",
       "    }\n",
       "</style>\n",
       "<table border=\"1\" class=\"dataframe\">\n",
       "  <thead>\n",
       "    <tr style=\"text-align: right;\">\n",
       "      <th></th>\n",
       "      <th>10k</th>\n",
       "      <th>name</th>\n",
       "      <th>division</th>\n",
       "      <th>25k</th>\n",
       "      <th>gender</th>\n",
       "      <th>age</th>\n",
       "      <th>official</th>\n",
       "      <th>bib</th>\n",
       "      <th>genderdiv</th>\n",
       "      <th>ctz</th>\n",
       "      <th>...</th>\n",
       "      <th>overall</th>\n",
       "      <th>pace</th>\n",
       "      <th>state</th>\n",
       "      <th>30k</th>\n",
       "      <th>5k</th>\n",
       "      <th>half</th>\n",
       "      <th>20k</th>\n",
       "      <th>country</th>\n",
       "      <th>city</th>\n",
       "      <th>40k</th>\n",
       "    </tr>\n",
       "  </thead>\n",
       "  <tbody>\n",
       "    <tr>\n",
       "      <td>0</td>\n",
       "      <td>17.37</td>\n",
       "      <td>Yamamoto, Hiroyuki</td>\n",
       "      <td>8</td>\n",
       "      <td>47.67</td>\n",
       "      <td>0</td>\n",
       "      <td>47</td>\n",
       "      <td>85.25</td>\n",
       "      <td>W1</td>\n",
       "      <td>8</td>\n",
       "      <td>NaN</td>\n",
       "      <td>...</td>\n",
       "      <td>8</td>\n",
       "      <td>3.27</td>\n",
       "      <td>NaN</td>\n",
       "      <td>59.18</td>\n",
       "      <td>8.02</td>\n",
       "      <td>39.72</td>\n",
       "      <td>37.65</td>\n",
       "      <td>JPN</td>\n",
       "      <td>Fukuoka</td>\n",
       "      <td>80.43</td>\n",
       "    </tr>\n",
       "    <tr>\n",
       "      <td>1</td>\n",
       "      <td>32.58</td>\n",
       "      <td>Jeptoo, Rita</td>\n",
       "      <td>1</td>\n",
       "      <td>82.43</td>\n",
       "      <td>1</td>\n",
       "      <td>33</td>\n",
       "      <td>138.95</td>\n",
       "      <td>F1</td>\n",
       "      <td>1</td>\n",
       "      <td>NaN</td>\n",
       "      <td>...</td>\n",
       "      <td>21</td>\n",
       "      <td>5.30</td>\n",
       "      <td>NaN</td>\n",
       "      <td>99.33</td>\n",
       "      <td>16.22</td>\n",
       "      <td>69.47</td>\n",
       "      <td>65.83</td>\n",
       "      <td>KEN</td>\n",
       "      <td>Eldoret</td>\n",
       "      <td>132.10</td>\n",
       "    </tr>\n",
       "    <tr>\n",
       "      <td>2</td>\n",
       "      <td>16.62</td>\n",
       "      <td>Van Dyk, Ernst F.</td>\n",
       "      <td>1</td>\n",
       "      <td>45.80</td>\n",
       "      <td>0</td>\n",
       "      <td>41</td>\n",
       "      <td>80.60</td>\n",
       "      <td>W2</td>\n",
       "      <td>1</td>\n",
       "      <td>NaN</td>\n",
       "      <td>...</td>\n",
       "      <td>1</td>\n",
       "      <td>3.08</td>\n",
       "      <td>NaN</td>\n",
       "      <td>56.45</td>\n",
       "      <td>7.75</td>\n",
       "      <td>38.03</td>\n",
       "      <td>36.10</td>\n",
       "      <td>RSA</td>\n",
       "      <td>Paarl</td>\n",
       "      <td>76.10</td>\n",
       "    </tr>\n",
       "    <tr>\n",
       "      <td>3</td>\n",
       "      <td>32.57</td>\n",
       "      <td>Dibaba, Mare</td>\n",
       "      <td>3</td>\n",
       "      <td>82.43</td>\n",
       "      <td>1</td>\n",
       "      <td>24</td>\n",
       "      <td>140.58</td>\n",
       "      <td>F2</td>\n",
       "      <td>3</td>\n",
       "      <td>NaN</td>\n",
       "      <td>...</td>\n",
       "      <td>27</td>\n",
       "      <td>5.37</td>\n",
       "      <td>NaN</td>\n",
       "      <td>99.33</td>\n",
       "      <td>16.20</td>\n",
       "      <td>69.47</td>\n",
       "      <td>65.83</td>\n",
       "      <td>ETH</td>\n",
       "      <td>Shoa</td>\n",
       "      <td>132.95</td>\n",
       "    </tr>\n",
       "    <tr>\n",
       "      <td>4</td>\n",
       "      <td>17.12</td>\n",
       "      <td>Hokinoue, Kota</td>\n",
       "      <td>2</td>\n",
       "      <td>46.37</td>\n",
       "      <td>0</td>\n",
       "      <td>40</td>\n",
       "      <td>81.23</td>\n",
       "      <td>W3</td>\n",
       "      <td>2</td>\n",
       "      <td>NaN</td>\n",
       "      <td>...</td>\n",
       "      <td>2</td>\n",
       "      <td>3.10</td>\n",
       "      <td>NaN</td>\n",
       "      <td>57.03</td>\n",
       "      <td>8.02</td>\n",
       "      <td>38.60</td>\n",
       "      <td>36.58</td>\n",
       "      <td>JPN</td>\n",
       "      <td>Nogata Fukuoka</td>\n",
       "      <td>76.72</td>\n",
       "    </tr>\n",
       "  </tbody>\n",
       "</table>\n",
       "<p>5 rows × 21 columns</p>\n",
       "</div>"
      ],
      "text/plain": [
       "     10k                name  division    25k  gender  age  official bib  \\\n",
       "0  17.37  Yamamoto, Hiroyuki         8  47.67       0   47     85.25  W1   \n",
       "1  32.58        Jeptoo, Rita         1  82.43       1   33    138.95  F1   \n",
       "2  16.62   Van Dyk, Ernst F.         1  45.80       0   41     80.60  W2   \n",
       "3  32.57        Dibaba, Mare         3  82.43       1   24    140.58  F2   \n",
       "4  17.12      Hokinoue, Kota         2  46.37       0   40     81.23  W3   \n",
       "\n",
       "   genderdiv  ctz  ... overall  pace  state    30k     5k   half    20k  \\\n",
       "0          8  NaN  ...       8  3.27    NaN  59.18   8.02  39.72  37.65   \n",
       "1          1  NaN  ...      21  5.30    NaN  99.33  16.22  69.47  65.83   \n",
       "2          1  NaN  ...       1  3.08    NaN  56.45   7.75  38.03  36.10   \n",
       "3          3  NaN  ...      27  5.37    NaN  99.33  16.20  69.47  65.83   \n",
       "4          2  NaN  ...       2  3.10    NaN  57.03   8.02  38.60  36.58   \n",
       "\n",
       "  country            city     40k  \n",
       "0     JPN         Fukuoka   80.43  \n",
       "1     KEN         Eldoret  132.10  \n",
       "2     RSA           Paarl   76.10  \n",
       "3     ETH            Shoa  132.95  \n",
       "4     JPN  Nogata Fukuoka   76.72  \n",
       "\n",
       "[5 rows x 21 columns]"
      ]
     },
     "execution_count": 38,
     "metadata": {},
     "output_type": "execute_result"
    }
   ],
   "source": [
    "marathon['gender'] = marathon['gender'].map({'F': 1, 'M': 0})\n",
    "marathon.head()"
   ]
  },
  {
   "cell_type": "code",
   "execution_count": 39,
   "metadata": {},
   "outputs": [],
   "source": [
    "marathon = marathon.drop(['bib','city','country','ctz','division','genderdiv','overall','name','state'], 1)"
   ]
  },
  {
   "cell_type": "code",
   "execution_count": 40,
   "metadata": {},
   "outputs": [],
   "source": [
    "columns = marathon[['5k','10k','20k','25k','30k','35k','40k','gender','age','half','official','pace']]\n",
    "\n",
    "for column in columns: \n",
    "    marathon[column] = pd.to_numeric(marathon[column], errors='coerce')"
   ]
  },
  {
   "cell_type": "code",
   "execution_count": 41,
   "metadata": {},
   "outputs": [
    {
     "data": {
      "text/plain": [
       "10k         float64\n",
       "25k         float64\n",
       "gender        int64\n",
       "age           int64\n",
       "official    float64\n",
       "35k         float64\n",
       "pace        float64\n",
       "30k         float64\n",
       "5k          float64\n",
       "half        float64\n",
       "20k         float64\n",
       "40k         float64\n",
       "dtype: object"
      ]
     },
     "execution_count": 41,
     "metadata": {},
     "output_type": "execute_result"
    }
   ],
   "source": [
    "marathon.dtypes"
   ]
  },
  {
   "cell_type": "code",
   "execution_count": 42,
   "metadata": {},
   "outputs": [
    {
     "data": {
      "text/html": [
       "<div>\n",
       "<style scoped>\n",
       "    .dataframe tbody tr th:only-of-type {\n",
       "        vertical-align: middle;\n",
       "    }\n",
       "\n",
       "    .dataframe tbody tr th {\n",
       "        vertical-align: top;\n",
       "    }\n",
       "\n",
       "    .dataframe thead th {\n",
       "        text-align: right;\n",
       "    }\n",
       "</style>\n",
       "<table border=\"1\" class=\"dataframe\">\n",
       "  <thead>\n",
       "    <tr style=\"text-align: right;\">\n",
       "      <th></th>\n",
       "      <th>10k</th>\n",
       "      <th>25k</th>\n",
       "      <th>gender</th>\n",
       "      <th>age</th>\n",
       "      <th>official</th>\n",
       "      <th>35k</th>\n",
       "      <th>pace</th>\n",
       "      <th>30k</th>\n",
       "      <th>5k</th>\n",
       "      <th>half</th>\n",
       "      <th>20k</th>\n",
       "      <th>40k</th>\n",
       "    </tr>\n",
       "  </thead>\n",
       "  <tbody>\n",
       "    <tr>\n",
       "      <td>0</td>\n",
       "      <td>17.37</td>\n",
       "      <td>47.67</td>\n",
       "      <td>0</td>\n",
       "      <td>47</td>\n",
       "      <td>85.25</td>\n",
       "      <td>71.40</td>\n",
       "      <td>3.27</td>\n",
       "      <td>59.18</td>\n",
       "      <td>8.02</td>\n",
       "      <td>39.72</td>\n",
       "      <td>37.65</td>\n",
       "      <td>80.43</td>\n",
       "    </tr>\n",
       "    <tr>\n",
       "      <td>1</td>\n",
       "      <td>32.58</td>\n",
       "      <td>82.43</td>\n",
       "      <td>1</td>\n",
       "      <td>33</td>\n",
       "      <td>138.95</td>\n",
       "      <td>116.37</td>\n",
       "      <td>5.30</td>\n",
       "      <td>99.33</td>\n",
       "      <td>16.22</td>\n",
       "      <td>69.47</td>\n",
       "      <td>65.83</td>\n",
       "      <td>132.10</td>\n",
       "    </tr>\n",
       "    <tr>\n",
       "      <td>2</td>\n",
       "      <td>16.62</td>\n",
       "      <td>45.80</td>\n",
       "      <td>0</td>\n",
       "      <td>41</td>\n",
       "      <td>80.60</td>\n",
       "      <td>67.42</td>\n",
       "      <td>3.08</td>\n",
       "      <td>56.45</td>\n",
       "      <td>7.75</td>\n",
       "      <td>38.03</td>\n",
       "      <td>36.10</td>\n",
       "      <td>76.10</td>\n",
       "    </tr>\n",
       "    <tr>\n",
       "      <td>3</td>\n",
       "      <td>32.57</td>\n",
       "      <td>82.43</td>\n",
       "      <td>1</td>\n",
       "      <td>24</td>\n",
       "      <td>140.58</td>\n",
       "      <td>116.37</td>\n",
       "      <td>5.37</td>\n",
       "      <td>99.33</td>\n",
       "      <td>16.20</td>\n",
       "      <td>69.47</td>\n",
       "      <td>65.83</td>\n",
       "      <td>132.95</td>\n",
       "    </tr>\n",
       "    <tr>\n",
       "      <td>4</td>\n",
       "      <td>17.12</td>\n",
       "      <td>46.37</td>\n",
       "      <td>0</td>\n",
       "      <td>40</td>\n",
       "      <td>81.23</td>\n",
       "      <td>67.83</td>\n",
       "      <td>3.10</td>\n",
       "      <td>57.03</td>\n",
       "      <td>8.02</td>\n",
       "      <td>38.60</td>\n",
       "      <td>36.58</td>\n",
       "      <td>76.72</td>\n",
       "    </tr>\n",
       "  </tbody>\n",
       "</table>\n",
       "</div>"
      ],
      "text/plain": [
       "     10k    25k  gender  age  official     35k  pace    30k     5k   half  \\\n",
       "0  17.37  47.67       0   47     85.25   71.40  3.27  59.18   8.02  39.72   \n",
       "1  32.58  82.43       1   33    138.95  116.37  5.30  99.33  16.22  69.47   \n",
       "2  16.62  45.80       0   41     80.60   67.42  3.08  56.45   7.75  38.03   \n",
       "3  32.57  82.43       1   24    140.58  116.37  5.37  99.33  16.20  69.47   \n",
       "4  17.12  46.37       0   40     81.23   67.83  3.10  57.03   8.02  38.60   \n",
       "\n",
       "     20k     40k  \n",
       "0  37.65   80.43  \n",
       "1  65.83  132.10  \n",
       "2  36.10   76.10  \n",
       "3  65.83  132.95  \n",
       "4  36.58   76.72  "
      ]
     },
     "execution_count": 42,
     "metadata": {},
     "output_type": "execute_result"
    }
   ],
   "source": [
    "marathon.head()"
   ]
  },
  {
   "cell_type": "code",
   "execution_count": 43,
   "metadata": {},
   "outputs": [],
   "source": [
    "marathon = marathon.dropna()"
   ]
  },
  {
   "cell_type": "code",
   "execution_count": 44,
   "metadata": {
    "scrolled": true
   },
   "outputs": [
    {
     "data": {
      "text/html": [
       "<div>\n",
       "<style scoped>\n",
       "    .dataframe tbody tr th:only-of-type {\n",
       "        vertical-align: middle;\n",
       "    }\n",
       "\n",
       "    .dataframe tbody tr th {\n",
       "        vertical-align: top;\n",
       "    }\n",
       "\n",
       "    .dataframe thead th {\n",
       "        text-align: right;\n",
       "    }\n",
       "</style>\n",
       "<table border=\"1\" class=\"dataframe\">\n",
       "  <thead>\n",
       "    <tr style=\"text-align: right;\">\n",
       "      <th></th>\n",
       "      <th>10k</th>\n",
       "      <th>25k</th>\n",
       "      <th>gender</th>\n",
       "      <th>age</th>\n",
       "      <th>official</th>\n",
       "      <th>35k</th>\n",
       "      <th>pace</th>\n",
       "      <th>30k</th>\n",
       "      <th>5k</th>\n",
       "      <th>half</th>\n",
       "      <th>20k</th>\n",
       "      <th>40k</th>\n",
       "    </tr>\n",
       "  </thead>\n",
       "  <tbody>\n",
       "    <tr>\n",
       "      <td>count</td>\n",
       "      <td>31649.000000</td>\n",
       "      <td>31649.000000</td>\n",
       "      <td>31649.000000</td>\n",
       "      <td>31649.000000</td>\n",
       "      <td>31649.000000</td>\n",
       "      <td>31649.000000</td>\n",
       "      <td>31649.000000</td>\n",
       "      <td>31649.000000</td>\n",
       "      <td>31649.000000</td>\n",
       "      <td>31649.000000</td>\n",
       "      <td>31649.000000</td>\n",
       "      <td>31649.000000</td>\n",
       "    </tr>\n",
       "    <tr>\n",
       "      <td>mean</td>\n",
       "      <td>51.629039</td>\n",
       "      <td>133.581175</td>\n",
       "      <td>0.447565</td>\n",
       "      <td>42.385067</td>\n",
       "      <td>241.952383</td>\n",
       "      <td>196.033373</td>\n",
       "      <td>9.236463</td>\n",
       "      <td>163.894883</td>\n",
       "      <td>25.678261</td>\n",
       "      <td>111.211481</td>\n",
       "      <td>105.321404</td>\n",
       "      <td>228.189990</td>\n",
       "    </tr>\n",
       "    <tr>\n",
       "      <td>std</td>\n",
       "      <td>8.710102</td>\n",
       "      <td>25.571480</td>\n",
       "      <td>0.497251</td>\n",
       "      <td>11.299795</td>\n",
       "      <td>50.842552</td>\n",
       "      <td>40.775036</td>\n",
       "      <td>1.939150</td>\n",
       "      <td>32.889354</td>\n",
       "      <td>4.215381</td>\n",
       "      <td>20.306387</td>\n",
       "      <td>19.159500</td>\n",
       "      <td>48.074493</td>\n",
       "    </tr>\n",
       "    <tr>\n",
       "      <td>min</td>\n",
       "      <td>16.620000</td>\n",
       "      <td>45.800000</td>\n",
       "      <td>0.000000</td>\n",
       "      <td>18.000000</td>\n",
       "      <td>80.600000</td>\n",
       "      <td>67.420000</td>\n",
       "      <td>3.080000</td>\n",
       "      <td>56.450000</td>\n",
       "      <td>7.750000</td>\n",
       "      <td>38.030000</td>\n",
       "      <td>36.100000</td>\n",
       "      <td>76.100000</td>\n",
       "    </tr>\n",
       "    <tr>\n",
       "      <td>25%</td>\n",
       "      <td>45.370000</td>\n",
       "      <td>115.430000</td>\n",
       "      <td>0.000000</td>\n",
       "      <td>33.000000</td>\n",
       "      <td>205.300000</td>\n",
       "      <td>166.950000</td>\n",
       "      <td>7.830000</td>\n",
       "      <td>140.520000</td>\n",
       "      <td>22.620000</td>\n",
       "      <td>96.750000</td>\n",
       "      <td>91.670000</td>\n",
       "      <td>193.620000</td>\n",
       "    </tr>\n",
       "    <tr>\n",
       "      <td>50%</td>\n",
       "      <td>50.280000</td>\n",
       "      <td>128.850000</td>\n",
       "      <td>0.000000</td>\n",
       "      <td>42.000000</td>\n",
       "      <td>231.980000</td>\n",
       "      <td>187.850000</td>\n",
       "      <td>8.850000</td>\n",
       "      <td>157.500000</td>\n",
       "      <td>25.050000</td>\n",
       "      <td>107.680000</td>\n",
       "      <td>102.000000</td>\n",
       "      <td>218.470000</td>\n",
       "    </tr>\n",
       "    <tr>\n",
       "      <td>75%</td>\n",
       "      <td>57.000000</td>\n",
       "      <td>147.700000</td>\n",
       "      <td>1.000000</td>\n",
       "      <td>50.000000</td>\n",
       "      <td>272.200000</td>\n",
       "      <td>219.370000</td>\n",
       "      <td>10.380000</td>\n",
       "      <td>182.200000</td>\n",
       "      <td>28.400000</td>\n",
       "      <td>122.680000</td>\n",
       "      <td>116.150000</td>\n",
       "      <td>256.570000</td>\n",
       "    </tr>\n",
       "    <tr>\n",
       "      <td>max</td>\n",
       "      <td>112.380000</td>\n",
       "      <td>289.020000</td>\n",
       "      <td>1.000000</td>\n",
       "      <td>81.000000</td>\n",
       "      <td>538.880000</td>\n",
       "      <td>449.330000</td>\n",
       "      <td>20.570000</td>\n",
       "      <td>376.380000</td>\n",
       "      <td>86.950000</td>\n",
       "      <td>236.670000</td>\n",
       "      <td>224.350000</td>\n",
       "      <td>508.350000</td>\n",
       "    </tr>\n",
       "  </tbody>\n",
       "</table>\n",
       "</div>"
      ],
      "text/plain": [
       "                10k           25k        gender           age      official  \\\n",
       "count  31649.000000  31649.000000  31649.000000  31649.000000  31649.000000   \n",
       "mean      51.629039    133.581175      0.447565     42.385067    241.952383   \n",
       "std        8.710102     25.571480      0.497251     11.299795     50.842552   \n",
       "min       16.620000     45.800000      0.000000     18.000000     80.600000   \n",
       "25%       45.370000    115.430000      0.000000     33.000000    205.300000   \n",
       "50%       50.280000    128.850000      0.000000     42.000000    231.980000   \n",
       "75%       57.000000    147.700000      1.000000     50.000000    272.200000   \n",
       "max      112.380000    289.020000      1.000000     81.000000    538.880000   \n",
       "\n",
       "                35k          pace           30k            5k          half  \\\n",
       "count  31649.000000  31649.000000  31649.000000  31649.000000  31649.000000   \n",
       "mean     196.033373      9.236463    163.894883     25.678261    111.211481   \n",
       "std       40.775036      1.939150     32.889354      4.215381     20.306387   \n",
       "min       67.420000      3.080000     56.450000      7.750000     38.030000   \n",
       "25%      166.950000      7.830000    140.520000     22.620000     96.750000   \n",
       "50%      187.850000      8.850000    157.500000     25.050000    107.680000   \n",
       "75%      219.370000     10.380000    182.200000     28.400000    122.680000   \n",
       "max      449.330000     20.570000    376.380000     86.950000    236.670000   \n",
       "\n",
       "                20k           40k  \n",
       "count  31649.000000  31649.000000  \n",
       "mean     105.321404    228.189990  \n",
       "std       19.159500     48.074493  \n",
       "min       36.100000     76.100000  \n",
       "25%       91.670000    193.620000  \n",
       "50%      102.000000    218.470000  \n",
       "75%      116.150000    256.570000  \n",
       "max      224.350000    508.350000  "
      ]
     },
     "execution_count": 44,
     "metadata": {},
     "output_type": "execute_result"
    }
   ],
   "source": [
    "marathon.describe()"
   ]
  },
  {
   "cell_type": "markdown",
   "metadata": {},
   "source": [
    "# Normalization: Preprocessing"
   ]
  },
  {
   "cell_type": "code",
   "execution_count": 45,
   "metadata": {},
   "outputs": [],
   "source": [
    "X_normalized = normalize(marathon)\n",
    "X_normalized_df = pd.DataFrame(normalize(marathon), columns = marathon.columns)"
   ]
  },
  {
   "cell_type": "markdown",
   "metadata": {},
   "source": [
    "# K-Means"
   ]
  },
  {
   "cell_type": "code",
   "execution_count": 48,
   "metadata": {},
   "outputs": [
    {
     "data": {
      "text/plain": [
       "array([1, 1, 1, ..., 2, 2, 1])"
      ]
     },
     "execution_count": 48,
     "metadata": {},
     "output_type": "execute_result"
    }
   ],
   "source": [
    "km = KMeans(n_clusters=4, init='k-means++', n_init=10)\n",
    "km.fit(X_normalized_df)\n",
    "x = km.fit_predict(X_normalized_df)\n",
    "x"
   ]
  },
  {
   "cell_type": "code",
   "execution_count": 49,
   "metadata": {},
   "outputs": [
    {
     "data": {
      "text/html": [
       "<div>\n",
       "<style scoped>\n",
       "    .dataframe tbody tr th:only-of-type {\n",
       "        vertical-align: middle;\n",
       "    }\n",
       "\n",
       "    .dataframe tbody tr th {\n",
       "        vertical-align: top;\n",
       "    }\n",
       "\n",
       "    .dataframe thead th {\n",
       "        text-align: right;\n",
       "    }\n",
       "</style>\n",
       "<table border=\"1\" class=\"dataframe\">\n",
       "  <thead>\n",
       "    <tr style=\"text-align: right;\">\n",
       "      <th></th>\n",
       "      <th>10k</th>\n",
       "      <th>25k</th>\n",
       "      <th>gender</th>\n",
       "      <th>age</th>\n",
       "      <th>official</th>\n",
       "      <th>35k</th>\n",
       "      <th>pace</th>\n",
       "      <th>30k</th>\n",
       "      <th>5k</th>\n",
       "      <th>half</th>\n",
       "      <th>20k</th>\n",
       "      <th>40k</th>\n",
       "      <th>Cluster</th>\n",
       "    </tr>\n",
       "  </thead>\n",
       "  <tbody>\n",
       "    <tr>\n",
       "      <td>0</td>\n",
       "      <td>17.37</td>\n",
       "      <td>47.67</td>\n",
       "      <td>0</td>\n",
       "      <td>47</td>\n",
       "      <td>85.25</td>\n",
       "      <td>71.40</td>\n",
       "      <td>3.27</td>\n",
       "      <td>59.18</td>\n",
       "      <td>8.02</td>\n",
       "      <td>39.72</td>\n",
       "      <td>37.65</td>\n",
       "      <td>80.43</td>\n",
       "      <td>1</td>\n",
       "    </tr>\n",
       "    <tr>\n",
       "      <td>1</td>\n",
       "      <td>32.58</td>\n",
       "      <td>82.43</td>\n",
       "      <td>1</td>\n",
       "      <td>33</td>\n",
       "      <td>138.95</td>\n",
       "      <td>116.37</td>\n",
       "      <td>5.30</td>\n",
       "      <td>99.33</td>\n",
       "      <td>16.22</td>\n",
       "      <td>69.47</td>\n",
       "      <td>65.83</td>\n",
       "      <td>132.10</td>\n",
       "      <td>1</td>\n",
       "    </tr>\n",
       "    <tr>\n",
       "      <td>2</td>\n",
       "      <td>16.62</td>\n",
       "      <td>45.80</td>\n",
       "      <td>0</td>\n",
       "      <td>41</td>\n",
       "      <td>80.60</td>\n",
       "      <td>67.42</td>\n",
       "      <td>3.08</td>\n",
       "      <td>56.45</td>\n",
       "      <td>7.75</td>\n",
       "      <td>38.03</td>\n",
       "      <td>36.10</td>\n",
       "      <td>76.10</td>\n",
       "      <td>1</td>\n",
       "    </tr>\n",
       "    <tr>\n",
       "      <td>3</td>\n",
       "      <td>32.57</td>\n",
       "      <td>82.43</td>\n",
       "      <td>1</td>\n",
       "      <td>24</td>\n",
       "      <td>140.58</td>\n",
       "      <td>116.37</td>\n",
       "      <td>5.37</td>\n",
       "      <td>99.33</td>\n",
       "      <td>16.20</td>\n",
       "      <td>69.47</td>\n",
       "      <td>65.83</td>\n",
       "      <td>132.95</td>\n",
       "      <td>3</td>\n",
       "    </tr>\n",
       "    <tr>\n",
       "      <td>4</td>\n",
       "      <td>17.12</td>\n",
       "      <td>46.37</td>\n",
       "      <td>0</td>\n",
       "      <td>40</td>\n",
       "      <td>81.23</td>\n",
       "      <td>67.83</td>\n",
       "      <td>3.10</td>\n",
       "      <td>57.03</td>\n",
       "      <td>8.02</td>\n",
       "      <td>38.60</td>\n",
       "      <td>36.58</td>\n",
       "      <td>76.72</td>\n",
       "      <td>1</td>\n",
       "    </tr>\n",
       "  </tbody>\n",
       "</table>\n",
       "</div>"
      ],
      "text/plain": [
       "     10k    25k  gender  age  official     35k  pace    30k     5k   half  \\\n",
       "0  17.37  47.67       0   47     85.25   71.40  3.27  59.18   8.02  39.72   \n",
       "1  32.58  82.43       1   33    138.95  116.37  5.30  99.33  16.22  69.47   \n",
       "2  16.62  45.80       0   41     80.60   67.42  3.08  56.45   7.75  38.03   \n",
       "3  32.57  82.43       1   24    140.58  116.37  5.37  99.33  16.20  69.47   \n",
       "4  17.12  46.37       0   40     81.23   67.83  3.10  57.03   8.02  38.60   \n",
       "\n",
       "     20k     40k  Cluster  \n",
       "0  37.65   80.43        1  \n",
       "1  65.83  132.10        1  \n",
       "2  36.10   76.10        1  \n",
       "3  65.83  132.95        3  \n",
       "4  36.58   76.72        1  "
      ]
     },
     "execution_count": 49,
     "metadata": {},
     "output_type": "execute_result"
    }
   ],
   "source": [
    "marathon[\"Cluster\"]= x\n",
    "marathon.head()"
   ]
  },
  {
   "cell_type": "code",
   "execution_count": 50,
   "metadata": {},
   "outputs": [
    {
     "data": {
      "text/html": [
       "<div>\n",
       "<style scoped>\n",
       "    .dataframe tbody tr th:only-of-type {\n",
       "        vertical-align: middle;\n",
       "    }\n",
       "\n",
       "    .dataframe tbody tr th {\n",
       "        vertical-align: top;\n",
       "    }\n",
       "\n",
       "    .dataframe thead th {\n",
       "        text-align: right;\n",
       "    }\n",
       "</style>\n",
       "<table border=\"1\" class=\"dataframe\">\n",
       "  <thead>\n",
       "    <tr style=\"text-align: right;\">\n",
       "      <th></th>\n",
       "      <th>10k</th>\n",
       "      <th>25k</th>\n",
       "      <th>gender</th>\n",
       "      <th>age</th>\n",
       "      <th>official</th>\n",
       "      <th>35k</th>\n",
       "      <th>pace</th>\n",
       "      <th>30k</th>\n",
       "      <th>5k</th>\n",
       "      <th>half</th>\n",
       "      <th>20k</th>\n",
       "      <th>40k</th>\n",
       "      <th>Cluster</th>\n",
       "    </tr>\n",
       "  </thead>\n",
       "  <tbody>\n",
       "    <tr>\n",
       "      <td>15910</td>\n",
       "      <td>53.82</td>\n",
       "      <td>140.28</td>\n",
       "      <td>1</td>\n",
       "      <td>41</td>\n",
       "      <td>259.52</td>\n",
       "      <td>209.95</td>\n",
       "      <td>9.90</td>\n",
       "      <td>173.83</td>\n",
       "      <td>26.87</td>\n",
       "      <td>115.60</td>\n",
       "      <td>109.40</td>\n",
       "      <td>245.02</td>\n",
       "      <td>0</td>\n",
       "    </tr>\n",
       "    <tr>\n",
       "      <td>7739</td>\n",
       "      <td>44.63</td>\n",
       "      <td>114.80</td>\n",
       "      <td>0</td>\n",
       "      <td>42</td>\n",
       "      <td>216.52</td>\n",
       "      <td>172.50</td>\n",
       "      <td>8.27</td>\n",
       "      <td>142.17</td>\n",
       "      <td>22.28</td>\n",
       "      <td>95.65</td>\n",
       "      <td>90.63</td>\n",
       "      <td>204.42</td>\n",
       "      <td>0</td>\n",
       "    </tr>\n",
       "    <tr>\n",
       "      <td>21542</td>\n",
       "      <td>58.27</td>\n",
       "      <td>149.07</td>\n",
       "      <td>1</td>\n",
       "      <td>56</td>\n",
       "      <td>288.60</td>\n",
       "      <td>223.07</td>\n",
       "      <td>11.02</td>\n",
       "      <td>184.75</td>\n",
       "      <td>28.83</td>\n",
       "      <td>124.48</td>\n",
       "      <td>117.78</td>\n",
       "      <td>266.95</td>\n",
       "      <td>0</td>\n",
       "    </tr>\n",
       "    <tr>\n",
       "      <td>21543</td>\n",
       "      <td>60.68</td>\n",
       "      <td>179.15</td>\n",
       "      <td>1</td>\n",
       "      <td>57</td>\n",
       "      <td>348.13</td>\n",
       "      <td>275.95</td>\n",
       "      <td>13.28</td>\n",
       "      <td>225.02</td>\n",
       "      <td>28.67</td>\n",
       "      <td>145.12</td>\n",
       "      <td>137.38</td>\n",
       "      <td>325.18</td>\n",
       "      <td>0</td>\n",
       "    </tr>\n",
       "    <tr>\n",
       "      <td>14932</td>\n",
       "      <td>49.87</td>\n",
       "      <td>130.95</td>\n",
       "      <td>1</td>\n",
       "      <td>43</td>\n",
       "      <td>245.80</td>\n",
       "      <td>198.08</td>\n",
       "      <td>9.38</td>\n",
       "      <td>162.35</td>\n",
       "      <td>24.45</td>\n",
       "      <td>109.27</td>\n",
       "      <td>103.63</td>\n",
       "      <td>229.63</td>\n",
       "      <td>0</td>\n",
       "    </tr>\n",
       "    <tr>\n",
       "      <td>...</td>\n",
       "      <td>...</td>\n",
       "      <td>...</td>\n",
       "      <td>...</td>\n",
       "      <td>...</td>\n",
       "      <td>...</td>\n",
       "      <td>...</td>\n",
       "      <td>...</td>\n",
       "      <td>...</td>\n",
       "      <td>...</td>\n",
       "      <td>...</td>\n",
       "      <td>...</td>\n",
       "      <td>...</td>\n",
       "      <td>...</td>\n",
       "    </tr>\n",
       "    <tr>\n",
       "      <td>4406</td>\n",
       "      <td>41.93</td>\n",
       "      <td>105.40</td>\n",
       "      <td>1</td>\n",
       "      <td>30</td>\n",
       "      <td>180.80</td>\n",
       "      <td>149.47</td>\n",
       "      <td>6.90</td>\n",
       "      <td>127.20</td>\n",
       "      <td>20.85</td>\n",
       "      <td>88.75</td>\n",
       "      <td>84.15</td>\n",
       "      <td>171.55</td>\n",
       "      <td>3</td>\n",
       "    </tr>\n",
       "    <tr>\n",
       "      <td>20030</td>\n",
       "      <td>55.12</td>\n",
       "      <td>139.52</td>\n",
       "      <td>1</td>\n",
       "      <td>50</td>\n",
       "      <td>252.75</td>\n",
       "      <td>207.13</td>\n",
       "      <td>9.65</td>\n",
       "      <td>172.05</td>\n",
       "      <td>27.15</td>\n",
       "      <td>116.68</td>\n",
       "      <td>110.43</td>\n",
       "      <td>239.68</td>\n",
       "      <td>3</td>\n",
       "    </tr>\n",
       "    <tr>\n",
       "      <td>4403</td>\n",
       "      <td>42.07</td>\n",
       "      <td>105.70</td>\n",
       "      <td>0</td>\n",
       "      <td>33</td>\n",
       "      <td>183.88</td>\n",
       "      <td>149.67</td>\n",
       "      <td>7.02</td>\n",
       "      <td>127.58</td>\n",
       "      <td>21.23</td>\n",
       "      <td>88.75</td>\n",
       "      <td>84.03</td>\n",
       "      <td>173.92</td>\n",
       "      <td>3</td>\n",
       "    </tr>\n",
       "    <tr>\n",
       "      <td>11641</td>\n",
       "      <td>49.38</td>\n",
       "      <td>122.07</td>\n",
       "      <td>1</td>\n",
       "      <td>25</td>\n",
       "      <td>205.83</td>\n",
       "      <td>171.27</td>\n",
       "      <td>7.87</td>\n",
       "      <td>146.48</td>\n",
       "      <td>24.67</td>\n",
       "      <td>103.28</td>\n",
       "      <td>98.08</td>\n",
       "      <td>195.43</td>\n",
       "      <td>3</td>\n",
       "    </tr>\n",
       "    <tr>\n",
       "      <td>10013</td>\n",
       "      <td>41.10</td>\n",
       "      <td>102.88</td>\n",
       "      <td>1</td>\n",
       "      <td>36</td>\n",
       "      <td>177.78</td>\n",
       "      <td>146.05</td>\n",
       "      <td>6.78</td>\n",
       "      <td>124.22</td>\n",
       "      <td>20.73</td>\n",
       "      <td>86.75</td>\n",
       "      <td>82.33</td>\n",
       "      <td>168.03</td>\n",
       "      <td>3</td>\n",
       "    </tr>\n",
       "  </tbody>\n",
       "</table>\n",
       "<p>31649 rows × 13 columns</p>\n",
       "</div>"
      ],
      "text/plain": [
       "         10k     25k  gender  age  official     35k   pace     30k     5k  \\\n",
       "15910  53.82  140.28       1   41    259.52  209.95   9.90  173.83  26.87   \n",
       "7739   44.63  114.80       0   42    216.52  172.50   8.27  142.17  22.28   \n",
       "21542  58.27  149.07       1   56    288.60  223.07  11.02  184.75  28.83   \n",
       "21543  60.68  179.15       1   57    348.13  275.95  13.28  225.02  28.67   \n",
       "14932  49.87  130.95       1   43    245.80  198.08   9.38  162.35  24.45   \n",
       "...      ...     ...     ...  ...       ...     ...    ...     ...    ...   \n",
       "4406   41.93  105.40       1   30    180.80  149.47   6.90  127.20  20.85   \n",
       "20030  55.12  139.52       1   50    252.75  207.13   9.65  172.05  27.15   \n",
       "4403   42.07  105.70       0   33    183.88  149.67   7.02  127.58  21.23   \n",
       "11641  49.38  122.07       1   25    205.83  171.27   7.87  146.48  24.67   \n",
       "10013  41.10  102.88       1   36    177.78  146.05   6.78  124.22  20.73   \n",
       "\n",
       "         half     20k     40k  Cluster  \n",
       "15910  115.60  109.40  245.02        0  \n",
       "7739    95.65   90.63  204.42        0  \n",
       "21542  124.48  117.78  266.95        0  \n",
       "21543  145.12  137.38  325.18        0  \n",
       "14932  109.27  103.63  229.63        0  \n",
       "...       ...     ...     ...      ...  \n",
       "4406    88.75   84.15  171.55        3  \n",
       "20030  116.68  110.43  239.68        3  \n",
       "4403    88.75   84.03  173.92        3  \n",
       "11641  103.28   98.08  195.43        3  \n",
       "10013   86.75   82.33  168.03        3  \n",
       "\n",
       "[31649 rows x 13 columns]"
      ]
     },
     "execution_count": 50,
     "metadata": {},
     "output_type": "execute_result"
    }
   ],
   "source": [
    "marathon = marathon.sort_values(['Cluster'])\n",
    "marathon"
   ]
  },
  {
   "cell_type": "code",
   "execution_count": 58,
   "metadata": {},
   "outputs": [],
   "source": [
    "df0 = marathon[(marathon.Cluster == 0)]\n",
    "df1 = marathon[(marathon.Cluster == 1)]\n",
    "df2 = marathon[(marathon.Cluster == 2)]\n",
    "df3 = marathon[(marathon.Cluster == 3)]"
   ]
  },
  {
   "cell_type": "code",
   "execution_count": 60,
   "metadata": {},
   "outputs": [
    {
     "data": {
      "text/plain": [
       "<matplotlib.axes._subplots.AxesSubplot at 0x20400a10>"
      ]
     },
     "execution_count": 60,
     "metadata": {},
     "output_type": "execute_result"
    },
    {
     "data": {
      "image/png": "[encoded data removed]",
      "text/plain": [
       "<Figure size 432x288 with 1 Axes>"
      ]
     },
     "metadata": {
      "needs_background": "light"
     },
     "output_type": "display_data"
    }
   ],
   "source": [
    "plt.title(\"Gender Barplot of Cluster0\")\n",
    "sns.countplot(x=\"gender\", data=df0)"
   ]
  },
  {
   "cell_type": "code",
   "execution_count": 61,
   "metadata": {},
   "outputs": [
    {
     "data": {
      "text/plain": [
       "<matplotlib.axes._subplots.AxesSubplot at 0x20440910>"
      ]
     },
     "execution_count": 61,
     "metadata": {},
     "output_type": "execute_result"
    },
    {
     "data": {
      "image/png": "[encoded data removed]",
      "text/plain": [
       "<Figure size 432x288 with 1 Axes>"
      ]
     },
     "metadata": {
      "needs_background": "light"
     },
     "output_type": "display_data"
    }
   ],
   "source": [
    "plt.title(\"Gender Barplot of Cluster1\")\n",
    "sns.countplot(x=\"gender\", data=df1)"
   ]
  },
  {
   "cell_type": "code",
   "execution_count": 62,
   "metadata": {},
   "outputs": [
    {
     "data": {
      "text/plain": [
       "<matplotlib.axes._subplots.AxesSubplot at 0x20499790>"
      ]
     },
     "execution_count": 62,
     "metadata": {},
     "output_type": "execute_result"
    },
    {
     "data": {
      "image/png": "[encoded data removed]",
      "text/plain": [
       "<Figure size 432x288 with 1 Axes>"
      ]
     },
     "metadata": {
      "needs_background": "light"
     },
     "output_type": "display_data"
    }
   ],
   "source": [
    "plt.title(\"Gender Barplot of Cluster2\")\n",
    "sns.countplot(x=\"gender\", data=df2)"
   ]
  },
  {
   "cell_type": "code",
   "execution_count": 63,
   "metadata": {},
   "outputs": [
    {
     "data": {
      "text/plain": [
       "<matplotlib.axes._subplots.AxesSubplot at 0x204c4ff0>"
      ]
     },
     "execution_count": 63,
     "metadata": {},
     "output_type": "execute_result"
    },
    {
     "data": {
      "image/png": "[encoded data removed]",
      "text/plain": [
       "<Figure size 432x288 with 1 Axes>"
      ]
     },
     "metadata": {
      "needs_background": "light"
     },
     "output_type": "display_data"
    }
   ],
   "source": [
    "plt.title(\"Gender Barplot of Cluster3\")\n",
    "sns.countplot(x=\"gender\", data=df3)"
   ]
  },
  {
   "cell_type": "code",
   "execution_count": 69,
   "metadata": {},
   "outputs": [
    {
     "name": "stdout",
     "output_type": "stream",
     "text": [
      "         10k     25k  gender  age  official     35k   pace     30k     5k  \\\n",
      "15910  53.82  140.28       1   41    259.52  209.95   9.90  173.83  26.87   \n",
      "7739   44.63  114.80       0   42    216.52  172.50   8.27  142.17  22.28   \n",
      "21542  58.27  149.07       1   56    288.60  223.07  11.02  184.75  28.83   \n",
      "21543  60.68  179.15       1   57    348.13  275.95  13.28  225.02  28.67   \n",
      "14932  49.87  130.95       1   43    245.80  198.08   9.38  162.35  24.45   \n",
      "...      ...     ...     ...  ...       ...     ...    ...     ...    ...   \n",
      "25733  60.65  157.70       0   44    296.60  236.48  11.32  195.58  29.90   \n",
      "25913  55.30  134.55       0   34    266.83  197.92  10.18  164.02  28.63   \n",
      "25907  60.55  161.78       1   52    297.75  239.95  11.37  200.25  30.07   \n",
      "25736  63.48  172.83       1   40    340.50  267.30  13.00  213.27  31.85   \n",
      "25737  54.48  145.63       0   55    277.77  217.88  10.60  180.48  27.17   \n",
      "\n",
      "         half     20k     40k  Cluster ageGroup  \n",
      "15910  115.60  109.40  245.02        0        4  \n",
      "7739    95.65   90.63  204.42        0        4  \n",
      "21542  124.48  117.78  266.95        0        4  \n",
      "21543  145.12  137.38  325.18        0        4  \n",
      "14932  109.27  103.63  229.63        0        4  \n",
      "...       ...     ...     ...      ...      ...  \n",
      "25733  130.92  123.85  277.73        0        4  \n",
      "25913  113.15  107.32  244.37        0        3  \n",
      "25907  132.87  125.65  280.77        0        4  \n",
      "25736  142.27  134.95  318.63        0        4  \n",
      "25737  120.68  113.75  261.03        0        4  \n",
      "\n",
      "[4718 rows x 14 columns]\n"
     ]
    }
   ],
   "source": [
    "bins= [0,18,26,40,110]\n",
    "labels = ['1','2','3','4']\n",
    "df0['ageGroup'] = pd.cut(df0['age'], bins=bins, labels=labels, right=False)\n",
    "df1['ageGroup'] = pd.cut(df1['age'], bins=bins, labels=labels, right=False)\n",
    "df2['ageGroup'] = pd.cut(df2['age'], bins=bins, labels=labels, right=False)\n",
    "df3['ageGroup'] = pd.cut(df3['age'], bins=bins, labels=labels, right=False)\n",
    "print(df0)"
   ]
  },
  {
   "cell_type": "code",
   "execution_count": 70,
   "metadata": {},
   "outputs": [
    {
     "data": {
      "text/plain": [
       "<matplotlib.axes._subplots.AxesSubplot at 0x204fceb0>"
      ]
     },
     "execution_count": 70,
     "metadata": {},
     "output_type": "execute_result"
    },
    {
     "data": {
      "image/png": "[encoded data removed]",
      "text/plain": [
       "<Figure size 432x288 with 1 Axes>"
      ]
     },
     "metadata": {
      "needs_background": "light"
     },
     "output_type": "display_data"
    }
   ],
   "source": [
    "plt.title(\"AgeGroup Barplot of Cluster0\")\n",
    "sns.countplot(x=\"ageGroup\", data=df0)"
   ]
  },
  {
   "cell_type": "code",
   "execution_count": 71,
   "metadata": {},
   "outputs": [
    {
     "data": {
      "text/plain": [
       "<matplotlib.axes._subplots.AxesSubplot at 0x205276f0>"
      ]
     },
     "execution_count": 71,
     "metadata": {},
     "output_type": "execute_result"
    },
    {
     "data": {
      "image/png": "[encoded data removed]",
      "text/plain": [
       "<Figure size 432x288 with 1 Axes>"
      ]
     },
     "metadata": {
      "needs_background": "light"
     },
     "output_type": "display_data"
    }
   ],
   "source": [
    "plt.title(\"AgeGroup Barplot of Cluster1\")\n",
    "sns.countplot(x=\"ageGroup\", data=df1)"
   ]
  },
  {
   "cell_type": "code",
   "execution_count": 72,
   "metadata": {},
   "outputs": [
    {
     "data": {
      "text/plain": [
       "<matplotlib.axes._subplots.AxesSubplot at 0x20400dd0>"
      ]
     },
     "execution_count": 72,
     "metadata": {},
     "output_type": "execute_result"
    },
    {
     "data": {
      "image/png": "[encoded data removed]",
      "text/plain": [
       "<Figure size 432x288 with 1 Axes>"
      ]
     },
     "metadata": {
      "needs_background": "light"
     },
     "output_type": "display_data"
    }
   ],
   "source": [
    "plt.title(\"AgeGroup Barplot of Cluster2\")\n",
    "sns.countplot(x=\"ageGroup\", data=df2)"
   ]
  },
  {
   "cell_type": "code",
   "execution_count": 74,
   "metadata": {},
   "outputs": [
    {
     "data": {
      "text/plain": [
       "<matplotlib.axes._subplots.AxesSubplot at 0x1e67e170>"
      ]
     },
     "execution_count": 74,
     "metadata": {},
     "output_type": "execute_result"
    },
    {
     "data": {
      "image/png": "[encoded data removed]",
      "text/plain": [
       "<Figure size 432x288 with 1 Axes>"
      ]
     },
     "metadata": {
      "needs_background": "light"
     },
     "output_type": "display_data"
    }
   ],
   "source": [
    "plt.title(\"AgeGroup Barplot of Cluster3\")\n",
    "sns.countplot(x=\"ageGroup\", data=df3)"
   ]
  },
  {
   "cell_type": "code",
   "execution_count": null,
   "metadata": {},
   "outputs": [],
   "source": []
  }
 ],
 "metadata": {
  "kernelspec": {
   "display_name": "Python 3",
   "language": "python",
   "name": "python3"
  },
  "language_info": {
   "codemirror_mode": {
    "name": "ipython",
    "version": 3
   },
   "file_extension": ".py",
   "mimetype": "text/x-python",
   "name": "python",
   "nbconvert_exporter": "python",
   "pygments_lexer": "ipython3",
   "version": "3.7.4"
  },
  "toc": {
   "nav_menu": {},
   "number_sections": true,
   "sideBar": true,
   "skip_h1_title": false,
   "title_cell": "Table of Contents",
   "title_sidebar": "Contents",
   "toc_cell": false,
   "toc_position": {
    "height": "843px",
    "left": "0px",
    "right": "auto",
    "top": "107px",
    "width": "212px"
   },
   "toc_section_display": "block",
   "toc_window_display": true
  }
 },
 "nbformat": 4,
 "nbformat_minor": 2
}
