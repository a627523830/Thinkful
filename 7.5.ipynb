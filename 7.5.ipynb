{
 "cells": [
  {
   "cell_type": "code",
   "execution_count": 1,
   "metadata": {},
   "outputs": [
    {
     "name": "stdout",
     "output_type": "stream",
     "text": [
      "mean:  9.857142857142858\n",
      "median:  10.0\n",
      "variance:  6.408163265306122\n",
      "std. deviation : 2.531435020952764\n",
      "standard error : 1.0334540197243194\n",
      "Mode is 8\n"
     ]
    }
   ],
   "source": [
    "#1.\n",
    "\n",
    "import pandas as pd\n",
    "import numpy as np\n",
    "import statistics\n",
    "ages =[6, 8, 8, 10, 11, 12, 14]\n",
    "\n",
    "def summarystats(ages):\n",
    "    print(\"mean: \",np.mean(ages))\n",
    "    print(\"median: \",np.median(ages))\n",
    "    print(\"variance: \",np.var(ages))\n",
    "    print(\"std. deviation :\",np.std(ages))\n",
    "    print(\"standard error :\",np.std(ages)/np.sqrt(len(ages)-1))\n",
    "    \n",
    "summarystats(ages)\n",
    "\n",
    "print(\"Mode is 8\")"
   ]
  },
  {
   "cell_type": "code",
   "execution_count": 5,
   "metadata": {},
   "outputs": [],
   "source": [
    "#2.\n",
    "\n",
    "#estimate of central tendency: 9.857142857142858 estimate of variance: 2.531435020952764"
   ]
  },
  {
   "cell_type": "code",
   "execution_count": 6,
   "metadata": {},
   "outputs": [],
   "source": [
    "#3.\n",
    "\n",
    "#What changes if Cindy goes from 6 to 7?"
   ]
  },
  {
   "cell_type": "code",
   "execution_count": 6,
   "metadata": {},
   "outputs": [
    {
     "name": "stdout",
     "output_type": "stream",
     "text": [
      "mean:  10.0\n",
      "median:  10.0\n",
      "variance:  5.428571428571429\n",
      "std. deviation : 2.32992949004287\n",
      "standard error : 0.951189731211342\n",
      "Mode is 8\n"
     ]
    }
   ],
   "source": [
    "ages_1 =[7, 8, 8, 10, 11, 12, 14]\n",
    "def summarystats(ages_1):\n",
    "    print(\"mean: \",np.mean(ages_1))\n",
    "    print(\"median: \",np.median(ages_1))\n",
    "    print(\"variance: \",np.var(ages_1))\n",
    "    print(\"std. deviation :\",np.std(ages_1))\n",
    "    print(\"standard error :\",np.std(ages_1)/np.sqrt(len(ages_1)-1))\n",
    "    \n",
    "summarystats(ages_1)\n",
    "print(\"Mode is 8\")"
   ]
  },
  {
   "cell_type": "code",
   "execution_count": 8,
   "metadata": {},
   "outputs": [],
   "source": [
    "#If Cindy changes from 6 to 7, then all the numbers get closer together. The mean goes up and variance, std, and std error get lower."
   ]
  },
  {
   "cell_type": "code",
   "execution_count": 9,
   "metadata": {},
   "outputs": [],
   "source": [
    "#4.\n",
    "\n",
    "#What changes if one of the 8's is replaced with a 1? Does this change the central tendency or variance estimation methods?"
   ]
  },
  {
   "cell_type": "code",
   "execution_count": 7,
   "metadata": {},
   "outputs": [
    {
     "name": "stdout",
     "output_type": "stream",
     "text": [
      "mean:  9.0\n",
      "median:  10.0\n",
      "variance:  15.428571428571429\n",
      "std. deviation : 3.927922024247863\n",
      "standard error : 1.6035674514745466\n",
      "There is no mode\n"
     ]
    }
   ],
   "source": [
    "age_2 = [7, 1, 8, 10, 11, 12, 14]\n",
    "def summarystats(age_2):\n",
    "    print(\"mean: \",np.mean(age_2))\n",
    "    print(\"median: \",np.median(age_2))\n",
    "    print(\"variance: \",np.var(age_2))\n",
    "    print(\"std. deviation :\",np.std(age_2))\n",
    "    print(\"standard error :\",np.std(age_2)/np.sqrt(len(age_2)-1))\n",
    "    \n",
    "summarystats(age_2)\n",
    "print(\"There is no mode\")"
   ]
  },
  {
   "cell_type": "code",
   "execution_count": 11,
   "metadata": {},
   "outputs": [],
   "source": [
    "#Yes, the central tendency and variance estimation will be very different because 8 was close to the mean. \n",
    "#But changing it to a 1 will throw everything way off."
   ]
  },
  {
   "cell_type": "code",
   "execution_count": 12,
   "metadata": {},
   "outputs": [],
   "source": [
    "#5.\n",
    "\n",
    "#20%, 23%, 17%, 5%, were fans What total percentage were fans?"
   ]
  },
  {
   "cell_type": "code",
   "execution_count": 8,
   "metadata": {},
   "outputs": [
    {
     "name": "stdout",
     "output_type": "stream",
     "text": [
      "The overal average percentage of fans was 18.5\n"
     ]
    }
   ],
   "source": [
    "df_rating = pd.DataFrame()\n",
    "df_rating['approval'] = [20, 23, 17, 5]\n",
    "print(\"The overal average percentage of fans was\",np.median(df_rating['approval']))"
   ]
  }
 ],
 "metadata": {
  "kernelspec": {
   "display_name": "Python 3",
   "language": "python",
   "name": "python3"
  },
  "language_info": {
   "codemirror_mode": {
    "name": "ipython",
    "version": 3
   },
   "file_extension": ".py",
   "mimetype": "text/x-python",
   "name": "python",
   "nbconvert_exporter": "python",
   "pygments_lexer": "ipython3",
   "version": "3.6.5"
  }
 },
 "nbformat": 4,
 "nbformat_minor": 2
}
